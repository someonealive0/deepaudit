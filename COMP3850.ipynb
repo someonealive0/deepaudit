{
 "cells": [
  {
   "cell_type": "markdown",
   "id": "30072be0",
   "metadata": {},
   "source": [
    "## Imports"
   ]
  },
  {
   "cell_type": "code",
   "execution_count": 1,
   "id": "e03fadeb",
   "metadata": {},
   "outputs": [],
   "source": [
    "import pandas as pd\n",
    "import os\n",
    "from openpyxl import Workbook\n",
    "from simplified_scrapy import SimplifiedDoc, utils\n",
    "import matplotlib.pyplot as plt\n",
    "import seaborn as sns\n",
    "from collections import defaultdict\n",
    "pd.set_option('display.float_format', '{:.2f}'.format)"
   ]
  },
  {
   "cell_type": "markdown",
   "id": "2003b939",
   "metadata": {},
   "source": [
    "## Morningstar dataset conversion to Excel file (.xlsx)"
   ]
  },
  {
   "cell_type": "code",
   "execution_count": 2,
   "id": "44e7cbb2",
   "metadata": {},
   "outputs": [
    {
     "data": {
      "text/plain": [
       "\"\\nimport os\\nfiles = []\\nfor i in os.walk('./datasets'):\\n    files= i[2]\\n    \\nprint(files)\\n\""
      ]
     },
     "execution_count": 2,
     "metadata": {},
     "output_type": "execute_result"
    }
   ],
   "source": [
    "\"\"\"\n",
    "import os\n",
    "files = []\n",
    "for i in os.walk('./datasets'):\n",
    "    files= i[2]\n",
    "    \n",
    "print(files)\n",
    "\"\"\""
   ]
  },
  {
   "cell_type": "code",
   "execution_count": 3,
   "id": "54f54ec9",
   "metadata": {},
   "outputs": [
    {
     "data": {
      "text/plain": [
       "\"\\ndef readFile(filename):\\n    xml = utils.getFileContent(filename)\\n    doc = SimplifiedDoc(xml)\\n    tables = doc.selects('Worksheet').selects('Row').selects('Cell').text # Get all data\\n    sheetNames = doc.selects('Worksheet>ss:Name()') # Get sheet name\\n    return sheetNames,tables,filename.split('/')[2].split('.')[0]\\n\\ndef to_Excel(sheetNames,tables, filename):\\n    wb = Workbook() # Create Workbook\\n    for i in range(len(sheetNames)):\\n        worksheet = wb.create_sheet(sheetNames[i]) # Create sheet\\n        for row in tables[i]:\\n            worksheet.append(row)\\n    print('./datasets_excel/'+ filename + '.xlsx')\\n    wb.save('./datasets_excel/'+ filename + '.xlsx') # Save file\\n\""
      ]
     },
     "execution_count": 3,
     "metadata": {},
     "output_type": "execute_result"
    }
   ],
   "source": [
    "\"\"\"\n",
    "def readFile(filename):\n",
    "    xml = utils.getFileContent(filename)\n",
    "    doc = SimplifiedDoc(xml)\n",
    "    tables = doc.selects('Worksheet').selects('Row').selects('Cell').text # Get all data\n",
    "    sheetNames = doc.selects('Worksheet>ss:Name()') # Get sheet name\n",
    "    return sheetNames,tables,filename.split('/')[2].split('.')[0]\n",
    "\n",
    "def to_Excel(sheetNames,tables, filename):\n",
    "    wb = Workbook() # Create Workbook\n",
    "    for i in range(len(sheetNames)):\n",
    "        worksheet = wb.create_sheet(sheetNames[i]) # Create sheet\n",
    "        for row in tables[i]:\n",
    "            worksheet.append(row)\n",
    "    print('./datasets_excel/'+ filename + '.xlsx')\n",
    "    wb.save('./datasets_excel/'+ filename + '.xlsx') # Save file\n",
    "\"\"\""
   ]
  },
  {
   "cell_type": "code",
   "execution_count": 4,
   "id": "6c1dc739",
   "metadata": {},
   "outputs": [
    {
     "data": {
      "text/plain": [
       "'\\nfor filename in (os.listdir(\"./datasets\")):\\n        name = filename.split(\\'.\\')[0]\\n        print(name)\\n        \\n        dst = name + \".xml\"\\n        src =\\'./datasets/\\'+ filename\\n        dst =\\'./datasets/\\'+ dst\\n          \\n        # rename() function will\\n        # rename all the files\\n        os.rename(src, dst)\\n'"
      ]
     },
     "execution_count": 4,
     "metadata": {},
     "output_type": "execute_result"
    }
   ],
   "source": [
    "\"\"\"\n",
    "for filename in (os.listdir(\"./datasets\")):\n",
    "        name = filename.split('.')[0]\n",
    "        print(name)\n",
    "        \n",
    "        dst = name + \".xml\"\n",
    "        src ='./datasets/'+ filename\n",
    "        dst ='./datasets/'+ dst\n",
    "          \n",
    "        # rename() function will\n",
    "        # rename all the files\n",
    "        os.rename(src, dst)\n",
    "\"\"\""
   ]
  },
  {
   "cell_type": "code",
   "execution_count": 5,
   "id": "6f58d00f",
   "metadata": {},
   "outputs": [
    {
     "data": {
      "text/plain": [
       "'\\nfor file in files:\\n    to_Excel(*readFile(\"./datasets/\" + file))\\n'"
      ]
     },
     "execution_count": 5,
     "metadata": {},
     "output_type": "execute_result"
    }
   ],
   "source": [
    "\"\"\"\n",
    "for file in files:\n",
    "    to_Excel(*readFile(\"./datasets/\" + file))\n",
    "\"\"\""
   ]
  },
  {
   "cell_type": "markdown",
   "id": "1444d03e",
   "metadata": {},
   "source": [
    "## Import datasets into Pandas dataframes"
   ]
  },
  {
   "cell_type": "code",
   "execution_count": 6,
   "id": "48a17e38",
   "metadata": {},
   "outputs": [],
   "source": [
    "files = []\n",
    "for i in os.walk('./datasets_excel/'):\n",
    "    files=i[2]\n",
    "\n",
    "workbooks = {}\n",
    "for file in files:\n",
    "    workbooks[file.split('.')[0]] = pd.read_excel('./datasets_excel/' + file, sheet_name=None)"
   ]
  },
  {
   "cell_type": "markdown",
   "id": "da4a0b0b",
   "metadata": {},
   "source": [
    "## Cleaning"
   ]
  },
  {
   "cell_type": "markdown",
   "id": "af87b19f",
   "metadata": {},
   "source": [
    "### Normalising statement items (WIP)"
   ]
  },
  {
   "cell_type": "code",
   "execution_count": 7,
   "id": "72c1b60f",
   "metadata": {},
   "outputs": [],
   "source": [
    "statement_items = defaultdict(set)\n",
    "\n",
    "for workbook in workbooks:\n",
    "    for sheet in workbooks[workbook]:\n",
    "        if sheet != 'Sheet' and 'Item' in workbooks[workbook][sheet]:\n",
    "            statement_items[sheet].update(workbooks[workbook][sheet]['Item'])"
   ]
  },
  {
   "cell_type": "markdown",
   "id": "53c30a96",
   "metadata": {},
   "source": [
    "### Restructuring datasets and creating combined HY and FY dataset"
   ]
  },
  {
   "cell_type": "code",
   "execution_count": 8,
   "id": "d8928f73",
   "metadata": {
    "scrolled": false
   },
   "outputs": [
    {
     "name": "stdout",
     "output_type": "stream",
     "text": [
      "Missing tab: ANZ_FY Sundry Analysis\n",
      "Missing tab: CBA_FY Sundry Analysis\n",
      "Missing tab: NAB_FY Sundry Analysis\n",
      "Missing tab: WBC_FY Sundry Analysis\n"
     ]
    }
   ],
   "source": [
    "workbooks_combined = defaultdict(dict)\n",
    "workbooks_keys = list(workbooks.keys())\n",
    "\n",
    "for i in range(len(workbooks)//2):\n",
    "    for sheet in statement_items:\n",
    "        workbook_FY = workbooks[workbooks_keys[i*2]] # Reading in the full-yearly statements\n",
    "        workbook_HY = workbooks[workbooks_keys[i*2 + 1]] # Reading in the half-yearly statements\n",
    "        new_sheet = _ \n",
    "        \n",
    "        if sheet in workbook_FY:\n",
    "            sheet_FY = workbook_FY[sheet].drop(['ASX Code', 'Company Name'], axis=1)\n",
    "            sheet_HY = workbook_HY[sheet].drop(['ASX Code', 'Company Name'], axis=1)\n",
    "\n",
    "            new_sheet = pd.concat([sheet_FY, sheet_HY], axis=1, join='inner')\n",
    "            new_sheet = new_sheet.loc[:,~new_sheet.columns.duplicated()] # Drop extra 'item' \n",
    "            new_sheet = new_sheet.set_index(['Item'])\n",
    "            \n",
    "            new_sheet.columns = pd.to_datetime(new_sheet.columns, format='%m/%y')\n",
    "            new_sheet = new_sheet.sort_index(axis=1)\n",
    "            \n",
    "            new_sheet = new_sheet.replace('--', 0, regex=True)\n",
    "            new_sheet = new_sheet.astype('float')\n",
    "\n",
    "            workbooks_combined[workbooks_keys[i*2].split('_')[0]][sheet] = new_sheet.transpose()    \n",
    "        else:\n",
    "            print(\"Missing tab:\", workbooks_keys[i*2], sheet)            "
   ]
  },
  {
   "cell_type": "code",
   "execution_count": 9,
   "id": "7785869e",
   "metadata": {
    "scrolled": false
   },
   "outputs": [
    {
     "name": "stdout",
     "output_type": "stream",
     "text": [
      "Missing tab: ANZ_FY Sundry Analysis\n",
      "Missing tab: ANZ_HY Sundry Analysis\n",
      "Missing tab: CBA_FY Sundry Analysis\n",
      "Missing tab: CBA_HY Sundry Analysis\n",
      "Missing tab: NAB_FY Sundry Analysis\n",
      "Missing tab: NAB_HY Sundry Analysis\n",
      "Missing tab: WBC_FY Sundry Analysis\n",
      "Missing tab: WBC_HY Sundry Analysis\n"
     ]
    }
   ],
   "source": [
    "workbooks_separated = defaultdict(lambda: defaultdict(dict))\n",
    "workbooks_keys = list(workbooks.keys())\n",
    "\n",
    "for workbook in workbooks:\n",
    "    for sheet in statement_items:       \n",
    "        if sheet in workbooks[workbook]:\n",
    "            new_sheet = workbooks[workbook][sheet].drop(['ASX Code', 'Company Name'], axis=1)\n",
    "            \n",
    "            new_sheet = new_sheet.set_index(['Item'])\n",
    "            new_sheet.columns = pd.to_datetime(new_sheet.columns, format='%m/%y')\n",
    "            new_sheet = new_sheet.sort_index(axis=1)\n",
    "            \n",
    "            new_sheet = new_sheet.replace('--', 0, regex=True)\n",
    "            new_sheet = new_sheet.astype('float')\n",
    "\n",
    "            workbooks_separated[workbook.split('_')[0]][workbook.split('_')[1]][sheet] = new_sheet.transpose()\n",
    "        else:\n",
    "            print(\"Missing tab:\", workbook, sheet)            "
   ]
  },
  {
   "cell_type": "markdown",
   "id": "cd1aae54",
   "metadata": {},
   "source": [
    "### Removing correlated features (WIP)"
   ]
  },
  {
   "cell_type": "code",
   "execution_count": 10,
   "id": "8ce2731f",
   "metadata": {},
   "outputs": [
    {
     "name": "stdout",
     "output_type": "stream",
     "text": [
      "44\n"
     ]
    },
    {
     "data": {
      "text/plain": [
       "<Figure size 720x720 with 0 Axes>"
      ]
     },
     "metadata": {},
     "output_type": "display_data"
    }
   ],
   "source": [
    "plt.figure(figsize=(10, 10))\n",
    "cm = workbooks_separated['ADH']['FY']['Profit Loss'].corr().abs()\n",
    "cm_sort = cm.unstack()\n",
    "cm_sort = cm_sort.sort_values(kind=\"quicksort\", ascending=False)\n",
    "\n",
    "cm_sort = cm_sort[cm_sort > 0.99]\n",
    "\n",
    "cm_sort.head()\n",
    "\n",
    "uncorr_items = set()\n",
    "\n",
    "for multidx in cm_sort.index:\n",
    "    if multidx[0] != multidx[1]:\n",
    "        uncorr_items.add((multidx[0],multidx[1]))\n",
    "    \n",
    "print(len(uncorr_items))"
   ]
  },
  {
   "cell_type": "code",
   "execution_count": 11,
   "id": "a8aed0cb",
   "metadata": {},
   "outputs": [],
   "source": [
    "workbook_items = defaultdict(lambda x : pd.DataFrame(columns=workbooks.keys()))\n",
    "\n",
    "for workbook in workbooks_separated:\n",
    "    for period in workbooks_separated[workbook]:\n",
    "        for sheet in workbooks_separated[workbook][period]:\n",
    "            for item in workbooks_separated[workbook][period][sheet]:\n",
    "                break"
   ]
  },
  {
   "cell_type": "markdown",
   "id": "9e9e790e",
   "metadata": {},
   "source": [
    "## Visualisation"
   ]
  },
  {
   "cell_type": "code",
   "execution_count": 12,
   "id": "c51edcac",
   "metadata": {
    "scrolled": true
   },
   "outputs": [
    {
     "data": {
      "image/png": "[encoded data removed]",
      "text/plain": [
       "<Figure size 432x288 with 1 Axes>"
      ]
     },
     "metadata": {
      "needs_background": "light"
     },
     "output_type": "display_data"
    }
   ],
   "source": [
    "fig, ax = plt.subplots()\n",
    "\n",
    "for workbook in workbooks_combined:\n",
    "    if 'Operating Revenue' in workbooks_combined[workbook]['Profit Loss']:\n",
    "        workbooks_combined[workbook]['Profit Loss']['Operating Revenue'].plot()\n"
   ]
  },
  {
   "cell_type": "code",
   "execution_count": 13,
   "id": "d6422872",
   "metadata": {},
   "outputs": [
    {
     "data": {
      "image/png": "[encoded data removed]",
      "text/plain": [
       "<Figure size 432x288 with 1 Axes>"
      ]
     },
     "metadata": {
      "needs_background": "light"
     },
     "output_type": "display_data"
    }
   ],
   "source": [
    "fig, ax = plt.subplots()\n",
    "\n",
    "for workbook in workbooks_separated:\n",
    "    for period in workbooks_separated[workbook]:\n",
    "         if 'Operating Revenue' in workbooks_separated[workbook][period]['Profit Loss']:\n",
    "                workbooks_separated[workbook][period]['Profit Loss']['Operating Revenue'].plot.hist()\n",
    "   \n"
   ]
  },
  {
   "cell_type": "code",
   "execution_count": 14,
   "id": "7741306c",
   "metadata": {},
   "outputs": [
    {
     "data": {
      "text/plain": [
       "[Text(0, 0, '12/01/15'),\n",
       " Text(1, 0, '12/01/16'),\n",
       " Text(2, 0, '12/01/17'),\n",
       " Text(3, 0, '12/01/18'),\n",
       " Text(4, 0, '12/01/19'),\n",
       " Text(5, 0, '12/01/20')]"
      ]
     },
     "execution_count": 14,
     "metadata": {},
     "output_type": "execute_result"
    },
    {
     "data": {
      "image/png": "[encoded data removed]",
      "text/plain": [
       "<Figure size 432x288 with 1 Axes>"
      ]
     },
     "metadata": {
      "needs_background": "light"
     },
     "output_type": "display_data"
    }
   ],
   "source": [
    "fig, ax = plt.subplots()\n",
    "\n",
    "test = workbooks_separated['ADH']['FY']['Ratio Analysis'].reset_index().melt('index', var_name='cols',  value_name='vals')\n",
    "test = test[test['cols'] == 'Net Profit Margin (%)']\n",
    "test['index'] = test['index'].dt.strftime(\"%m/%d/%y\")\n",
    "\n",
    "test2 = workbooks_separated['ADH']['HY']['Ratio Analysis'].reset_index().melt('index', var_name='cols',  value_name='vals')\n",
    "test2 = test2[test2['cols'] == 'Net Profit Margin (%)']\n",
    "test2['index'] = test2['index'].dt.strftime(\"%m/%d/%y\")\n",
    "\n",
    "\n",
    "\n",
    "g = sns.pointplot(x=\"index\", y=\"vals\", hue='cols', data=test, kind='point', ha='center', ax=ax)\n",
    "g.set_xticklabels(g.get_xticklabels(), rotation=30, ha='right')\n",
    "\n",
    "g2 = sns.pointplot(x=\"index\", y=\"vals\", hue='cols', data=test2, kind='point', ha='center', ax=ax)\n",
    "g2.set_xticklabels(g2.get_xticklabels(), rotation=30, ha='right')\n",
    "\n",
    "\n"
   ]
  },
  {
   "cell_type": "markdown",
   "id": "e130b6e4",
   "metadata": {},
   "source": [
    "## Ratio Analysis"
   ]
  },
  {
   "cell_type": "code",
   "execution_count": 61,
   "id": "9af9ca7b",
   "metadata": {},
   "outputs": [],
   "source": [
    "def calc_DSRI(company):\n",
    "    days_receivables = company['Ratio Analysis']['Days Receivables']\n",
    "    for row in range(1, len(days_receivables)):\n",
    "        t1 = days_receivables.iloc[row]\n",
    "        t0 = days_receivables.iloc[row-1]\n",
    "        \n",
    "        if t1 != 0 and t0 != 0:\n",
    "            print(t1/t0)\n",
    "        else:\n",
    "            print('N/A')"
   ]
  },
  {
   "cell_type": "code",
   "execution_count": 63,
   "id": "d8e9bda9",
   "metadata": {},
   "outputs": [
    {
     "name": "stdout",
     "output_type": "stream",
     "text": [
      "1.0491996577415115\n",
      "0.966538702523148\n",
      "0.06420262490417711\n",
      "2.780911932045837\n",
      "0.6007837939083077\n"
     ]
    }
   ],
   "source": [
    "calc_DSRI(workbooks_separated['ADH']['HY'])"
   ]
  },
  {
   "cell_type": "code",
   "execution_count": 56,
   "id": "1eb98f11",
   "metadata": {},
   "outputs": [],
   "source": [
    "def calc_TATA(company):\n",
    "    for year in company['Profit Loss'].index:\n",
    "        incs = company['Profit Loss'].loc[year]\n",
    "        bs = company['Balance Sheet'].loc[year]\n",
    "        cf = company['Cash Flow'].loc[year]\n",
    "\n",
    "        res = incs['PreTax Profit'] - cf['Net Operating Cashflows'] - cf['Net Investing Cashflows']\n",
    "        res = res / bs['Total Assets']\n",
    "        print(res)"
   ]
  },
  {
   "cell_type": "code",
   "execution_count": 65,
   "id": "b39858d2",
   "metadata": {},
   "outputs": [
    {
     "name": "stdout",
     "output_type": "stream",
     "text": [
      "0.0\n",
      "-0.07648714413687507\n",
      "0.14765037978083057\n",
      "0.0654293884710999\n",
      "0.0606175606303816\n",
      "0.0676640954183589\n",
      "0.02417713451614893\n",
      "-0.015864368209551404\n"
     ]
    }
   ],
   "source": [
    "calc_TATA(workbooks_separated['ADH']['FY'])"
   ]
  }
 ],
 "metadata": {
  "kernelspec": {
   "display_name": "Python 3",
   "language": "python",
   "name": "python3"
  },
  "language_info": {
   "codemirror_mode": {
    "name": "ipython",
    "version": 3
   },
   "file_extension": ".py",
   "mimetype": "text/x-python",
   "name": "python",
   "nbconvert_exporter": "python",
   "pygments_lexer": "ipython3",
   "version": "3.8.8"
  }
 },
 "nbformat": 4,
 "nbformat_minor": 5
}
