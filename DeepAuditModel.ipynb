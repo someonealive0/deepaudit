{
 "cells": [
  {
   "cell_type": "markdown",
   "id": "e4bfed5f",
   "metadata": {},
   "source": [
    "## Imports"
   ]
  },
  {
   "cell_type": "markdown",
   "id": "48ecb767",
   "metadata": {},
   "source": [
    "#### Installing necessary libraries"
   ]
  },
  {
   "cell_type": "code",
   "execution_count": 1,
   "id": "72aa13f9",
   "metadata": {},
   "outputs": [],
   "source": [
    "# pip install pandas openpyxl simplified_scrapy matplotlib seaborn sklearn"
   ]
  },
  {
   "cell_type": "markdown",
   "id": "0bcbfe28",
   "metadata": {},
   "source": [
    "#### Importing neccessary libraries"
   ]
  },
  {
   "cell_type": "code",
   "execution_count": 2,
   "id": "33a3ddf7",
   "metadata": {},
   "outputs": [],
   "source": [
    "import pandas as pd\n",
    "import numpy as np\n",
    "import os\n",
    "from openpyxl import Workbook\n",
    "from simplified_scrapy import SimplifiedDoc, utils\n",
    "import matplotlib.pyplot as plt\n",
    "import seaborn as sns\n",
    "import datetime\n",
    "from collections import defaultdict\n",
    "from sklearn.linear_model import LogisticRegression\n",
    "from sklearn.preprocessing import MinMaxScaler\n",
    "from sklearn.model_selection import train_test_split\n",
    "from sklearn import metrics\n",
    "from sklearn.preprocessing import RobustScaler\n",
    "from sklearn.neural_network import MLPRegressor\n",
    "\n",
    "pd.set_option('display.float_format', '{:.2f}'.format)"
   ]
  },
  {
   "cell_type": "markdown",
   "id": "9f453695",
   "metadata": {},
   "source": [
    "## Morningstar dataset conversion to Excel file (.xlsx)"
   ]
  },
  {
   "cell_type": "markdown",
   "id": "d7e84ff3",
   "metadata": {},
   "source": [
    "#### Converting datasets from .csv to .xlsx format to be imported by Pandas"
   ]
  },
  {
   "cell_type": "code",
   "execution_count": 3,
   "id": "a23c2605",
   "metadata": {},
   "outputs": [],
   "source": [
    "# Func to open files in /datasets/ folder\n",
    "def open_files():\n",
    "    files = []\n",
    "    for i in os.walk('./datasets'):\n",
    "        files= i[2]\n",
    "\n",
    "    return files\n",
    "\n",
    "# Read files as XML    \n",
    "def readFile(filename):\n",
    "    xml = utils.getFileContent(filename)\n",
    "    doc = SimplifiedDoc(xml)\n",
    "    tables = doc.selects('Worksheet').selects('Row').selects('Cell').text # Get all data\n",
    "    sheetNames = doc.selects('Worksheet>ss:Name()') # Get sheet name\n",
    "    return sheetNames,tables,filename.split('/')[2].split('.')[0]\n",
    "\n",
    "# Create Excel workbook from file\n",
    "def to_Excel(sheetNames,tables, filename):\n",
    "    wb = Workbook() # Create Workbook\n",
    "    for i in range(len(sheetNames)):\n",
    "        worksheet = wb.create_sheet(sheetNames[i]) # Create sheet\n",
    "        for row in tables[i]:\n",
    "            worksheet.append(row)\n",
    "    print('./datasets_excel/'+ filename + '.xlsx')\n",
    "    wb.save('./datasets_excel/'+ filename + '.xlsx') # Save file"
   ]
  },
  {
   "cell_type": "code",
   "execution_count": 4,
   "id": "6c6ffbef",
   "metadata": {},
   "outputs": [],
   "source": [
    "# Rename files to .xml file (because the .csv files from morningstar are actually formatted as XML)\n",
    "def rename_files():\n",
    "    for filename in (os.listdir(\"./datasets\")):\n",
    "        name = filename.split('.')[0]\n",
    "        print(name)\n",
    "        \n",
    "        dst = name + \".xml\"\n",
    "        src ='./datasets/'+ filename\n",
    "        dst ='./datasets/'+ dst\n",
    "          \n",
    "        # rename() function will\n",
    "        # rename all the files\n",
    "        os.rename(src, dst)\n",
    "        \n",
    "# Convert files from .xml to .xlsx\n",
    "def convert_files():    \n",
    "    files = open_files()\n",
    "    rename_files()\n",
    "\n",
    "    for file in files:\n",
    "        to_Excel(*readFile(\"./datasets/\" + file))"
   ]
  },
  {
   "cell_type": "code",
   "execution_count": 5,
   "id": "529dc3bf",
   "metadata": {},
   "outputs": [],
   "source": [
    "#convert_files()"
   ]
  },
  {
   "cell_type": "markdown",
   "id": "d4236d57",
   "metadata": {},
   "source": [
    "## Import datasets into Pandas dataframes"
   ]
  },
  {
   "cell_type": "markdown",
   "id": "548b390a",
   "metadata": {},
   "source": [
    "#### Importing all workbooks (with multiple worksheets) into the datasets_excel file. Each workbook corresponds to a company."
   ]
  },
  {
   "cell_type": "code",
   "execution_count": 6,
   "id": "9769b982",
   "metadata": {},
   "outputs": [],
   "source": [
    "files = []\n",
    "for i in os.walk('./datasets_excel/'):\n",
    "    files=i[2]\n",
    "    \n",
    "files = sorted(files)\n",
    "\n",
    "workbooks = {}\n",
    "for file in files:\n",
    "    workbooks[file.split('.')[0]] = pd.read_excel('./datasets_excel/' + file, sheet_name=None)"
   ]
  },
  {
   "cell_type": "markdown",
   "id": "e3c28e94",
   "metadata": {},
   "source": [
    "## Cleaning"
   ]
  },
  {
   "cell_type": "markdown",
   "id": "72ea6b3b",
   "metadata": {},
   "source": [
    "### Normalising statement items (WIP)"
   ]
  },
  {
   "cell_type": "markdown",
   "id": "2c72cc75",
   "metadata": {},
   "source": [
    "#### Creating an easy naming scheme to use across the notebook."
   ]
  },
  {
   "cell_type": "code",
   "execution_count": 7,
   "id": "d924f05c",
   "metadata": {},
   "outputs": [],
   "source": [
    "statement_items = defaultdict(set)\n",
    "\n",
    "for company in workbooks:\n",
    "    for sheet in workbooks[company]:\n",
    "        if sheet != 'Sheet' and 'Item' in workbooks[company][sheet]:\n",
    "            statement_items[sheet].update(workbooks[company][sheet]['Item'])"
   ]
  },
  {
   "cell_type": "markdown",
   "id": "35a7595e",
   "metadata": {},
   "source": [
    "### Restructuring datasets and creating combined HY and FY dataset"
   ]
  },
  {
   "cell_type": "markdown",
   "id": "0b9e02aa",
   "metadata": {},
   "source": [
    "#### Creating a combined workbook with half yearly and full yearly data all in one while detecting any missing sheets or duplicates."
   ]
  },
  {
   "cell_type": "code",
   "execution_count": 8,
   "id": "946325ca",
   "metadata": {
    "scrolled": false
   },
   "outputs": [
    {
     "name": "stdout",
     "output_type": "stream",
     "text": [
      "Missing tab: ANZ_FY Sundry Analysis\n",
      "Missing tab: CBA_FY Sundry Analysis\n",
      "Missing tab: NAB_FY Sundry Analysis\n",
      "Missing tab: WBC_FY Sundry Analysis\n"
     ]
    }
   ],
   "source": [
    "workbooks_combined = defaultdict(dict)\n",
    "workbooks_keys = list(workbooks.keys())\n",
    "\n",
    "for i in range(len(workbooks)//2):\n",
    "    for sheet in statement_items:\n",
    "        workbook_FY = workbooks[workbooks_keys[i*2]] # Reading in the full-yearly statements\n",
    "        workbook_HY = workbooks[workbooks_keys[i*2 + 1]] # Reading in the half-yearly statements\n",
    "        new_sheet = _ \n",
    "        \n",
    "        if sheet in workbook_FY and sheet in workbook_HY:\n",
    "            sheet_FY = workbook_FY[sheet].drop(['ASX Code', 'Company Name'], axis=1)\n",
    "            sheet_HY = workbook_HY[sheet].drop(['ASX Code', 'Company Name'], axis=1)\n",
    "\n",
    "            new_sheet = pd.concat([sheet_FY, sheet_HY], axis=1, join='inner')\n",
    "            new_sheet = new_sheet.loc[:,~new_sheet.columns.duplicated()] # Drop extra 'item' \n",
    "            new_sheet = new_sheet.set_index(['Item'])\n",
    "            \n",
    "            new_sheet.columns = pd.to_datetime(new_sheet.columns, format='%m/%y')\n",
    "            new_sheet = new_sheet.sort_index(axis=1)\n",
    "            \n",
    "            new_sheet = new_sheet.replace('--', 0, regex=True)\n",
    "            new_sheet = new_sheet.astype('float')\n",
    "\n",
    "            workbooks_combined[workbooks_keys[i*2].split('_')[0]][sheet] = new_sheet.transpose()    \n",
    "        else:\n",
    "            print(\"Missing tab:\", workbooks_keys[i*2], sheet)            "
   ]
  },
  {
   "cell_type": "markdown",
   "id": "ad1ec5d0",
   "metadata": {},
   "source": [
    "#### Constructing a seperated workbook such that each company's half-yearly and yearly data is cleaned and collated separately."
   ]
  },
  {
   "cell_type": "code",
   "execution_count": 9,
   "id": "acf6136c",
   "metadata": {
    "scrolled": false
   },
   "outputs": [
    {
     "name": "stdout",
     "output_type": "stream",
     "text": [
      "Missing tab: ANZ_FY Sundry Analysis\n",
      "Missing tab: ANZ_HY Sundry Analysis\n",
      "Missing tab: CBA_FY Sundry Analysis\n",
      "Missing tab: CBA_HY Sundry Analysis\n",
      "Missing tab: NAB_FY Sundry Analysis\n",
      "Missing tab: NAB_HY Sundry Analysis\n",
      "Missing tab: WBC_FY Sundry Analysis\n",
      "Missing tab: WBC_HY Sundry Analysis\n"
     ]
    }
   ],
   "source": [
    "workbooks_separated = defaultdict(lambda: defaultdict(dict))\n",
    "workbooks_keys = list(workbooks.keys())\n",
    "\n",
    "for workbook in workbooks:\n",
    "    for sheet in statement_items:       \n",
    "        if sheet in workbooks[workbook]:\n",
    "            new_sheet = workbooks[workbook][sheet].drop(['ASX Code', 'Company Name'], axis=1)\n",
    "            \n",
    "            new_sheet = new_sheet.set_index(['Item'])\n",
    "            new_sheet.columns = pd.to_datetime(new_sheet.columns, format='%m/%y')\n",
    "            new_sheet = new_sheet.sort_index(axis=1)\n",
    "            \n",
    "            new_sheet = new_sheet.replace('--', 0, regex=True)\n",
    "            new_sheet = new_sheet.astype('float')\n",
    "\n",
    "            workbooks_separated[workbook.split('_')[0]][workbook.split('_')[1]][sheet] = new_sheet.transpose()\n",
    "        else:\n",
    "            print(\"Missing tab:\", workbook, sheet)            "
   ]
  },
  {
   "cell_type": "markdown",
   "id": "8a860c74",
   "metadata": {},
   "source": [
    "### Identifying correlated features"
   ]
  },
  {
   "cell_type": "markdown",
   "id": "e1b6530d",
   "metadata": {},
   "source": [
    "#### Show the correlation matrix for the items that appear in ADH's full yearly income statement."
   ]
  },
  {
   "cell_type": "code",
   "execution_count": 10,
   "id": "57f0ddfc",
   "metadata": {},
   "outputs": [
    {
     "data": {
      "text/html": [
       "<div>\n",
       "<style scoped>\n",
       "    .dataframe tbody tr th:only-of-type {\n",
       "        vertical-align: middle;\n",
       "    }\n",
       "\n",
       "    .dataframe tbody tr th {\n",
       "        vertical-align: top;\n",
       "    }\n",
       "\n",
       "    .dataframe thead th {\n",
       "        text-align: right;\n",
       "    }\n",
       "</style>\n",
       "<table border=\"1\" class=\"dataframe\">\n",
       "  <thead>\n",
       "    <tr style=\"text-align: right;\">\n",
       "      <th>Item</th>\n",
       "      <th>Operating Revenue</th>\n",
       "      <th>Other Revenue</th>\n",
       "      <th>Total Revenue Excluding Interest</th>\n",
       "      <th>Operating Expenses</th>\n",
       "      <th>EBITDA</th>\n",
       "      <th>Depreciation</th>\n",
       "      <th>Amortisation</th>\n",
       "      <th>Depreciation and Amortisation</th>\n",
       "      <th>EBIT</th>\n",
       "      <th>Interest Revenue</th>\n",
       "      <th>...</th>\n",
       "      <th>Net Profit after Tax Before Abnormals</th>\n",
       "      <th>Abnormals</th>\n",
       "      <th>Abnormals Tax</th>\n",
       "      <th>Net Abnormals</th>\n",
       "      <th>Reported NPAT After Abnormals</th>\n",
       "      <th>Outside Equity Interests</th>\n",
       "      <th>Shares Outstanding at Period End</th>\n",
       "      <th>Weighted Average Number of Shares</th>\n",
       "      <th>EPS Adjusted (cents/share)</th>\n",
       "      <th>EPS After Abnormals (cents/share)</th>\n",
       "    </tr>\n",
       "    <tr>\n",
       "      <th>Item</th>\n",
       "      <th></th>\n",
       "      <th></th>\n",
       "      <th></th>\n",
       "      <th></th>\n",
       "      <th></th>\n",
       "      <th></th>\n",
       "      <th></th>\n",
       "      <th></th>\n",
       "      <th></th>\n",
       "      <th></th>\n",
       "      <th></th>\n",
       "      <th></th>\n",
       "      <th></th>\n",
       "      <th></th>\n",
       "      <th></th>\n",
       "      <th></th>\n",
       "      <th></th>\n",
       "      <th></th>\n",
       "      <th></th>\n",
       "      <th></th>\n",
       "      <th></th>\n",
       "    </tr>\n",
       "  </thead>\n",
       "  <tbody>\n",
       "    <tr>\n",
       "      <th>Operating Revenue</th>\n",
       "      <td>1.00</td>\n",
       "      <td>0.29</td>\n",
       "      <td>1.00</td>\n",
       "      <td>0.98</td>\n",
       "      <td>0.90</td>\n",
       "      <td>0.76</td>\n",
       "      <td>0.87</td>\n",
       "      <td>0.78</td>\n",
       "      <td>0.93</td>\n",
       "      <td>0.10</td>\n",
       "      <td>...</td>\n",
       "      <td>0.91</td>\n",
       "      <td>0.67</td>\n",
       "      <td>NaN</td>\n",
       "      <td>0.67</td>\n",
       "      <td>0.90</td>\n",
       "      <td>NaN</td>\n",
       "      <td>0.67</td>\n",
       "      <td>0.82</td>\n",
       "      <td>0.92</td>\n",
       "      <td>0.91</td>\n",
       "    </tr>\n",
       "    <tr>\n",
       "      <th>Other Revenue</th>\n",
       "      <td>0.29</td>\n",
       "      <td>1.00</td>\n",
       "      <td>0.29</td>\n",
       "      <td>0.34</td>\n",
       "      <td>0.14</td>\n",
       "      <td>0.05</td>\n",
       "      <td>0.17</td>\n",
       "      <td>0.05</td>\n",
       "      <td>0.18</td>\n",
       "      <td>0.14</td>\n",
       "      <td>...</td>\n",
       "      <td>0.18</td>\n",
       "      <td>0.01</td>\n",
       "      <td>NaN</td>\n",
       "      <td>0.01</td>\n",
       "      <td>0.19</td>\n",
       "      <td>NaN</td>\n",
       "      <td>0.01</td>\n",
       "      <td>0.52</td>\n",
       "      <td>0.20</td>\n",
       "      <td>0.20</td>\n",
       "    </tr>\n",
       "    <tr>\n",
       "      <th>Total Revenue Excluding Interest</th>\n",
       "      <td>1.00</td>\n",
       "      <td>0.29</td>\n",
       "      <td>1.00</td>\n",
       "      <td>0.98</td>\n",
       "      <td>0.90</td>\n",
       "      <td>0.76</td>\n",
       "      <td>0.87</td>\n",
       "      <td>0.78</td>\n",
       "      <td>0.93</td>\n",
       "      <td>0.10</td>\n",
       "      <td>...</td>\n",
       "      <td>0.91</td>\n",
       "      <td>0.67</td>\n",
       "      <td>NaN</td>\n",
       "      <td>0.67</td>\n",
       "      <td>0.90</td>\n",
       "      <td>NaN</td>\n",
       "      <td>0.67</td>\n",
       "      <td>0.82</td>\n",
       "      <td>0.92</td>\n",
       "      <td>0.91</td>\n",
       "    </tr>\n",
       "    <tr>\n",
       "      <th>Operating Expenses</th>\n",
       "      <td>0.98</td>\n",
       "      <td>0.34</td>\n",
       "      <td>0.98</td>\n",
       "      <td>1.00</td>\n",
       "      <td>0.80</td>\n",
       "      <td>0.63</td>\n",
       "      <td>0.91</td>\n",
       "      <td>0.65</td>\n",
       "      <td>0.85</td>\n",
       "      <td>0.03</td>\n",
       "      <td>...</td>\n",
       "      <td>0.83</td>\n",
       "      <td>0.53</td>\n",
       "      <td>NaN</td>\n",
       "      <td>0.53</td>\n",
       "      <td>0.83</td>\n",
       "      <td>NaN</td>\n",
       "      <td>0.53</td>\n",
       "      <td>0.90</td>\n",
       "      <td>0.84</td>\n",
       "      <td>0.84</td>\n",
       "    </tr>\n",
       "    <tr>\n",
       "      <th>EBITDA</th>\n",
       "      <td>0.90</td>\n",
       "      <td>0.14</td>\n",
       "      <td>0.90</td>\n",
       "      <td>0.80</td>\n",
       "      <td>1.00</td>\n",
       "      <td>0.94</td>\n",
       "      <td>0.66</td>\n",
       "      <td>0.95</td>\n",
       "      <td>0.98</td>\n",
       "      <td>0.24</td>\n",
       "      <td>...</td>\n",
       "      <td>0.96</td>\n",
       "      <td>0.88</td>\n",
       "      <td>NaN</td>\n",
       "      <td>0.88</td>\n",
       "      <td>0.94</td>\n",
       "      <td>NaN</td>\n",
       "      <td>0.89</td>\n",
       "      <td>0.54</td>\n",
       "      <td>0.96</td>\n",
       "      <td>0.93</td>\n",
       "    </tr>\n",
       "  </tbody>\n",
       "</table>\n",
       "<p>5 rows × 24 columns</p>\n",
       "</div>"
      ],
      "text/plain": [
       "Item                              Operating Revenue  Other Revenue  \\\n",
       "Item                                                                 \n",
       "Operating Revenue                              1.00           0.29   \n",
       "Other Revenue                                  0.29           1.00   \n",
       "Total Revenue Excluding Interest               1.00           0.29   \n",
       "Operating Expenses                             0.98           0.34   \n",
       "EBITDA                                         0.90           0.14   \n",
       "\n",
       "Item                              Total Revenue Excluding Interest  \\\n",
       "Item                                                                 \n",
       "Operating Revenue                                             1.00   \n",
       "Other Revenue                                                 0.29   \n",
       "Total Revenue Excluding Interest                              1.00   \n",
       "Operating Expenses                                            0.98   \n",
       "EBITDA                                                        0.90   \n",
       "\n",
       "Item                              Operating Expenses  EBITDA  Depreciation  \\\n",
       "Item                                                                         \n",
       "Operating Revenue                               0.98    0.90          0.76   \n",
       "Other Revenue                                   0.34    0.14          0.05   \n",
       "Total Revenue Excluding Interest                0.98    0.90          0.76   \n",
       "Operating Expenses                              1.00    0.80          0.63   \n",
       "EBITDA                                          0.80    1.00          0.94   \n",
       "\n",
       "Item                              Amortisation  Depreciation and Amortisation  \\\n",
       "Item                                                                            \n",
       "Operating Revenue                         0.87                           0.78   \n",
       "Other Revenue                             0.17                           0.05   \n",
       "Total Revenue Excluding Interest          0.87                           0.78   \n",
       "Operating Expenses                        0.91                           0.65   \n",
       "EBITDA                                    0.66                           0.95   \n",
       "\n",
       "Item                              EBIT  Interest Revenue  ...  \\\n",
       "Item                                                      ...   \n",
       "Operating Revenue                 0.93              0.10  ...   \n",
       "Other Revenue                     0.18              0.14  ...   \n",
       "Total Revenue Excluding Interest  0.93              0.10  ...   \n",
       "Operating Expenses                0.85              0.03  ...   \n",
       "EBITDA                            0.98              0.24  ...   \n",
       "\n",
       "Item                              Net Profit after Tax Before Abnormals  \\\n",
       "Item                                                                      \n",
       "Operating Revenue                                                  0.91   \n",
       "Other Revenue                                                      0.18   \n",
       "Total Revenue Excluding Interest                                   0.91   \n",
       "Operating Expenses                                                 0.83   \n",
       "EBITDA                                                             0.96   \n",
       "\n",
       "Item                              Abnormals  Abnormals Tax  Net Abnormals  \\\n",
       "Item                                                                        \n",
       "Operating Revenue                      0.67            NaN           0.67   \n",
       "Other Revenue                          0.01            NaN           0.01   \n",
       "Total Revenue Excluding Interest       0.67            NaN           0.67   \n",
       "Operating Expenses                     0.53            NaN           0.53   \n",
       "EBITDA                                 0.88            NaN           0.88   \n",
       "\n",
       "Item                              Reported NPAT After Abnormals  \\\n",
       "Item                                                              \n",
       "Operating Revenue                                          0.90   \n",
       "Other Revenue                                              0.19   \n",
       "Total Revenue Excluding Interest                           0.90   \n",
       "Operating Expenses                                         0.83   \n",
       "EBITDA                                                     0.94   \n",
       "\n",
       "Item                              Outside Equity Interests  \\\n",
       "Item                                                         \n",
       "Operating Revenue                                      NaN   \n",
       "Other Revenue                                          NaN   \n",
       "Total Revenue Excluding Interest                       NaN   \n",
       "Operating Expenses                                     NaN   \n",
       "EBITDA                                                 NaN   \n",
       "\n",
       "Item                              Shares Outstanding at Period End  \\\n",
       "Item                                                                 \n",
       "Operating Revenue                                             0.67   \n",
       "Other Revenue                                                 0.01   \n",
       "Total Revenue Excluding Interest                              0.67   \n",
       "Operating Expenses                                            0.53   \n",
       "EBITDA                                                        0.89   \n",
       "\n",
       "Item                              Weighted Average Number of Shares  \\\n",
       "Item                                                                  \n",
       "Operating Revenue                                              0.82   \n",
       "Other Revenue                                                  0.52   \n",
       "Total Revenue Excluding Interest                               0.82   \n",
       "Operating Expenses                                             0.90   \n",
       "EBITDA                                                         0.54   \n",
       "\n",
       "Item                              EPS Adjusted (cents/share)  \\\n",
       "Item                                                           \n",
       "Operating Revenue                                       0.92   \n",
       "Other Revenue                                           0.20   \n",
       "Total Revenue Excluding Interest                        0.92   \n",
       "Operating Expenses                                      0.84   \n",
       "EBITDA                                                  0.96   \n",
       "\n",
       "Item                              EPS After Abnormals (cents/share)  \n",
       "Item                                                                 \n",
       "Operating Revenue                                              0.91  \n",
       "Other Revenue                                                  0.20  \n",
       "Total Revenue Excluding Interest                               0.91  \n",
       "Operating Expenses                                             0.84  \n",
       "EBITDA                                                         0.93  \n",
       "\n",
       "[5 rows x 24 columns]"
      ]
     },
     "execution_count": 10,
     "metadata": {},
     "output_type": "execute_result"
    },
    {
     "data": {
      "text/plain": [
       "<Figure size 720x720 with 0 Axes>"
      ]
     },
     "metadata": {},
     "output_type": "display_data"
    }
   ],
   "source": [
    "plt.figure(figsize=(10, 10))\n",
    "cm = workbooks_separated['ADH']['FY']['Profit Loss'].corr().abs()\n",
    "cm.head()"
   ]
  },
  {
   "cell_type": "markdown",
   "id": "1fa12295",
   "metadata": {},
   "source": [
    "#### Show the pairs of features who have a correlation greater than 0.999"
   ]
  },
  {
   "cell_type": "code",
   "execution_count": 11,
   "id": "81e53777",
   "metadata": {
    "scrolled": false
   },
   "outputs": [
    {
     "data": {
      "text/html": [
       "<div>\n",
       "<style scoped>\n",
       "    .dataframe tbody tr th:only-of-type {\n",
       "        vertical-align: middle;\n",
       "    }\n",
       "\n",
       "    .dataframe tbody tr th {\n",
       "        vertical-align: top;\n",
       "    }\n",
       "\n",
       "    .dataframe thead th {\n",
       "        text-align: right;\n",
       "    }\n",
       "</style>\n",
       "<table border=\"1\" class=\"dataframe\">\n",
       "  <thead>\n",
       "    <tr style=\"text-align: right;\">\n",
       "      <th></th>\n",
       "      <th>Variable 1</th>\n",
       "      <th>Variable 2</th>\n",
       "      <th>Correlation</th>\n",
       "    </tr>\n",
       "  </thead>\n",
       "  <tbody>\n",
       "    <tr>\n",
       "      <th>0</th>\n",
       "      <td>Abnormals</td>\n",
       "      <td>Net Abnormals</td>\n",
       "      <td>1.00</td>\n",
       "    </tr>\n",
       "    <tr>\n",
       "      <th>1</th>\n",
       "      <td>Net Abnormals</td>\n",
       "      <td>Abnormals</td>\n",
       "      <td>1.00</td>\n",
       "    </tr>\n",
       "    <tr>\n",
       "      <th>2</th>\n",
       "      <td>Operating Revenue</td>\n",
       "      <td>Total Revenue Excluding Interest</td>\n",
       "      <td>1.00</td>\n",
       "    </tr>\n",
       "    <tr>\n",
       "      <th>3</th>\n",
       "      <td>Total Revenue Excluding Interest</td>\n",
       "      <td>Operating Revenue</td>\n",
       "      <td>1.00</td>\n",
       "    </tr>\n",
       "    <tr>\n",
       "      <th>4</th>\n",
       "      <td>Net Interest Expense</td>\n",
       "      <td>Interest Expense</td>\n",
       "      <td>1.00</td>\n",
       "    </tr>\n",
       "    <tr>\n",
       "      <th>5</th>\n",
       "      <td>Interest Expense</td>\n",
       "      <td>Net Interest Expense</td>\n",
       "      <td>1.00</td>\n",
       "    </tr>\n",
       "    <tr>\n",
       "      <th>6</th>\n",
       "      <td>Depreciation</td>\n",
       "      <td>Depreciation and Amortisation</td>\n",
       "      <td>1.00</td>\n",
       "    </tr>\n",
       "    <tr>\n",
       "      <th>7</th>\n",
       "      <td>Depreciation and Amortisation</td>\n",
       "      <td>Depreciation</td>\n",
       "      <td>1.00</td>\n",
       "    </tr>\n",
       "    <tr>\n",
       "      <th>8</th>\n",
       "      <td>Net Profit after Tax Before Abnormals</td>\n",
       "      <td>PreTax Profit</td>\n",
       "      <td>1.00</td>\n",
       "    </tr>\n",
       "    <tr>\n",
       "      <th>9</th>\n",
       "      <td>PreTax Profit</td>\n",
       "      <td>Net Profit after Tax Before Abnormals</td>\n",
       "      <td>1.00</td>\n",
       "    </tr>\n",
       "    <tr>\n",
       "      <th>10</th>\n",
       "      <td>Net Profit after Tax Before Abnormals</td>\n",
       "      <td>EPS Adjusted (cents/share)</td>\n",
       "      <td>1.00</td>\n",
       "    </tr>\n",
       "    <tr>\n",
       "      <th>11</th>\n",
       "      <td>EPS Adjusted (cents/share)</td>\n",
       "      <td>Net Profit after Tax Before Abnormals</td>\n",
       "      <td>1.00</td>\n",
       "    </tr>\n",
       "    <tr>\n",
       "      <th>12</th>\n",
       "      <td>EPS After Abnormals (cents/share)</td>\n",
       "      <td>Reported NPAT After Abnormals</td>\n",
       "      <td>1.00</td>\n",
       "    </tr>\n",
       "    <tr>\n",
       "      <th>13</th>\n",
       "      <td>Reported NPAT After Abnormals</td>\n",
       "      <td>EPS After Abnormals (cents/share)</td>\n",
       "      <td>1.00</td>\n",
       "    </tr>\n",
       "    <tr>\n",
       "      <th>14</th>\n",
       "      <td>Abnormals</td>\n",
       "      <td>Shares Outstanding at Period End</td>\n",
       "      <td>1.00</td>\n",
       "    </tr>\n",
       "    <tr>\n",
       "      <th>15</th>\n",
       "      <td>Shares Outstanding at Period End</td>\n",
       "      <td>Net Abnormals</td>\n",
       "      <td>1.00</td>\n",
       "    </tr>\n",
       "    <tr>\n",
       "      <th>16</th>\n",
       "      <td>Shares Outstanding at Period End</td>\n",
       "      <td>Abnormals</td>\n",
       "      <td>1.00</td>\n",
       "    </tr>\n",
       "    <tr>\n",
       "      <th>17</th>\n",
       "      <td>Net Abnormals</td>\n",
       "      <td>Shares Outstanding at Period End</td>\n",
       "      <td>1.00</td>\n",
       "    </tr>\n",
       "  </tbody>\n",
       "</table>\n",
       "</div>"
      ],
      "text/plain": [
       "                               Variable 1  \\\n",
       "0                               Abnormals   \n",
       "1                           Net Abnormals   \n",
       "2                       Operating Revenue   \n",
       "3        Total Revenue Excluding Interest   \n",
       "4                    Net Interest Expense   \n",
       "5                        Interest Expense   \n",
       "6                            Depreciation   \n",
       "7           Depreciation and Amortisation   \n",
       "8   Net Profit after Tax Before Abnormals   \n",
       "9                           PreTax Profit   \n",
       "10  Net Profit after Tax Before Abnormals   \n",
       "11             EPS Adjusted (cents/share)   \n",
       "12      EPS After Abnormals (cents/share)   \n",
       "13          Reported NPAT After Abnormals   \n",
       "14                              Abnormals   \n",
       "15       Shares Outstanding at Period End   \n",
       "16       Shares Outstanding at Period End   \n",
       "17                          Net Abnormals   \n",
       "\n",
       "                               Variable 2  Correlation  \n",
       "0                           Net Abnormals         1.00  \n",
       "1                               Abnormals         1.00  \n",
       "2        Total Revenue Excluding Interest         1.00  \n",
       "3                       Operating Revenue         1.00  \n",
       "4                        Interest Expense         1.00  \n",
       "5                    Net Interest Expense         1.00  \n",
       "6           Depreciation and Amortisation         1.00  \n",
       "7                            Depreciation         1.00  \n",
       "8                           PreTax Profit         1.00  \n",
       "9   Net Profit after Tax Before Abnormals         1.00  \n",
       "10             EPS Adjusted (cents/share)         1.00  \n",
       "11  Net Profit after Tax Before Abnormals         1.00  \n",
       "12          Reported NPAT After Abnormals         1.00  \n",
       "13      EPS After Abnormals (cents/share)         1.00  \n",
       "14       Shares Outstanding at Period End         1.00  \n",
       "15                          Net Abnormals         1.00  \n",
       "16                              Abnormals         1.00  \n",
       "17       Shares Outstanding at Period End         1.00  "
      ]
     },
     "execution_count": 11,
     "metadata": {},
     "output_type": "execute_result"
    }
   ],
   "source": [
    "cm_sort = cm.unstack()\n",
    "cm_sort = cm_sort.sort_values(kind=\"quicksort\", ascending=False)\n",
    "\n",
    "cm_sort = cm_sort[cm_sort > 0.999]\n",
    "\n",
    "cm_sort.head()\n",
    "\n",
    "correls = []\n",
    "\n",
    "for multidx in cm_sort.index:\n",
    "    if multidx[0] != multidx[1]:\n",
    "        correls.append([multidx[0], multidx[1], cm_sort[multidx[0]][multidx[1]]])\n",
    "        \n",
    "correls = pd.DataFrame(correls, columns = ['Variable 1', 'Variable 2', 'Correlation'])\n",
    "correls"
   ]
  },
  {
   "cell_type": "markdown",
   "id": "da9d55a6",
   "metadata": {},
   "source": [
    "## Visualisation and Investigation into Datasets"
   ]
  },
  {
   "cell_type": "markdown",
   "id": "4137014a",
   "metadata": {},
   "source": [
    "#### Line graph based on the operating revenue in the Profit Loss worksheet for companies across both half and full yearly datasets."
   ]
  },
  {
   "cell_type": "code",
   "execution_count": 12,
   "id": "bec579e4",
   "metadata": {
    "scrolled": true
   },
   "outputs": [
    {
     "data": {
      "image/png": "[encoded data removed]",
      "text/plain": [
       "<Figure size 720x360 with 1 Axes>"
      ]
     },
     "metadata": {
      "needs_background": "light"
     },
     "output_type": "display_data"
    }
   ],
   "source": [
    "fig, ax = plt.subplots(figsize=(10, 5))\n",
    "\n",
    "for workbook in workbooks_combined:\n",
    "    if 'Operating Revenue' in workbooks_combined[workbook]['Profit Loss']:\n",
    "        workbooks_combined[workbook]['Profit Loss']['Operating Revenue'].plot()\n"
   ]
  },
  {
   "cell_type": "markdown",
   "id": "8e1de301",
   "metadata": {},
   "source": [
    "#### Histogram based on the operating revenue in the Profit Loss worksheet for companies across both half and full yearly datasets."
   ]
  },
  {
   "cell_type": "code",
   "execution_count": 13,
   "id": "623f6bd8",
   "metadata": {},
   "outputs": [
    {
     "data": {
      "image/png": "[encoded data removed]",
      "text/plain": [
       "<Figure size 432x288 with 1 Axes>"
      ]
     },
     "metadata": {
      "needs_background": "light"
     },
     "output_type": "display_data"
    }
   ],
   "source": [
    "fig, ax = plt.subplots()\n",
    "\n",
    "for workbook in workbooks_separated:\n",
    "    for period in workbooks_separated[workbook]:\n",
    "         if 'Operating Revenue' in workbooks_separated[workbook][period]['Profit Loss']:\n",
    "                workbooks_separated[workbook][period]['Profit Loss']['Operating Revenue'].plot.hist()\n",
    "   \n"
   ]
  },
  {
   "cell_type": "markdown",
   "id": "7f288ca6",
   "metadata": {},
   "source": [
    "#### This example is based specifically on the ADH (Adairs Ltd), half yearly and full yearly financial statement. It looks at the Ratio Analysis worksheet in the dataset, as this will later be used to create further models. The Ratio Analysis worksheet is essential when calculating the Beneish M-Score. The line plot above indicates various years of growths and drops which will be further investigated using Beneish M-Score statistical model."
   ]
  },
  {
   "cell_type": "code",
   "execution_count": 14,
   "id": "605feb0c",
   "metadata": {},
   "outputs": [
    {
     "data": {
      "text/plain": [
       "<matplotlib.legend.Legend at 0x29ef1f94160>"
      ]
     },
     "execution_count": 14,
     "metadata": {},
     "output_type": "execute_result"
    },
    {
     "data": {
      "image/png": "[encoded data removed]",
      "text/plain": [
       "<Figure size 720x360 with 1 Axes>"
      ]
     },
     "metadata": {
      "needs_background": "light"
     },
     "output_type": "display_data"
    }
   ],
   "source": [
    "npm1 = pd.DataFrame(workbooks_separated['ADH']['FY']['Ratio Analysis']['Net Profit Margin (%)'])\n",
    "npm2 = pd.DataFrame(workbooks_separated['ADH']['HY']['Ratio Analysis']['Net Profit Margin (%)'])\n",
    "\n",
    "npm1.columns = ['NPM% FY']\n",
    "npm2.columns = ['NPM% HY']\n",
    "\n",
    "fig, ax = plt.subplots(figsize=(10, 5))\n",
    "npm1.plot(ax=ax)\n",
    "npm2.plot(ax=ax)\n",
    "ax.legend()\n"
   ]
  },
  {
   "cell_type": "markdown",
   "id": "60809fab",
   "metadata": {},
   "source": [
    "## Beneish M-Score"
   ]
  },
  {
   "cell_type": "markdown",
   "id": "12680a52",
   "metadata": {},
   "source": [
    "### 1. DSRI"
   ]
  },
  {
   "cell_type": "markdown",
   "id": "0e643dd4",
   "metadata": {},
   "source": [
    "#### The function calc_DSRI is used to calculate the Days Sales in Receivables Index using the array days_receivables to calculate the ratio of days sales in receivables for a particular period(t1) by the previous period(t0) in the specified worksheet."
   ]
  },
  {
   "cell_type": "code",
   "execution_count": 15,
   "id": "39d36a11",
   "metadata": {},
   "outputs": [],
   "source": [
    "def calc_DSRI(company):\n",
    "    res = {}\n",
    "    days_receivables = []\n",
    "    if 'Days Receivables' in company['Ratio Analysis']:\n",
    "        days_receivables = company['Ratio Analysis']['Days Receivables']\n",
    "    \n",
    "    for row in range(0, len(days_receivables)):\n",
    "        t1 = days_receivables.iloc[row]\n",
    "        t0 = days_receivables.iloc[row-1] if (row-1 >= 0) else np.nan\n",
    "        res[days_receivables.index[row]] = t1/t0\n",
    "        \n",
    "    return pd.Series(res)"
   ]
  },
  {
   "cell_type": "markdown",
   "id": "0bf34702",
   "metadata": {},
   "source": [
    "#### The example used here is for ADH Half yearly dataset. The line plot indicates a drop in days receivables in 2018 followed by a drastic increase in 2019 which means there is a possibilty of revenue manipulation."
   ]
  },
  {
   "cell_type": "code",
   "execution_count": 16,
   "id": "c64462f7",
   "metadata": {
    "scrolled": true
   },
   "outputs": [
    {
     "data": {
      "text/plain": [
       "<AxesSubplot:>"
      ]
     },
     "execution_count": 16,
     "metadata": {},
     "output_type": "execute_result"
    },
    {
     "data": {
      "image/png": "[encoded data removed]",
      "text/plain": [
       "<Figure size 432x288 with 1 Axes>"
      ]
     },
     "metadata": {
      "needs_background": "light"
     },
     "output_type": "display_data"
    }
   ],
   "source": [
    "calc_DSRI(workbooks_separated['ADH']['HY']).plot()"
   ]
  },
  {
   "cell_type": "markdown",
   "id": "64019448",
   "metadata": {},
   "source": [
    "### 2. GMI"
   ]
  },
  {
   "cell_type": "markdown",
   "id": "54f81aab",
   "metadata": {},
   "source": [
    "#### The net profit margin was used instead of the the Gross Margin for the calculation of Gross Margin  Index which is found on the Ratio Analysis worksheet. It is calculated by dividing the prior period gross margin(t0) by current period gross margin(t1)."
   ]
  },
  {
   "cell_type": "code",
   "execution_count": 17,
   "id": "e5d6237b",
   "metadata": {},
   "outputs": [],
   "source": [
    "def calc_GMI(company):\n",
    "    res = {}\n",
    "    profit_margin = []\n",
    "    if 'Net Profit Margin (%)' in company['Ratio Analysis']:\n",
    "        profit_margin = company['Ratio Analysis']['Net Profit Margin (%)']\n",
    "    \n",
    "    for row in range(0, len(profit_margin)):\n",
    "        t1 = profit_margin.iloc[row]\n",
    "        t0 = profit_margin.iloc[row-1] if (row-1 >= 0) else np.nan\n",
    "        res[profit_margin.index[row]] = t0/t1\n",
    "        \n",
    "    return pd.Series(res)"
   ]
  },
  {
   "cell_type": "markdown",
   "id": "f0c7ef2a",
   "metadata": {},
   "source": [
    "#### The company used here is ADH and its full yearly data. The line plot shows that there was a drastic increase in the net profit in 2017 followed by a flucatiion in the index, which could indicate a deep look into the profits might be necessary to get a better understanding of the company's financial situation."
   ]
  },
  {
   "cell_type": "code",
   "execution_count": 18,
   "id": "58c533be",
   "metadata": {},
   "outputs": [
    {
     "data": {
      "text/plain": [
       "<AxesSubplot:>"
      ]
     },
     "execution_count": 18,
     "metadata": {},
     "output_type": "execute_result"
    },
    {
     "data": {
      "image/png": "[encoded data removed]",
      "text/plain": [
       "<Figure size 432x288 with 1 Axes>"
      ]
     },
     "metadata": {
      "needs_background": "light"
     },
     "output_type": "display_data"
    }
   ],
   "source": [
    "calc_GMI(workbooks_separated['ADH']['HY']).plot()"
   ]
  },
  {
   "cell_type": "markdown",
   "id": "ae902403",
   "metadata": {},
   "source": [
    "### 3. AQI"
   ]
  },
  {
   "cell_type": "markdown",
   "id": "8aca41bc",
   "metadata": {},
   "source": [
    "#### The Asset Quality Index is calcualted using the non-current assets, PP&E and total assets which are found on the 'Balance Sheet' worksheet in the dataset. The Asset Quality(aq) Index requires the Asset Quality to be calculated using the formula(Total Assets - (Current Assets +PP&E)/ Total Assets) and the new AQ(aq1) is divided by prior AQ (aq0)."
   ]
  },
  {
   "cell_type": "code",
   "execution_count": 19,
   "id": "935fa886",
   "metadata": {},
   "outputs": [],
   "source": [
    "def calc_AQI(company):\n",
    "    res = {}\n",
    "    bs = company['Balance Sheet']\n",
    "    \n",
    "    for row in range(0, len(bs)):\n",
    "        if 'NCA - PP&E' not in bs or 'Total Current Assets' not in bs or 'Total Assets' not in bs:\n",
    "            res[bs.index[row]] = np.nan\n",
    "            continue\n",
    "            \n",
    "        if row - 1 < 0:\n",
    "            res[bs.index[row]] = np.nan\n",
    "            continue\n",
    "            \n",
    "        t1 = bs.iloc[row]\n",
    "        t0 = bs.iloc[row-1]\n",
    "        \n",
    "        aq1 = t1['Total Assets'] - (t1['Total Current Assets']+ t1['NCA - PP&E'])\n",
    "        aq1 = aq1 / t1['Total Assets']\n",
    "        \n",
    "        aq0 = t0['Total Assets'] - (t0['Total Current Assets']+ t0['NCA - PP&E'])\n",
    "        aq0 = aq0 / t0['Total Assets']\n",
    "                \n",
    "        res[bs.index[row]] = aq1/aq0\n",
    "        \n",
    "    return pd.Series(res)"
   ]
  },
  {
   "cell_type": "markdown",
   "id": "5b90dae6",
   "metadata": {},
   "source": [
    "#### The line plot above is used for ADH full year and there seems to be a rise in the year 2017 and drop in the year 2021. This index could suggest any excessive capitalization of costs within the company for a particular period in the financial statement."
   ]
  },
  {
   "cell_type": "code",
   "execution_count": 20,
   "id": "81ef937f",
   "metadata": {},
   "outputs": [
    {
     "data": {
      "text/plain": [
       "<AxesSubplot:>"
      ]
     },
     "execution_count": 20,
     "metadata": {},
     "output_type": "execute_result"
    },
    {
     "data": {
      "image/png": "[encoded data removed]",
      "text/plain": [
       "<Figure size 432x288 with 1 Axes>"
      ]
     },
     "metadata": {
      "needs_background": "light"
     },
     "output_type": "display_data"
    }
   ],
   "source": [
    "calc_AQI(workbooks_separated['ADH']['FY']).plot()"
   ]
  },
  {
   "cell_type": "markdown",
   "id": "620438b6",
   "metadata": {},
   "source": [
    "### 4. SGI"
   ]
  },
  {
   "cell_type": "markdown",
   "id": "b141f1ee",
   "metadata": {},
   "source": [
    "#### Sales Growth Index is computed using the company's sales(revenue) for the current period(t1) by the sales(revenue) of the previous period(t0). The feature used to calculate the SGI is 'Total Revenue Excluding Interest' from the 'Profit Loss' worksheet."
   ]
  },
  {
   "cell_type": "code",
   "execution_count": 21,
   "id": "73cd82ff",
   "metadata": {},
   "outputs": [],
   "source": [
    "def calc_SGI(company):\n",
    "    res = {}\n",
    "    totrev = []\n",
    "    if 'Total Revenue Excluding Interest' in company['Profit Loss']:\n",
    "        totrev = company['Profit Loss']['Total Revenue Excluding Interest']\n",
    "   \n",
    "    for row in range(0, len(totrev)):\n",
    "        t1 = totrev.iloc[row]\n",
    "        t0 = totrev.iloc[row-1] if (row-1 >= 0) else np.nan\n",
    "        res[totrev.index[row]] = t0/t1\n",
    "    \n",
    "    return pd.Series(res)"
   ]
  },
  {
   "cell_type": "markdown",
   "id": "f7697af4",
   "metadata": {},
   "source": [
    "#### The line plot for ADH full yearly SGI calculation indicates that there are drastic changes in between each period which could suggest that there is some manipulation trying to meet earnings targets or high capital needs and needs to be closely monitored."
   ]
  },
  {
   "cell_type": "code",
   "execution_count": 22,
   "id": "4454064f",
   "metadata": {},
   "outputs": [
    {
     "data": {
      "text/plain": [
       "<AxesSubplot:>"
      ]
     },
     "execution_count": 22,
     "metadata": {},
     "output_type": "execute_result"
    },
    {
     "data": {
      "image/png": "[encoded data removed]",
      "text/plain": [
       "<Figure size 432x288 with 1 Axes>"
      ]
     },
     "metadata": {
      "needs_background": "light"
     },
     "output_type": "display_data"
    }
   ],
   "source": [
    "calc_SGI(workbooks_separated['ADH']['FY']).plot()"
   ]
  },
  {
   "cell_type": "markdown",
   "id": "23cd3d59",
   "metadata": {},
   "source": [
    "### 5. DEPI"
   ]
  },
  {
   "cell_type": "markdown",
   "id": "c6ddc778",
   "metadata": {},
   "source": [
    "#### The Depreciation Index represents the ratio of depreciation of the current period(dep1) from the previous period(dep0). To find the depreciation rate, the data for ‘Depreciation’ from the ‘Profit Loss’ sheet and ‘PP&E’ from the ‘BalanceSheet’ is used. \n",
    "\n",
    "Depreciation Rate = Depreciation/ (Depreciation + PP&E) "
   ]
  },
  {
   "cell_type": "code",
   "execution_count": 23,
   "id": "0d198c9c",
   "metadata": {},
   "outputs": [],
   "source": [
    "def calc_DEPI(company):\n",
    "    res = {}\n",
    "    bs = company['Balance Sheet']\n",
    "    inc = company['Profit Loss']\n",
    "    \n",
    "    for row in range(0, len(bs)):\n",
    "        if 'Depreciation' not in inc or 'NCA - PP&E' not in bs:\n",
    "            res[bs.index[row]] = np.nan\n",
    "            continue\n",
    "            \n",
    "        if row - 1 < 0:\n",
    "            res[bs.index[row]] = np.nan\n",
    "            continue \n",
    "        \n",
    "        bs1 = bs.iloc[row]\n",
    "        bs0 = bs.iloc[row-1]\n",
    "        \n",
    "        inc1 = inc.iloc[row]\n",
    "        inc0 = inc.iloc[row-1]\n",
    "        \n",
    "        dep1 = inc1['Depreciation']\n",
    "        dep1 = dep1 / (inc1['Depreciation'] + bs1['NCA - PP&E'])\n",
    "        \n",
    "        dep0 = inc0['Depreciation']\n",
    "        dep0 = dep0 / (inc0['Depreciation'] + bs0['NCA - PP&E'])\n",
    "        \n",
    "        res[bs.index[row]] = dep0/dep1\n",
    "        \n",
    "    return pd.Series(res)"
   ]
  },
  {
   "cell_type": "markdown",
   "id": "0030c2cf",
   "metadata": {},
   "source": [
    "#### In this line plot for ADH full yearly data, the ratio being greater than 1 indicates that the depreciation rate has lowered which could reflect the increase in income due to policy changes or adopting new methods within that period."
   ]
  },
  {
   "cell_type": "code",
   "execution_count": 24,
   "id": "c95a594b",
   "metadata": {},
   "outputs": [
    {
     "data": {
      "text/plain": [
       "<AxesSubplot:>"
      ]
     },
     "execution_count": 24,
     "metadata": {},
     "output_type": "execute_result"
    },
    {
     "data": {
      "image/png": "[encoded data removed]",
      "text/plain": [
       "<Figure size 432x288 with 1 Axes>"
      ]
     },
     "metadata": {
      "needs_background": "light"
     },
     "output_type": "display_data"
    }
   ],
   "source": [
    "calc_DEPI(workbooks_separated['ADH']['FY']).plot()"
   ]
  },
  {
   "cell_type": "markdown",
   "id": "13af9a59",
   "metadata": {},
   "source": [
    "### 6. SGAI"
   ]
  },
  {
   "cell_type": "markdown",
   "id": "108d8f5a",
   "metadata": {},
   "source": [
    "#### The Sales, General & Administrative Expenses Index is measured using the ratio of SGA expenses for the current period(sga1) over the prior(sga2). The ‘Profit Loss’ sheet from the financial statement of each company was used to select the ‘Operating Expense’ and ‘Total Revenue Excluding Interest’."
   ]
  },
  {
   "cell_type": "code",
   "execution_count": 25,
   "id": "d274b831",
   "metadata": {},
   "outputs": [],
   "source": [
    "def calc_SGAI(company):\n",
    "    res = {}\n",
    "    inc = company['Profit Loss']\n",
    "    \n",
    "    for row in range(0, len(inc)):\n",
    "        if 'Total Revenue Excluding Interest' not in inc or 'Operating Expenses' not in inc:\n",
    "            res[inc.index[row]] = np.nan\n",
    "            continue\n",
    "            \n",
    "        if row - 1 < 0:\n",
    "            res[inc.index[row]] = np.nan\n",
    "            continue \n",
    "            \n",
    "        t1 = inc.iloc[row]\n",
    "        t0 = inc.iloc[row-1]\n",
    "        \n",
    "        sga1 = t1['Operating Expenses']\n",
    "        sga1 = sga1 / t1['Total Revenue Excluding Interest']\n",
    "        \n",
    "        sga0 = t0['Operating Expenses']\n",
    "        sga0 = sga0 / t0['Total Revenue Excluding Interest']\n",
    "        \n",
    "        res[inc.index[row]] = sga1/sga0\n",
    "       \n",
    "    return pd.Series(res)"
   ]
  },
  {
   "cell_type": "markdown",
   "id": "0181b20e",
   "metadata": {},
   "source": [
    "#### When the efficiency of SGAI decreases, it could make companies predisposed to manipulating earnings, this can be seen in ADH full year statement in the year 2020."
   ]
  },
  {
   "cell_type": "code",
   "execution_count": 26,
   "id": "17f5f85a",
   "metadata": {},
   "outputs": [
    {
     "name": "stderr",
     "output_type": "stream",
     "text": [
      "<ipython-input-25-074f2654ca65>:21: RuntimeWarning: invalid value encountered in double_scalars\n",
      "  sga0 = sga0 / t0['Total Revenue Excluding Interest']\n"
     ]
    },
    {
     "data": {
      "text/plain": [
       "<AxesSubplot:>"
      ]
     },
     "execution_count": 26,
     "metadata": {},
     "output_type": "execute_result"
    },
    {
     "data": {
      "image/png": "[encoded data removed]",
      "text/plain": [
       "<Figure size 432x288 with 1 Axes>"
      ]
     },
     "metadata": {
      "needs_background": "light"
     },
     "output_type": "display_data"
    }
   ],
   "source": [
    "calc_SGAI(workbooks_separated['ADH']['FY']).plot()"
   ]
  },
  {
   "cell_type": "markdown",
   "id": "b3fe4baa",
   "metadata": {},
   "source": [
    "### 7. TATA"
   ]
  },
  {
   "attachments": {
    "image.png": {
     "image/png": "[encoded data removed]"
    }
   },
   "cell_type": "markdown",
   "id": "0670fae5",
   "metadata": {},
   "source": [
    "#### Total Accruals to Total Assets focuses on the cash flow of the company against the total assets. There are a new sheets that are necessary to calculate the TATA, from the ‘Profit Loss’ sheet ‘PreTax Profit’, from ‘Cash Flow’ sheet ‘Net Operating Cashflows’ and ‘Net Investing Cashflows’ and finally ‘Total Assets’ from ‘Balance Sheet’.\n",
    "\n",
    "The following formula is used.\n",
    "![image.png](attachment:image.png)"
   ]
  },
  {
   "cell_type": "code",
   "execution_count": 27,
   "id": "71d73f6c",
   "metadata": {},
   "outputs": [],
   "source": [
    "def calc_TATA(company):\n",
    "    resList = {}\n",
    "    for year in company['Profit Loss'].index:\n",
    "        incs = company['Profit Loss'].loc[year]\n",
    "        bs = company['Balance Sheet'].loc[year]\n",
    "        cf = company['Cash Flow'].loc[year]\n",
    "        \n",
    "        if 'PreTax Profit' not in incs or 'Net Operating Cashflows' not in cf or 'Net Investing Cashflows' not in cf or 'Total Assets' not in bs:\n",
    "            resList[year] = np.nan\n",
    "            continue\n",
    "\n",
    "        res = incs['PreTax Profit'] - cf['Net Operating Cashflows'] - cf['Net Investing Cashflows']\n",
    "        res = res / bs['Total Assets']\n",
    "        resList[year] = res\n",
    "\n",
    "    return pd.Series(resList)"
   ]
  },
  {
   "cell_type": "markdown",
   "id": "7c2f71a0",
   "metadata": {},
   "source": [
    "#### The TATA looks at non-cash earnings and indicates that a higher positive accruals means higher likelihood of earnings manipulation. On this line plot of ADH there are high raises in the year 2016 and 2020."
   ]
  },
  {
   "cell_type": "code",
   "execution_count": 28,
   "id": "77bdcfc5",
   "metadata": {
    "scrolled": true
   },
   "outputs": [
    {
     "data": {
      "text/plain": [
       "<AxesSubplot:>"
      ]
     },
     "execution_count": 28,
     "metadata": {},
     "output_type": "execute_result"
    },
    {
     "data": {
      "image/png": "[encoded data removed]",
      "text/plain": [
       "<Figure size 432x288 with 1 Axes>"
      ]
     },
     "metadata": {
      "needs_background": "light"
     },
     "output_type": "display_data"
    }
   ],
   "source": [
    "calc_TATA(workbooks_combined['ADH']).plot()"
   ]
  },
  {
   "cell_type": "markdown",
   "id": "e66d68d8",
   "metadata": {},
   "source": [
    "#### This graph indicates that the variance in the data between the different companies is quite high and it can be noted that the more erratic TATA would have a larger impact on the m-score output."
   ]
  },
  {
   "cell_type": "code",
   "execution_count": 29,
   "id": "c6ba158d",
   "metadata": {},
   "outputs": [
    {
     "data": {
      "image/png": "[encoded data removed]",
      "text/plain": [
       "<Figure size 640x480 with 1 Axes>"
      ]
     },
     "metadata": {
      "needs_background": "light"
     },
     "output_type": "display_data"
    }
   ],
   "source": [
    "fig, ax = plt.subplots(figsize=(8, 6), dpi=80)\n",
    "ax.set_ylim(-1, 1)\n",
    "\n",
    "for workbook in workbooks_separated:\n",
    "    for period in workbooks_separated[workbook]:\n",
    "        res = calc_TATA(workbooks_separated[workbook][period])\n",
    "        res.plot(ax=ax)\n"
   ]
  },
  {
   "cell_type": "markdown",
   "id": "14178469",
   "metadata": {},
   "source": [
    "### 8. LVGI"
   ]
  },
  {
   "cell_type": "markdown",
   "id": "0df5b413",
   "metadata": {},
   "source": [
    "#### The Leverage Index is a ratio based on the current period(lev1) Leverage and the prior period Leverage(lev0). To compute the Leverage ‘NCL - Long-Term Debt’, ‘Total Current Liabilities’  and ‘Total Assets’ from the Balance Sheet of each company is required. \n",
    "\n",
    "The following formula was used to calculate LVGI:\n",
    "\n",
    "            Leverage = (Long term debt + current liabilities) / Total assets "
   ]
  },
  {
   "cell_type": "code",
   "execution_count": 30,
   "id": "9f4ccadd",
   "metadata": {},
   "outputs": [],
   "source": [
    "def calc_LVGI(company):\n",
    "    res = {}\n",
    "    bs = company['Balance Sheet']\n",
    "    for row in range(0, len(bs)):\n",
    "        if 'NCL - Long-Term Debt' not in bs or 'Total Curr. Liabilities' not in bs or 'Total Assets' not in bs:\n",
    "            res[bs.index[row]] = np.nan\n",
    "            continue\n",
    "            \n",
    "        if row - 1 < 0:\n",
    "            res[bs.index[row]] = np.nan\n",
    "            continue      \n",
    "            \n",
    "        t1 = bs.iloc[row]\n",
    "        t0 = bs.iloc[row-1]\n",
    "        \n",
    "        lev1 = t1['NCL - Long-Term Debt'] + t1['Total Curr. Liabilities']\n",
    "        lev1 = lev1 / t1['Total Assets']\n",
    "        \n",
    "        lev0 = t0['NCL - Long-Term Debt'] + t0['Total Curr. Liabilities']\n",
    "        lev0 = lev0 / t0['Total Assets']\n",
    "                \n",
    "        res[bs.index[row]] = lev1/lev0\n",
    "        \n",
    "    return pd.Series(res)"
   ]
  },
  {
   "cell_type": "markdown",
   "id": "a072b9f0",
   "metadata": {},
   "source": [
    "#### Using the BCI (BCI Minerals Ltd) financial data, there are various high peaks which indicate higher the leverage ratio,which means the higher the possibility of the company being involved in financial fraud."
   ]
  },
  {
   "cell_type": "code",
   "execution_count": 31,
   "id": "72996f7b",
   "metadata": {},
   "outputs": [
    {
     "data": {
      "text/plain": [
       "<AxesSubplot:>"
      ]
     },
     "execution_count": 31,
     "metadata": {},
     "output_type": "execute_result"
    },
    {
     "data": {
      "image/png": "[encoded data removed]",
      "text/plain": [
       "<Figure size 432x288 with 1 Axes>"
      ]
     },
     "metadata": {
      "needs_background": "light"
     },
     "output_type": "display_data"
    }
   ],
   "source": [
    "calc_LVGI(workbooks_separated['BCI']['FY']).plot()"
   ]
  },
  {
   "cell_type": "markdown",
   "id": "480e71af",
   "metadata": {},
   "source": [
    "### M-Score"
   ]
  },
  {
   "cell_type": "markdown",
   "id": "468c9d7c",
   "metadata": {},
   "source": [
    "#### This function calculates the M-Score using the ratio calculation functions described above. The weightings for each factor are fixed as seen below."
   ]
  },
  {
   "cell_type": "code",
   "execution_count": 32,
   "id": "8098ea66",
   "metadata": {},
   "outputs": [],
   "source": [
    "# Same as calc_mscore, except returns each m-score weighted factor for each period\n",
    "def calc_mscore_factors(company_name):\n",
    "    res = {}\n",
    "    \n",
    "    # DSRI is calculated using the separated dataset which appears to be less prone to null values / extreme outliers\n",
    "    dsriFY = pd.DataFrame(calc_DSRI(workbooks_separated[company_name]['FY']))\n",
    "    dsriHY = pd.DataFrame(calc_DSRI(workbooks_separated[company_name]['HY']))\n",
    "    dsri = dsriFY.append(dsriHY, sort=True).sort_index().replace([np.inf, -np.inf], np.nan).fillna(0)\n",
    "    dsri = pd.Series(dsri[0])\n",
    "    \n",
    "    # GMI is calculated with the combined dataset\n",
    "    gmi = calc_GMI(workbooks_combined[company_name]).replace([np.inf, -np.inf], np.nan).fillna(0)\n",
    "    \n",
    "    # AQI is only calculated from FY data as the datasets consistently emit HY asset data\n",
    "    aqi1 = pd.DataFrame(calc_AQI(workbooks_separated[company_name]['FY']))\n",
    "    aqi2 = pd.DataFrame(calc_AQI(workbooks_separated[company_name]['HY'])) # Use this to grab the dates, values will be empty\n",
    "    aqi = aqi1.append(aqi2, sort=True).sort_index().replace([np.inf, -np.inf], np.nan).fillna(method='ffill').fillna(1)\n",
    "    aqi = pd.Series(aqi[0])\n",
    "\n",
    "    # SGI is calculated using the separated dataset since revenue for the FY period includes the HY revenue as well, meaning \n",
    "    # that comparisons are more useful from HY to HY and FY to FY    \n",
    "    sgiFY = pd.DataFrame(calc_SGI(workbooks_separated[company_name]['FY']))\n",
    "    sgiHY = pd.DataFrame(calc_SGI(workbooks_separated[company_name]['HY']))\n",
    "    sgi = sgiFY.append(sgiHY, sort=True).sort_index().replace([np.inf, -np.inf], np.nan).fillna(0)\n",
    "    sgi = pd.Series(sgi[0])\n",
    "    \n",
    "    # DEPI is calculated using the separated dataset since depreciation for the FY period includes the HY depreciation as well, \n",
    "    # meaning that comparisons are more useful from HY to HY and FY to FY    \n",
    "    depiFY = pd.DataFrame(calc_DEPI(workbooks_separated[company_name]['FY']))\n",
    "    depiHY = pd.DataFrame(calc_DEPI(workbooks_separated[company_name]['HY']))\n",
    "    depi = depiFY.append(depiHY, sort=True).sort_index().replace([np.inf, -np.inf], np.nan).fillna(1)\n",
    "    depi = pd.Series(depi[0])\n",
    "    \n",
    "    # SGAI is calculated with the combined dataset\n",
    "    sgai = calc_SGAI(workbooks_combined[company_name]).replace([np.inf, -np.inf], np.nan).fillna(1)\n",
    "    \n",
    "    # TATA is only calculated from FY data as the datasets consistently emit HY asset data\n",
    "    tata1 = pd.DataFrame(calc_TATA(workbooks_separated[company_name]['FY']))\n",
    "    tata2 = pd.DataFrame(calc_TATA(workbooks_separated[company_name]['HY'])) # Use this to grab the dates, values will be empty\n",
    "    tata  = tata1.append(tata2, sort=True).sort_index().replace([np.inf, -np.inf], np.nan).fillna(method='ffill').fillna(0)\n",
    "    tata = pd.Series(tata[0])\n",
    "\n",
    "    # LVGI is only calculated from FY data as the datasets consistently emit HY leverage data\n",
    "    lvgi1 = pd.DataFrame(calc_LVGI(workbooks_separated[company_name]['FY']))\n",
    "    lvgi2 = pd.DataFrame(calc_LVGI(workbooks_separated[company_name]['HY'])) # Use this to grab the dates, values will be empty\n",
    "    lvgi  = lvgi1.append(lvgi2, sort=True).sort_index().replace([np.inf, -np.inf], np.nan).fillna(method='ffill').fillna(0)\n",
    "    lvgi = pd.Series(lvgi[0])\n",
    "    \n",
    "    if len(dsri) == 0:\n",
    "        dsri = pd.Series(tata)\n",
    "        dsri[0] = 0\n",
    "    if len(gmi) == 0:\n",
    "        gmi = pd.Series(tata)\n",
    "        gmi[0] = 0\n",
    "    if len(sgi) == 0:\n",
    "        sgi = pd.Series(tata)\n",
    "        sgi[0] = 0\n",
    "    \n",
    "    for date in reversed(tata.index):\n",
    "        mscore_factors = {}\n",
    "\n",
    "        mscore_factors['DSRI'] = 0.92*dsri.loc[date]\n",
    "        mscore_factors['GMI'] = 0.528*gmi.loc[date]\n",
    "        mscore_factors['AQI'] = 0.404*aqi.loc[date]\n",
    "        mscore_factors['SGI'] = 0.892*sgi.loc[date]\n",
    "        mscore_factors['DEPI'] = 0.115*depi.loc[date]\n",
    "        mscore_factors['SGAI'] = -0.172*sgai.loc[date]\n",
    "        mscore_factors['TATA'] = 4.679*tata.loc[date]\n",
    "        mscore_factors['LVGI'] = -0.327*lvgi.loc[date]\n",
    "        \n",
    "        res[date] = mscore_factors\n",
    "        \n",
    "    res = pd.DataFrame(res)\n",
    "    \n",
    "    mscore_total = res.sum(axis=0) - 4.84\n",
    "    res.loc['M-Score'] = mscore_total\n",
    "    res.loc['M-Score TF'] = mscore_total > -1.78\n",
    "    res.loc['M-Score TF'] = res.loc['M-Score TF'].astype(bool)\n",
    "\n",
    "    return res.transpose()"
   ]
  },
  {
   "cell_type": "markdown",
   "id": "b6abdfb4",
   "metadata": {},
   "source": [
    "#### Here the M-Scores for ADH are calculated. The scores range from approximately -6.5 to 5.8. Note that any value over -1.78 is considered to be anomalous, therefore the reporting periods of 2016-12-01 and 2019-12-01 are of particular interest. The 2016 period coincides with the penalty notice issued to ADH as a result of materially understating their forecasted earnings, which resulted in them being issued a fine by ASIC."
   ]
  },
  {
   "cell_type": "code",
   "execution_count": 33,
   "id": "ee44c013",
   "metadata": {
    "scrolled": false
   },
   "outputs": [
    {
     "name": "stderr",
     "output_type": "stream",
     "text": [
      "<ipython-input-15-1de882bebd76>:10: RuntimeWarning: divide by zero encountered in double_scalars\n",
      "  res[days_receivables.index[row]] = t1/t0\n",
      "<ipython-input-15-1de882bebd76>:10: RuntimeWarning: invalid value encountered in double_scalars\n",
      "  res[days_receivables.index[row]] = t1/t0\n",
      "<ipython-input-25-074f2654ca65>:21: RuntimeWarning: invalid value encountered in double_scalars\n",
      "  sga0 = sga0 / t0['Total Revenue Excluding Interest']\n"
     ]
    },
    {
     "data": {
      "text/html": [
       "<div>\n",
       "<style scoped>\n",
       "    .dataframe tbody tr th:only-of-type {\n",
       "        vertical-align: middle;\n",
       "    }\n",
       "\n",
       "    .dataframe tbody tr th {\n",
       "        vertical-align: top;\n",
       "    }\n",
       "\n",
       "    .dataframe thead th {\n",
       "        text-align: right;\n",
       "    }\n",
       "</style>\n",
       "<table border=\"1\" class=\"dataframe\">\n",
       "  <thead>\n",
       "    <tr style=\"text-align: right;\">\n",
       "      <th></th>\n",
       "      <th>DSRI</th>\n",
       "      <th>GMI</th>\n",
       "      <th>AQI</th>\n",
       "      <th>SGI</th>\n",
       "      <th>DEPI</th>\n",
       "      <th>SGAI</th>\n",
       "      <th>TATA</th>\n",
       "      <th>LVGI</th>\n",
       "      <th>M-Score</th>\n",
       "      <th>M-Score TF</th>\n",
       "    </tr>\n",
       "  </thead>\n",
       "  <tbody>\n",
       "    <tr>\n",
       "      <th>2021-06-01</th>\n",
       "      <td>0.00</td>\n",
       "      <td>0.76</td>\n",
       "      <td>0.38</td>\n",
       "      <td>0.69</td>\n",
       "      <td>0.09</td>\n",
       "      <td>-0.19</td>\n",
       "      <td>-0.07</td>\n",
       "      <td>-0.36</td>\n",
       "      <td>-3.55</td>\n",
       "      <td>False</td>\n",
       "    </tr>\n",
       "    <tr>\n",
       "      <th>2020-12-01</th>\n",
       "      <td>0.55</td>\n",
       "      <td>0.28</td>\n",
       "      <td>0.36</td>\n",
       "      <td>0.66</td>\n",
       "      <td>0.08</td>\n",
       "      <td>-0.15</td>\n",
       "      <td>0.11</td>\n",
       "      <td>-0.49</td>\n",
       "      <td>-3.43</td>\n",
       "      <td>False</td>\n",
       "    </tr>\n",
       "    <tr>\n",
       "      <th>2020-06-01</th>\n",
       "      <td>0.00</td>\n",
       "      <td>0.38</td>\n",
       "      <td>0.36</td>\n",
       "      <td>0.79</td>\n",
       "      <td>0.10</td>\n",
       "      <td>-0.16</td>\n",
       "      <td>0.11</td>\n",
       "      <td>-0.49</td>\n",
       "      <td>-3.75</td>\n",
       "      <td>False</td>\n",
       "    </tr>\n",
       "    <tr>\n",
       "      <th>2019-12-01</th>\n",
       "      <td>2.56</td>\n",
       "      <td>0.62</td>\n",
       "      <td>0.38</td>\n",
       "      <td>0.81</td>\n",
       "      <td>0.16</td>\n",
       "      <td>-0.16</td>\n",
       "      <td>0.32</td>\n",
       "      <td>-0.37</td>\n",
       "      <td>-0.51</td>\n",
       "      <td>True</td>\n",
       "    </tr>\n",
       "    <tr>\n",
       "      <th>2019-06-01</th>\n",
       "      <td>0.00</td>\n",
       "      <td>0.56</td>\n",
       "      <td>0.38</td>\n",
       "      <td>0.81</td>\n",
       "      <td>0.10</td>\n",
       "      <td>-0.17</td>\n",
       "      <td>0.32</td>\n",
       "      <td>-0.37</td>\n",
       "      <td>-3.21</td>\n",
       "      <td>False</td>\n",
       "    </tr>\n",
       "    <tr>\n",
       "      <th>2018-12-01</th>\n",
       "      <td>0.06</td>\n",
       "      <td>0.56</td>\n",
       "      <td>0.40</td>\n",
       "      <td>0.81</td>\n",
       "      <td>0.10</td>\n",
       "      <td>-0.17</td>\n",
       "      <td>0.28</td>\n",
       "      <td>-0.26</td>\n",
       "      <td>-3.06</td>\n",
       "      <td>False</td>\n",
       "    </tr>\n",
       "    <tr>\n",
       "      <th>2018-06-01</th>\n",
       "      <td>0.00</td>\n",
       "      <td>0.51</td>\n",
       "      <td>0.40</td>\n",
       "      <td>0.75</td>\n",
       "      <td>0.10</td>\n",
       "      <td>-0.17</td>\n",
       "      <td>0.28</td>\n",
       "      <td>-0.26</td>\n",
       "      <td>-3.23</td>\n",
       "      <td>False</td>\n",
       "    </tr>\n",
       "    <tr>\n",
       "      <th>2017-12-01</th>\n",
       "      <td>0.89</td>\n",
       "      <td>0.45</td>\n",
       "      <td>0.40</td>\n",
       "      <td>0.75</td>\n",
       "      <td>0.09</td>\n",
       "      <td>-0.17</td>\n",
       "      <td>0.31</td>\n",
       "      <td>-0.31</td>\n",
       "      <td>-2.43</td>\n",
       "      <td>False</td>\n",
       "    </tr>\n",
       "    <tr>\n",
       "      <th>2017-06-01</th>\n",
       "      <td>0.00</td>\n",
       "      <td>0.46</td>\n",
       "      <td>0.40</td>\n",
       "      <td>0.85</td>\n",
       "      <td>0.14</td>\n",
       "      <td>-0.17</td>\n",
       "      <td>0.31</td>\n",
       "      <td>-0.31</td>\n",
       "      <td>-3.16</td>\n",
       "      <td>False</td>\n",
       "    </tr>\n",
       "    <tr>\n",
       "      <th>2016-12-01</th>\n",
       "      <td>0.97</td>\n",
       "      <td>0.82</td>\n",
       "      <td>0.37</td>\n",
       "      <td>0.84</td>\n",
       "      <td>0.16</td>\n",
       "      <td>-0.19</td>\n",
       "      <td>0.69</td>\n",
       "      <td>-0.28</td>\n",
       "      <td>-1.45</td>\n",
       "      <td>True</td>\n",
       "    </tr>\n",
       "    <tr>\n",
       "      <th>2016-06-01</th>\n",
       "      <td>0.89</td>\n",
       "      <td>0.55</td>\n",
       "      <td>0.37</td>\n",
       "      <td>0.74</td>\n",
       "      <td>0.15</td>\n",
       "      <td>-0.17</td>\n",
       "      <td>0.69</td>\n",
       "      <td>-0.28</td>\n",
       "      <td>-1.90</td>\n",
       "      <td>False</td>\n",
       "    </tr>\n",
       "    <tr>\n",
       "      <th>2015-12-01</th>\n",
       "      <td>0.00</td>\n",
       "      <td>0.07</td>\n",
       "      <td>0.34</td>\n",
       "      <td>0.00</td>\n",
       "      <td>0.12</td>\n",
       "      <td>-0.16</td>\n",
       "      <td>-0.36</td>\n",
       "      <td>-0.32</td>\n",
       "      <td>-5.15</td>\n",
       "      <td>False</td>\n",
       "    </tr>\n",
       "    <tr>\n",
       "      <th>2015-06-01</th>\n",
       "      <td>0.00</td>\n",
       "      <td>0.00</td>\n",
       "      <td>0.34</td>\n",
       "      <td>0.00</td>\n",
       "      <td>-0.00</td>\n",
       "      <td>-0.17</td>\n",
       "      <td>-0.36</td>\n",
       "      <td>-0.32</td>\n",
       "      <td>-5.35</td>\n",
       "      <td>False</td>\n",
       "    </tr>\n",
       "    <tr>\n",
       "      <th>2014-12-01</th>\n",
       "      <td>0.00</td>\n",
       "      <td>0.00</td>\n",
       "      <td>0.40</td>\n",
       "      <td>0.00</td>\n",
       "      <td>0.12</td>\n",
       "      <td>-0.17</td>\n",
       "      <td>0.00</td>\n",
       "      <td>-0.00</td>\n",
       "      <td>-4.49</td>\n",
       "      <td>False</td>\n",
       "    </tr>\n",
       "  </tbody>\n",
       "</table>\n",
       "</div>"
      ],
      "text/plain": [
       "           DSRI  GMI  AQI  SGI  DEPI  SGAI  TATA  LVGI M-Score M-Score TF\n",
       "2021-06-01 0.00 0.76 0.38 0.69  0.09 -0.19 -0.07 -0.36   -3.55      False\n",
       "2020-12-01 0.55 0.28 0.36 0.66  0.08 -0.15  0.11 -0.49   -3.43      False\n",
       "2020-06-01 0.00 0.38 0.36 0.79  0.10 -0.16  0.11 -0.49   -3.75      False\n",
       "2019-12-01 2.56 0.62 0.38 0.81  0.16 -0.16  0.32 -0.37   -0.51       True\n",
       "2019-06-01 0.00 0.56 0.38 0.81  0.10 -0.17  0.32 -0.37   -3.21      False\n",
       "2018-12-01 0.06 0.56 0.40 0.81  0.10 -0.17  0.28 -0.26   -3.06      False\n",
       "2018-06-01 0.00 0.51 0.40 0.75  0.10 -0.17  0.28 -0.26   -3.23      False\n",
       "2017-12-01 0.89 0.45 0.40 0.75  0.09 -0.17  0.31 -0.31   -2.43      False\n",
       "2017-06-01 0.00 0.46 0.40 0.85  0.14 -0.17  0.31 -0.31   -3.16      False\n",
       "2016-12-01 0.97 0.82 0.37 0.84  0.16 -0.19  0.69 -0.28   -1.45       True\n",
       "2016-06-01 0.89 0.55 0.37 0.74  0.15 -0.17  0.69 -0.28   -1.90      False\n",
       "2015-12-01 0.00 0.07 0.34 0.00  0.12 -0.16 -0.36 -0.32   -5.15      False\n",
       "2015-06-01 0.00 0.00 0.34 0.00 -0.00 -0.17 -0.36 -0.32   -5.35      False\n",
       "2014-12-01 0.00 0.00 0.40 0.00  0.12 -0.17  0.00 -0.00   -4.49      False"
      ]
     },
     "execution_count": 33,
     "metadata": {},
     "output_type": "execute_result"
    }
   ],
   "source": [
    "ADH_factors = calc_mscore_factors('ADH')\n",
    "ADH_factors"
   ]
  },
  {
   "cell_type": "code",
   "execution_count": 34,
   "id": "a9e54202",
   "metadata": {
    "scrolled": false
   },
   "outputs": [
    {
     "data": {
      "text/plain": [
       "<AxesSubplot:>"
      ]
     },
     "execution_count": 34,
     "metadata": {},
     "output_type": "execute_result"
    },
    {
     "data": {
      "image/png": "[encoded data removed]",
      "text/plain": [
       "<Figure size 432x288 with 2 Axes>"
      ]
     },
     "metadata": {
      "needs_background": "light"
     },
     "output_type": "display_data"
    }
   ],
   "source": [
    "sns.heatmap(ADH_factors[ADH_factors.columns[:-2]].astype('float'))"
   ]
  },
  {
   "cell_type": "markdown",
   "id": "c1274c1e",
   "metadata": {},
   "source": [
    "#### Here the M-Score factors for ADH's two anomalous periods (2016-12-01 and 2019-12-01) are compared to the most recent period which is not anomalous. Higher values indicate a higher contribution to the M-score, thus a higher degree of abnormality"
   ]
  },
  {
   "cell_type": "code",
   "execution_count": 35,
   "id": "7ce592ad",
   "metadata": {
    "scrolled": false
   },
   "outputs": [
    {
     "data": {
      "text/plain": [
       "<AxesSubplot:>"
      ]
     },
     "execution_count": 35,
     "metadata": {},
     "output_type": "execute_result"
    },
    {
     "data": {
      "image/png": "[encoded data removed]",
      "text/plain": [
       "<Figure size 720x360 with 1 Axes>"
      ]
     },
     "metadata": {
      "needs_background": "light"
     },
     "output_type": "display_data"
    }
   ],
   "source": [
    "anomalies = ADH_factors.transpose()[:-2][[datetime.datetime(2016,12,1), datetime.datetime(2019,12,1), datetime.datetime(2021,6,1)]]\n",
    "anomalies.plot.bar(figsize=(10, 5))"
   ]
  },
  {
   "cell_type": "markdown",
   "id": "e3a269fa",
   "metadata": {},
   "source": [
    "#### Here the M-Scores for each company are calculated and plotted. It's evident that there are a few extreme outliers which may indicate exceptionally anomalous reporting periods."
   ]
  },
  {
   "cell_type": "code",
   "execution_count": 36,
   "id": "4f0091cf",
   "metadata": {},
   "outputs": [
    {
     "data": {
      "image/png": "[encoded data removed]",
      "text/plain": [
       "<Figure size 640x480 with 1 Axes>"
      ]
     },
     "metadata": {
      "needs_background": "light"
     },
     "output_type": "display_data"
    }
   ],
   "source": [
    "import warnings\n",
    "\n",
    "with warnings.catch_warnings(record=True):\n",
    "    fig, ax = plt.subplots(figsize=(8, 6), dpi=80)\n",
    "    ax.set_ylim(-20, 20)\n",
    "\n",
    "    for company in workbooks_combined:\n",
    "        res = calc_mscore_factors(company)\n",
    "        res['M-Score'].plot(ax=ax)  \n"
   ]
  },
  {
   "cell_type": "markdown",
   "id": "fd00a97c",
   "metadata": {},
   "source": [
    "#### Here the M-Scores for each company's reporting periods are stored for later reference"
   ]
  },
  {
   "cell_type": "code",
   "execution_count": 37,
   "id": "c4abb8dc",
   "metadata": {
    "scrolled": true
   },
   "outputs": [],
   "source": [
    "import warnings\n",
    "\n",
    "mscores = {}\n",
    "\n",
    "with warnings.catch_warnings(record=True):\n",
    "    for company in workbooks_combined:\n",
    "        mscore_factors = calc_mscore_factors(company)\n",
    "        workbooks_combined[company]['Penalty Notices'] = mscore_factors"
   ]
  },
  {
   "cell_type": "code",
   "execution_count": 38,
   "id": "a08e08a9",
   "metadata": {},
   "outputs": [
    {
     "data": {
      "text/html": [
       "<div>\n",
       "<style scoped>\n",
       "    .dataframe tbody tr th:only-of-type {\n",
       "        vertical-align: middle;\n",
       "    }\n",
       "\n",
       "    .dataframe tbody tr th {\n",
       "        vertical-align: top;\n",
       "    }\n",
       "\n",
       "    .dataframe thead th {\n",
       "        text-align: right;\n",
       "    }\n",
       "</style>\n",
       "<table border=\"1\" class=\"dataframe\">\n",
       "  <thead>\n",
       "    <tr style=\"text-align: right;\">\n",
       "      <th></th>\n",
       "      <th>DSRI</th>\n",
       "      <th>GMI</th>\n",
       "      <th>AQI</th>\n",
       "      <th>SGI</th>\n",
       "      <th>DEPI</th>\n",
       "      <th>SGAI</th>\n",
       "      <th>TATA</th>\n",
       "      <th>LVGI</th>\n",
       "      <th>M-Score</th>\n",
       "      <th>M-Score TF</th>\n",
       "    </tr>\n",
       "  </thead>\n",
       "  <tbody>\n",
       "    <tr>\n",
       "      <th>2021-06-01</th>\n",
       "      <td>0.00</td>\n",
       "      <td>0.76</td>\n",
       "      <td>0.38</td>\n",
       "      <td>0.69</td>\n",
       "      <td>0.09</td>\n",
       "      <td>-0.19</td>\n",
       "      <td>-0.07</td>\n",
       "      <td>-0.36</td>\n",
       "      <td>-3.55</td>\n",
       "      <td>False</td>\n",
       "    </tr>\n",
       "    <tr>\n",
       "      <th>2020-12-01</th>\n",
       "      <td>0.55</td>\n",
       "      <td>0.28</td>\n",
       "      <td>0.36</td>\n",
       "      <td>0.66</td>\n",
       "      <td>0.08</td>\n",
       "      <td>-0.15</td>\n",
       "      <td>0.11</td>\n",
       "      <td>-0.49</td>\n",
       "      <td>-3.43</td>\n",
       "      <td>False</td>\n",
       "    </tr>\n",
       "    <tr>\n",
       "      <th>2020-06-01</th>\n",
       "      <td>0.00</td>\n",
       "      <td>0.38</td>\n",
       "      <td>0.36</td>\n",
       "      <td>0.79</td>\n",
       "      <td>0.10</td>\n",
       "      <td>-0.16</td>\n",
       "      <td>0.11</td>\n",
       "      <td>-0.49</td>\n",
       "      <td>-3.75</td>\n",
       "      <td>False</td>\n",
       "    </tr>\n",
       "    <tr>\n",
       "      <th>2019-12-01</th>\n",
       "      <td>2.56</td>\n",
       "      <td>0.62</td>\n",
       "      <td>0.38</td>\n",
       "      <td>0.81</td>\n",
       "      <td>0.16</td>\n",
       "      <td>-0.16</td>\n",
       "      <td>0.32</td>\n",
       "      <td>-0.37</td>\n",
       "      <td>-0.51</td>\n",
       "      <td>True</td>\n",
       "    </tr>\n",
       "    <tr>\n",
       "      <th>2019-06-01</th>\n",
       "      <td>0.00</td>\n",
       "      <td>0.56</td>\n",
       "      <td>0.38</td>\n",
       "      <td>0.81</td>\n",
       "      <td>0.10</td>\n",
       "      <td>-0.17</td>\n",
       "      <td>0.32</td>\n",
       "      <td>-0.37</td>\n",
       "      <td>-3.21</td>\n",
       "      <td>False</td>\n",
       "    </tr>\n",
       "    <tr>\n",
       "      <th>2018-12-01</th>\n",
       "      <td>0.06</td>\n",
       "      <td>0.56</td>\n",
       "      <td>0.40</td>\n",
       "      <td>0.81</td>\n",
       "      <td>0.10</td>\n",
       "      <td>-0.17</td>\n",
       "      <td>0.28</td>\n",
       "      <td>-0.26</td>\n",
       "      <td>-3.06</td>\n",
       "      <td>False</td>\n",
       "    </tr>\n",
       "    <tr>\n",
       "      <th>2018-06-01</th>\n",
       "      <td>0.00</td>\n",
       "      <td>0.51</td>\n",
       "      <td>0.40</td>\n",
       "      <td>0.75</td>\n",
       "      <td>0.10</td>\n",
       "      <td>-0.17</td>\n",
       "      <td>0.28</td>\n",
       "      <td>-0.26</td>\n",
       "      <td>-3.23</td>\n",
       "      <td>False</td>\n",
       "    </tr>\n",
       "    <tr>\n",
       "      <th>2017-12-01</th>\n",
       "      <td>0.89</td>\n",
       "      <td>0.45</td>\n",
       "      <td>0.40</td>\n",
       "      <td>0.75</td>\n",
       "      <td>0.09</td>\n",
       "      <td>-0.17</td>\n",
       "      <td>0.31</td>\n",
       "      <td>-0.31</td>\n",
       "      <td>-2.43</td>\n",
       "      <td>False</td>\n",
       "    </tr>\n",
       "    <tr>\n",
       "      <th>2017-06-01</th>\n",
       "      <td>0.00</td>\n",
       "      <td>0.46</td>\n",
       "      <td>0.40</td>\n",
       "      <td>0.85</td>\n",
       "      <td>0.14</td>\n",
       "      <td>-0.17</td>\n",
       "      <td>0.31</td>\n",
       "      <td>-0.31</td>\n",
       "      <td>-3.16</td>\n",
       "      <td>False</td>\n",
       "    </tr>\n",
       "    <tr>\n",
       "      <th>2016-12-01</th>\n",
       "      <td>0.97</td>\n",
       "      <td>0.82</td>\n",
       "      <td>0.37</td>\n",
       "      <td>0.84</td>\n",
       "      <td>0.16</td>\n",
       "      <td>-0.19</td>\n",
       "      <td>0.69</td>\n",
       "      <td>-0.28</td>\n",
       "      <td>-1.45</td>\n",
       "      <td>True</td>\n",
       "    </tr>\n",
       "    <tr>\n",
       "      <th>2016-06-01</th>\n",
       "      <td>0.89</td>\n",
       "      <td>0.55</td>\n",
       "      <td>0.37</td>\n",
       "      <td>0.74</td>\n",
       "      <td>0.15</td>\n",
       "      <td>-0.17</td>\n",
       "      <td>0.69</td>\n",
       "      <td>-0.28</td>\n",
       "      <td>-1.90</td>\n",
       "      <td>False</td>\n",
       "    </tr>\n",
       "    <tr>\n",
       "      <th>2015-12-01</th>\n",
       "      <td>0.00</td>\n",
       "      <td>0.07</td>\n",
       "      <td>0.34</td>\n",
       "      <td>0.00</td>\n",
       "      <td>0.12</td>\n",
       "      <td>-0.16</td>\n",
       "      <td>-0.36</td>\n",
       "      <td>-0.32</td>\n",
       "      <td>-5.15</td>\n",
       "      <td>False</td>\n",
       "    </tr>\n",
       "    <tr>\n",
       "      <th>2015-06-01</th>\n",
       "      <td>0.00</td>\n",
       "      <td>0.00</td>\n",
       "      <td>0.34</td>\n",
       "      <td>0.00</td>\n",
       "      <td>-0.00</td>\n",
       "      <td>-0.17</td>\n",
       "      <td>-0.36</td>\n",
       "      <td>-0.32</td>\n",
       "      <td>-5.35</td>\n",
       "      <td>False</td>\n",
       "    </tr>\n",
       "    <tr>\n",
       "      <th>2014-12-01</th>\n",
       "      <td>0.00</td>\n",
       "      <td>0.00</td>\n",
       "      <td>0.40</td>\n",
       "      <td>0.00</td>\n",
       "      <td>0.12</td>\n",
       "      <td>-0.17</td>\n",
       "      <td>0.00</td>\n",
       "      <td>-0.00</td>\n",
       "      <td>-4.49</td>\n",
       "      <td>False</td>\n",
       "    </tr>\n",
       "  </tbody>\n",
       "</table>\n",
       "</div>"
      ],
      "text/plain": [
       "           DSRI  GMI  AQI  SGI  DEPI  SGAI  TATA  LVGI M-Score M-Score TF\n",
       "2021-06-01 0.00 0.76 0.38 0.69  0.09 -0.19 -0.07 -0.36   -3.55      False\n",
       "2020-12-01 0.55 0.28 0.36 0.66  0.08 -0.15  0.11 -0.49   -3.43      False\n",
       "2020-06-01 0.00 0.38 0.36 0.79  0.10 -0.16  0.11 -0.49   -3.75      False\n",
       "2019-12-01 2.56 0.62 0.38 0.81  0.16 -0.16  0.32 -0.37   -0.51       True\n",
       "2019-06-01 0.00 0.56 0.38 0.81  0.10 -0.17  0.32 -0.37   -3.21      False\n",
       "2018-12-01 0.06 0.56 0.40 0.81  0.10 -0.17  0.28 -0.26   -3.06      False\n",
       "2018-06-01 0.00 0.51 0.40 0.75  0.10 -0.17  0.28 -0.26   -3.23      False\n",
       "2017-12-01 0.89 0.45 0.40 0.75  0.09 -0.17  0.31 -0.31   -2.43      False\n",
       "2017-06-01 0.00 0.46 0.40 0.85  0.14 -0.17  0.31 -0.31   -3.16      False\n",
       "2016-12-01 0.97 0.82 0.37 0.84  0.16 -0.19  0.69 -0.28   -1.45       True\n",
       "2016-06-01 0.89 0.55 0.37 0.74  0.15 -0.17  0.69 -0.28   -1.90      False\n",
       "2015-12-01 0.00 0.07 0.34 0.00  0.12 -0.16 -0.36 -0.32   -5.15      False\n",
       "2015-06-01 0.00 0.00 0.34 0.00 -0.00 -0.17 -0.36 -0.32   -5.35      False\n",
       "2014-12-01 0.00 0.00 0.40 0.00  0.12 -0.17  0.00 -0.00   -4.49      False"
      ]
     },
     "execution_count": 38,
     "metadata": {},
     "output_type": "execute_result"
    }
   ],
   "source": [
    "workbooks_combined['ADH']['Penalty Notices']"
   ]
  },
  {
   "cell_type": "markdown",
   "id": "4981edc6",
   "metadata": {},
   "source": [
    "### Penalty Notices"
   ]
  },
  {
   "cell_type": "markdown",
   "id": "99470c96",
   "metadata": {},
   "source": [
    "#### Here we derive a dataset that attempts to capture the periods in which fraud or malicious activity occurred by each company, using the dates of the issues within the penalty notices issued by ASIC as a proxy. "
   ]
  },
  {
   "cell_type": "code",
   "execution_count": 39,
   "id": "c0d75cde",
   "metadata": {
    "scrolled": true
   },
   "outputs": [
    {
     "data": {
      "text/html": [
       "<div>\n",
       "<style scoped>\n",
       "    .dataframe tbody tr th:only-of-type {\n",
       "        vertical-align: middle;\n",
       "    }\n",
       "\n",
       "    .dataframe tbody tr th {\n",
       "        vertical-align: top;\n",
       "    }\n",
       "\n",
       "    .dataframe thead th {\n",
       "        text-align: right;\n",
       "    }\n",
       "</style>\n",
       "<table border=\"1\" class=\"dataframe\">\n",
       "  <thead>\n",
       "    <tr style=\"text-align: right;\">\n",
       "      <th></th>\n",
       "      <th>ADH</th>\n",
       "      <th>ANZ</th>\n",
       "      <th>BCI</th>\n",
       "      <th>BFG</th>\n",
       "      <th>BHP</th>\n",
       "      <th>BNL</th>\n",
       "      <th>BPG</th>\n",
       "      <th>BTR</th>\n",
       "      <th>CBA</th>\n",
       "      <th>CCC</th>\n",
       "      <th>...</th>\n",
       "      <th>NAB</th>\n",
       "      <th>NCM</th>\n",
       "      <th>NGI</th>\n",
       "      <th>REX</th>\n",
       "      <th>RIO</th>\n",
       "      <th>RNO</th>\n",
       "      <th>SRX</th>\n",
       "      <th>SRZ</th>\n",
       "      <th>WBC</th>\n",
       "      <th>WCC</th>\n",
       "    </tr>\n",
       "  </thead>\n",
       "  <tbody>\n",
       "    <tr>\n",
       "      <th>0</th>\n",
       "      <td>2016-09-23</td>\n",
       "      <td>2020-10-01</td>\n",
       "      <td>2012-03-01</td>\n",
       "      <td>2015-07-14</td>\n",
       "      <td>2012-03-05</td>\n",
       "      <td>2015-09-07</td>\n",
       "      <td>2017-12-14</td>\n",
       "      <td>2013-06-17</td>\n",
       "      <td>2014-12-01</td>\n",
       "      <td>2017-02-26</td>\n",
       "      <td>...</td>\n",
       "      <td>2012-09-08</td>\n",
       "      <td>2011-03-30</td>\n",
       "      <td>2020-09-21</td>\n",
       "      <td>2020-05-11</td>\n",
       "      <td>2012-03-05</td>\n",
       "      <td>2014-06-06</td>\n",
       "      <td>2016-12-09</td>\n",
       "      <td>2013-06-03</td>\n",
       "      <td>2013-10-02</td>\n",
       "      <td>2014-07-16</td>\n",
       "    </tr>\n",
       "  </tbody>\n",
       "</table>\n",
       "<p>1 rows × 32 columns</p>\n",
       "</div>"
      ],
      "text/plain": [
       "         ADH        ANZ        BCI        BFG        BHP        BNL  \\\n",
       "0 2016-09-23 2020-10-01 2012-03-01 2015-07-14 2012-03-05 2015-09-07   \n",
       "\n",
       "         BPG        BTR        CBA        CCC  ...        NAB        NCM  \\\n",
       "0 2017-12-14 2013-06-17 2014-12-01 2017-02-26  ... 2012-09-08 2011-03-30   \n",
       "\n",
       "         NGI        REX        RIO        RNO        SRX        SRZ  \\\n",
       "0 2020-09-21 2020-05-11 2012-03-05 2014-06-06 2016-12-09 2013-06-03   \n",
       "\n",
       "         WBC        WCC  \n",
       "0 2013-10-02 2014-07-16  \n",
       "\n",
       "[1 rows x 32 columns]"
      ]
     },
     "execution_count": 39,
     "metadata": {},
     "output_type": "execute_result"
    }
   ],
   "source": [
    "penalty_notices = pd.read_excel('COMP3850 Penalty Dates.xlsx', sheet_name=None)\n",
    "penalty_notices = pd.DataFrame(penalty_notices['Sheet1'])\n",
    "penalty_notices"
   ]
  },
  {
   "cell_type": "markdown",
   "id": "9e0e6235",
   "metadata": {},
   "source": [
    "#### Calculating penalty dates that correpond with reporting periods"
   ]
  },
  {
   "cell_type": "code",
   "execution_count": 40,
   "id": "bd546ccb",
   "metadata": {},
   "outputs": [],
   "source": [
    "for company in workbooks_combined:\n",
    "    dates = workbooks_combined[company]['Profit Loss'].index\n",
    "    dates = pd.DataFrame(index=dates)\n",
    "    dates['Penalty Issued'] = False\n",
    "    workbooks_combined[company]['Penalty Notices']['Penalty Issued'] = dates\n",
    "    \n",
    "    for penalty_date in penalty_notices[company]:\n",
    "        for date in dates.index:\n",
    "            time_delta = ((penalty_date - date)/np.timedelta64(1, 'M'))\n",
    "\n",
    "            if time_delta < 0 and time_delta > -6:\n",
    "                dates.loc[date] = True\n",
    "    \n",
    "    workbooks_combined[company]['Penalty Notices']['Penalty Issued'] = dates"
   ]
  },
  {
   "cell_type": "markdown",
   "id": "ddea9819",
   "metadata": {},
   "source": [
    "### Confusion Matrix"
   ]
  },
  {
   "cell_type": "code",
   "execution_count": 41,
   "id": "f04e4d24",
   "metadata": {},
   "outputs": [
    {
     "data": {
      "text/html": [
       "<div>\n",
       "<style scoped>\n",
       "    .dataframe tbody tr th:only-of-type {\n",
       "        vertical-align: middle;\n",
       "    }\n",
       "\n",
       "    .dataframe tbody tr th {\n",
       "        vertical-align: top;\n",
       "    }\n",
       "\n",
       "    .dataframe thead th {\n",
       "        text-align: right;\n",
       "    }\n",
       "</style>\n",
       "<table border=\"1\" class=\"dataframe\">\n",
       "  <thead>\n",
       "    <tr style=\"text-align: right;\">\n",
       "      <th></th>\n",
       "      <th>DSRI</th>\n",
       "      <th>GMI</th>\n",
       "      <th>AQI</th>\n",
       "      <th>SGI</th>\n",
       "      <th>DEPI</th>\n",
       "      <th>SGAI</th>\n",
       "      <th>TATA</th>\n",
       "      <th>LVGI</th>\n",
       "      <th>M-Score</th>\n",
       "      <th>M-Score TF</th>\n",
       "      <th>Penalty Issued</th>\n",
       "    </tr>\n",
       "  </thead>\n",
       "  <tbody>\n",
       "    <tr>\n",
       "      <th>2021-06-01</th>\n",
       "      <td>0.00</td>\n",
       "      <td>0.76</td>\n",
       "      <td>0.38</td>\n",
       "      <td>0.69</td>\n",
       "      <td>0.09</td>\n",
       "      <td>-0.19</td>\n",
       "      <td>-0.07</td>\n",
       "      <td>-0.36</td>\n",
       "      <td>-3.55</td>\n",
       "      <td>False</td>\n",
       "      <td>False</td>\n",
       "    </tr>\n",
       "    <tr>\n",
       "      <th>2020-12-01</th>\n",
       "      <td>0.55</td>\n",
       "      <td>0.28</td>\n",
       "      <td>0.36</td>\n",
       "      <td>0.66</td>\n",
       "      <td>0.08</td>\n",
       "      <td>-0.15</td>\n",
       "      <td>0.11</td>\n",
       "      <td>-0.49</td>\n",
       "      <td>-3.43</td>\n",
       "      <td>False</td>\n",
       "      <td>False</td>\n",
       "    </tr>\n",
       "    <tr>\n",
       "      <th>2020-06-01</th>\n",
       "      <td>0.00</td>\n",
       "      <td>0.38</td>\n",
       "      <td>0.36</td>\n",
       "      <td>0.79</td>\n",
       "      <td>0.10</td>\n",
       "      <td>-0.16</td>\n",
       "      <td>0.11</td>\n",
       "      <td>-0.49</td>\n",
       "      <td>-3.75</td>\n",
       "      <td>False</td>\n",
       "      <td>False</td>\n",
       "    </tr>\n",
       "    <tr>\n",
       "      <th>2019-12-01</th>\n",
       "      <td>2.56</td>\n",
       "      <td>0.62</td>\n",
       "      <td>0.38</td>\n",
       "      <td>0.81</td>\n",
       "      <td>0.16</td>\n",
       "      <td>-0.16</td>\n",
       "      <td>0.32</td>\n",
       "      <td>-0.37</td>\n",
       "      <td>-0.51</td>\n",
       "      <td>True</td>\n",
       "      <td>False</td>\n",
       "    </tr>\n",
       "    <tr>\n",
       "      <th>2019-06-01</th>\n",
       "      <td>0.00</td>\n",
       "      <td>0.56</td>\n",
       "      <td>0.38</td>\n",
       "      <td>0.81</td>\n",
       "      <td>0.10</td>\n",
       "      <td>-0.17</td>\n",
       "      <td>0.32</td>\n",
       "      <td>-0.37</td>\n",
       "      <td>-3.21</td>\n",
       "      <td>False</td>\n",
       "      <td>False</td>\n",
       "    </tr>\n",
       "    <tr>\n",
       "      <th>2018-12-01</th>\n",
       "      <td>0.06</td>\n",
       "      <td>0.56</td>\n",
       "      <td>0.40</td>\n",
       "      <td>0.81</td>\n",
       "      <td>0.10</td>\n",
       "      <td>-0.17</td>\n",
       "      <td>0.28</td>\n",
       "      <td>-0.26</td>\n",
       "      <td>-3.06</td>\n",
       "      <td>False</td>\n",
       "      <td>False</td>\n",
       "    </tr>\n",
       "    <tr>\n",
       "      <th>2018-06-01</th>\n",
       "      <td>0.00</td>\n",
       "      <td>0.51</td>\n",
       "      <td>0.40</td>\n",
       "      <td>0.75</td>\n",
       "      <td>0.10</td>\n",
       "      <td>-0.17</td>\n",
       "      <td>0.28</td>\n",
       "      <td>-0.26</td>\n",
       "      <td>-3.23</td>\n",
       "      <td>False</td>\n",
       "      <td>False</td>\n",
       "    </tr>\n",
       "    <tr>\n",
       "      <th>2017-12-01</th>\n",
       "      <td>0.89</td>\n",
       "      <td>0.45</td>\n",
       "      <td>0.40</td>\n",
       "      <td>0.75</td>\n",
       "      <td>0.09</td>\n",
       "      <td>-0.17</td>\n",
       "      <td>0.31</td>\n",
       "      <td>-0.31</td>\n",
       "      <td>-2.43</td>\n",
       "      <td>False</td>\n",
       "      <td>False</td>\n",
       "    </tr>\n",
       "    <tr>\n",
       "      <th>2017-06-01</th>\n",
       "      <td>0.00</td>\n",
       "      <td>0.46</td>\n",
       "      <td>0.40</td>\n",
       "      <td>0.85</td>\n",
       "      <td>0.14</td>\n",
       "      <td>-0.17</td>\n",
       "      <td>0.31</td>\n",
       "      <td>-0.31</td>\n",
       "      <td>-3.16</td>\n",
       "      <td>False</td>\n",
       "      <td>False</td>\n",
       "    </tr>\n",
       "    <tr>\n",
       "      <th>2016-12-01</th>\n",
       "      <td>0.97</td>\n",
       "      <td>0.82</td>\n",
       "      <td>0.37</td>\n",
       "      <td>0.84</td>\n",
       "      <td>0.16</td>\n",
       "      <td>-0.19</td>\n",
       "      <td>0.69</td>\n",
       "      <td>-0.28</td>\n",
       "      <td>-1.45</td>\n",
       "      <td>True</td>\n",
       "      <td>True</td>\n",
       "    </tr>\n",
       "    <tr>\n",
       "      <th>2016-06-01</th>\n",
       "      <td>0.89</td>\n",
       "      <td>0.55</td>\n",
       "      <td>0.37</td>\n",
       "      <td>0.74</td>\n",
       "      <td>0.15</td>\n",
       "      <td>-0.17</td>\n",
       "      <td>0.69</td>\n",
       "      <td>-0.28</td>\n",
       "      <td>-1.90</td>\n",
       "      <td>False</td>\n",
       "      <td>False</td>\n",
       "    </tr>\n",
       "    <tr>\n",
       "      <th>2015-12-01</th>\n",
       "      <td>0.00</td>\n",
       "      <td>0.07</td>\n",
       "      <td>0.34</td>\n",
       "      <td>0.00</td>\n",
       "      <td>0.12</td>\n",
       "      <td>-0.16</td>\n",
       "      <td>-0.36</td>\n",
       "      <td>-0.32</td>\n",
       "      <td>-5.15</td>\n",
       "      <td>False</td>\n",
       "      <td>False</td>\n",
       "    </tr>\n",
       "    <tr>\n",
       "      <th>2015-06-01</th>\n",
       "      <td>0.00</td>\n",
       "      <td>0.00</td>\n",
       "      <td>0.34</td>\n",
       "      <td>0.00</td>\n",
       "      <td>-0.00</td>\n",
       "      <td>-0.17</td>\n",
       "      <td>-0.36</td>\n",
       "      <td>-0.32</td>\n",
       "      <td>-5.35</td>\n",
       "      <td>False</td>\n",
       "      <td>False</td>\n",
       "    </tr>\n",
       "    <tr>\n",
       "      <th>2014-12-01</th>\n",
       "      <td>0.00</td>\n",
       "      <td>0.00</td>\n",
       "      <td>0.40</td>\n",
       "      <td>0.00</td>\n",
       "      <td>0.12</td>\n",
       "      <td>-0.17</td>\n",
       "      <td>0.00</td>\n",
       "      <td>-0.00</td>\n",
       "      <td>-4.49</td>\n",
       "      <td>False</td>\n",
       "      <td>False</td>\n",
       "    </tr>\n",
       "  </tbody>\n",
       "</table>\n",
       "</div>"
      ],
      "text/plain": [
       "           DSRI  GMI  AQI  SGI  DEPI  SGAI  TATA  LVGI M-Score M-Score TF  \\\n",
       "2021-06-01 0.00 0.76 0.38 0.69  0.09 -0.19 -0.07 -0.36   -3.55      False   \n",
       "2020-12-01 0.55 0.28 0.36 0.66  0.08 -0.15  0.11 -0.49   -3.43      False   \n",
       "2020-06-01 0.00 0.38 0.36 0.79  0.10 -0.16  0.11 -0.49   -3.75      False   \n",
       "2019-12-01 2.56 0.62 0.38 0.81  0.16 -0.16  0.32 -0.37   -0.51       True   \n",
       "2019-06-01 0.00 0.56 0.38 0.81  0.10 -0.17  0.32 -0.37   -3.21      False   \n",
       "2018-12-01 0.06 0.56 0.40 0.81  0.10 -0.17  0.28 -0.26   -3.06      False   \n",
       "2018-06-01 0.00 0.51 0.40 0.75  0.10 -0.17  0.28 -0.26   -3.23      False   \n",
       "2017-12-01 0.89 0.45 0.40 0.75  0.09 -0.17  0.31 -0.31   -2.43      False   \n",
       "2017-06-01 0.00 0.46 0.40 0.85  0.14 -0.17  0.31 -0.31   -3.16      False   \n",
       "2016-12-01 0.97 0.82 0.37 0.84  0.16 -0.19  0.69 -0.28   -1.45       True   \n",
       "2016-06-01 0.89 0.55 0.37 0.74  0.15 -0.17  0.69 -0.28   -1.90      False   \n",
       "2015-12-01 0.00 0.07 0.34 0.00  0.12 -0.16 -0.36 -0.32   -5.15      False   \n",
       "2015-06-01 0.00 0.00 0.34 0.00 -0.00 -0.17 -0.36 -0.32   -5.35      False   \n",
       "2014-12-01 0.00 0.00 0.40 0.00  0.12 -0.17  0.00 -0.00   -4.49      False   \n",
       "\n",
       "            Penalty Issued  \n",
       "2021-06-01           False  \n",
       "2020-12-01           False  \n",
       "2020-06-01           False  \n",
       "2019-12-01           False  \n",
       "2019-06-01           False  \n",
       "2018-12-01           False  \n",
       "2018-06-01           False  \n",
       "2017-12-01           False  \n",
       "2017-06-01           False  \n",
       "2016-12-01            True  \n",
       "2016-06-01           False  \n",
       "2015-12-01           False  \n",
       "2015-06-01           False  \n",
       "2014-12-01           False  "
      ]
     },
     "execution_count": 41,
     "metadata": {},
     "output_type": "execute_result"
    }
   ],
   "source": [
    "workbooks_combined['ADH']['Penalty Notices']"
   ]
  },
  {
   "cell_type": "markdown",
   "id": "b9a7eea4",
   "metadata": {},
   "source": [
    "#### From the predictions below, we've identified that the model successfully detected 15 out of 28 (53.6%) anomalous periods based on the in-scope penalty notices, and missed 13 of them. The model confirmed a considerable proportion of the true negative periods, i.e. the periods which were not anomalous (347 out of 557 or 62.3%). Interestingly, the model flagged 210 periods as anomalous that did not appear in the ground truth dataset derived from the penalty notices. This could be an indicator that there were anomalous events during these periods that were missed by ASIC and could correspond with undetected suspicious activity. Alternatively, this could indicate that the model was too ambitious in detecting anomalies"
   ]
  },
  {
   "cell_type": "code",
   "execution_count": 42,
   "id": "ab0607db",
   "metadata": {
    "scrolled": true
   },
   "outputs": [
    {
     "name": "stdout",
     "output_type": "stream",
     "text": [
      "ADH Correctly predicted\n",
      "ANZ Missed\n",
      "BCI Missed\n",
      "BFG Correctly predicted\n",
      "BHP Correctly predicted\n",
      "BNL Missed\n",
      "BPG Correctly predicted\n",
      "BTR Missed\n",
      "CBA Missed\n",
      "CIM Missed\n",
      "CVR Correctly predicted\n",
      "DGX Missed\n",
      "DTZ Correctly predicted\n",
      "GMN Missed\n",
      "HWK Missed\n",
      "JBH Missed\n",
      "LCT Correctly predicted\n",
      "MEB Missed\n",
      "MFG Missed\n",
      "MGC Missed\n",
      "MQG Missed\n",
      "NAB Missed\n",
      "NCM Missed\n",
      "NGI Missed\n",
      "REX Missed\n",
      "RIO Correctly predicted\n",
      "RNO Missed\n",
      "SRX Missed\n",
      "SRZ Missed\n",
      "WBC Missed\n",
      "WCC Missed\n",
      "True Positives 8\n",
      "True Negatives 454\n",
      "False Positives 100\n",
      "False Negatives 23\n"
     ]
    }
   ],
   "source": [
    "TP = 0\n",
    "TN = 0\n",
    "FP = 0\n",
    "FN = 0\n",
    "\n",
    "for company in workbooks_combined:\n",
    "    company_penalties = workbooks_combined[company]['Penalty Notices']\n",
    "    for [actual, predicted] in zip(company_penalties['Penalty Issued'], company_penalties['M-Score TF']):\n",
    "        if actual == True:\n",
    "            if predicted == True:\n",
    "                TP += 1\n",
    "                print(company, 'Correctly predicted')\n",
    "            else:\n",
    "                FN += 1\n",
    "                print(company, 'Missed')\n",
    "        if actual == False:\n",
    "            if predicted == False:\n",
    "                TN += 1\n",
    "            else:\n",
    "                FP += 1 \n",
    "\n",
    "print('True Positives', TP)\n",
    "print('True Negatives', TN)\n",
    "print('False Positives', FP)\n",
    "print('False Negatives', FN)\n",
    "\n",
    "                "
   ]
  },
  {
   "cell_type": "code",
   "execution_count": 43,
   "id": "65c7e981",
   "metadata": {},
   "outputs": [
    {
     "data": {
      "text/html": [
       "<div>\n",
       "<style scoped>\n",
       "    .dataframe tbody tr th:only-of-type {\n",
       "        vertical-align: middle;\n",
       "    }\n",
       "\n",
       "    .dataframe tbody tr th {\n",
       "        vertical-align: top;\n",
       "    }\n",
       "\n",
       "    .dataframe thead th {\n",
       "        text-align: right;\n",
       "    }\n",
       "</style>\n",
       "<table border=\"1\" class=\"dataframe\">\n",
       "  <thead>\n",
       "    <tr style=\"text-align: right;\">\n",
       "      <th></th>\n",
       "      <th>DSRI</th>\n",
       "      <th>GMI</th>\n",
       "      <th>AQI</th>\n",
       "      <th>SGI</th>\n",
       "      <th>DEPI</th>\n",
       "      <th>SGAI</th>\n",
       "      <th>TATA</th>\n",
       "      <th>LVGI</th>\n",
       "      <th>M-Score</th>\n",
       "      <th>M-Score TF</th>\n",
       "      <th>Penalty Issued</th>\n",
       "    </tr>\n",
       "  </thead>\n",
       "  <tbody>\n",
       "    <tr>\n",
       "      <th>2021-03-01</th>\n",
       "      <td>-0.02</td>\n",
       "      <td>-0.01</td>\n",
       "      <td>0.40</td>\n",
       "      <td>-0.02</td>\n",
       "      <td>0.12</td>\n",
       "      <td>-0.17</td>\n",
       "      <td>-0.11</td>\n",
       "      <td>-0.00</td>\n",
       "      <td>-4.66</td>\n",
       "      <td>False</td>\n",
       "      <td>True</td>\n",
       "    </tr>\n",
       "    <tr>\n",
       "      <th>2020-09-01</th>\n",
       "      <td>-0.03</td>\n",
       "      <td>-0.02</td>\n",
       "      <td>0.40</td>\n",
       "      <td>-0.03</td>\n",
       "      <td>0.12</td>\n",
       "      <td>-0.17</td>\n",
       "      <td>-0.15</td>\n",
       "      <td>-0.00</td>\n",
       "      <td>-4.72</td>\n",
       "      <td>False</td>\n",
       "      <td>False</td>\n",
       "    </tr>\n",
       "    <tr>\n",
       "      <th>2020-03-01</th>\n",
       "      <td>-0.04</td>\n",
       "      <td>-0.02</td>\n",
       "      <td>0.40</td>\n",
       "      <td>-0.04</td>\n",
       "      <td>0.12</td>\n",
       "      <td>-0.17</td>\n",
       "      <td>-0.21</td>\n",
       "      <td>-0.00</td>\n",
       "      <td>-4.81</td>\n",
       "      <td>False</td>\n",
       "      <td>False</td>\n",
       "    </tr>\n",
       "    <tr>\n",
       "      <th>2019-09-01</th>\n",
       "      <td>0.01</td>\n",
       "      <td>0.01</td>\n",
       "      <td>0.40</td>\n",
       "      <td>0.01</td>\n",
       "      <td>0.12</td>\n",
       "      <td>-0.17</td>\n",
       "      <td>0.06</td>\n",
       "      <td>-0.00</td>\n",
       "      <td>-4.40</td>\n",
       "      <td>False</td>\n",
       "      <td>False</td>\n",
       "    </tr>\n",
       "    <tr>\n",
       "      <th>2019-03-01</th>\n",
       "      <td>-0.00</td>\n",
       "      <td>-0.00</td>\n",
       "      <td>0.40</td>\n",
       "      <td>-0.00</td>\n",
       "      <td>0.12</td>\n",
       "      <td>-0.17</td>\n",
       "      <td>-0.01</td>\n",
       "      <td>-0.00</td>\n",
       "      <td>-4.50</td>\n",
       "      <td>False</td>\n",
       "      <td>False</td>\n",
       "    </tr>\n",
       "    <tr>\n",
       "      <th>2018-09-01</th>\n",
       "      <td>0.00</td>\n",
       "      <td>0.00</td>\n",
       "      <td>0.40</td>\n",
       "      <td>0.00</td>\n",
       "      <td>0.12</td>\n",
       "      <td>-0.17</td>\n",
       "      <td>0.00</td>\n",
       "      <td>-0.00</td>\n",
       "      <td>-4.49</td>\n",
       "      <td>False</td>\n",
       "      <td>False</td>\n",
       "    </tr>\n",
       "    <tr>\n",
       "      <th>2018-03-01</th>\n",
       "      <td>-0.01</td>\n",
       "      <td>-0.00</td>\n",
       "      <td>0.40</td>\n",
       "      <td>-0.01</td>\n",
       "      <td>0.12</td>\n",
       "      <td>-0.17</td>\n",
       "      <td>-0.03</td>\n",
       "      <td>-0.00</td>\n",
       "      <td>-4.53</td>\n",
       "      <td>False</td>\n",
       "      <td>False</td>\n",
       "    </tr>\n",
       "    <tr>\n",
       "      <th>2017-09-01</th>\n",
       "      <td>-0.00</td>\n",
       "      <td>-0.00</td>\n",
       "      <td>0.40</td>\n",
       "      <td>-0.00</td>\n",
       "      <td>0.12</td>\n",
       "      <td>-0.17</td>\n",
       "      <td>-0.01</td>\n",
       "      <td>-0.00</td>\n",
       "      <td>-4.51</td>\n",
       "      <td>False</td>\n",
       "      <td>False</td>\n",
       "    </tr>\n",
       "    <tr>\n",
       "      <th>2017-03-01</th>\n",
       "      <td>-0.01</td>\n",
       "      <td>-0.00</td>\n",
       "      <td>0.40</td>\n",
       "      <td>-0.01</td>\n",
       "      <td>0.12</td>\n",
       "      <td>-0.17</td>\n",
       "      <td>-0.04</td>\n",
       "      <td>-0.00</td>\n",
       "      <td>-4.56</td>\n",
       "      <td>False</td>\n",
       "      <td>False</td>\n",
       "    </tr>\n",
       "    <tr>\n",
       "      <th>2016-09-01</th>\n",
       "      <td>0.01</td>\n",
       "      <td>0.01</td>\n",
       "      <td>0.40</td>\n",
       "      <td>0.01</td>\n",
       "      <td>0.12</td>\n",
       "      <td>-0.17</td>\n",
       "      <td>0.06</td>\n",
       "      <td>-0.00</td>\n",
       "      <td>-4.40</td>\n",
       "      <td>False</td>\n",
       "      <td>False</td>\n",
       "    </tr>\n",
       "    <tr>\n",
       "      <th>2016-03-01</th>\n",
       "      <td>-0.01</td>\n",
       "      <td>-0.00</td>\n",
       "      <td>0.40</td>\n",
       "      <td>-0.01</td>\n",
       "      <td>0.12</td>\n",
       "      <td>-0.17</td>\n",
       "      <td>-0.03</td>\n",
       "      <td>-0.00</td>\n",
       "      <td>-4.54</td>\n",
       "      <td>False</td>\n",
       "      <td>False</td>\n",
       "    </tr>\n",
       "    <tr>\n",
       "      <th>2015-09-01</th>\n",
       "      <td>-0.00</td>\n",
       "      <td>-0.00</td>\n",
       "      <td>0.40</td>\n",
       "      <td>-0.00</td>\n",
       "      <td>0.12</td>\n",
       "      <td>-0.17</td>\n",
       "      <td>-0.00</td>\n",
       "      <td>-0.00</td>\n",
       "      <td>-4.50</td>\n",
       "      <td>False</td>\n",
       "      <td>False</td>\n",
       "    </tr>\n",
       "    <tr>\n",
       "      <th>2015-03-01</th>\n",
       "      <td>-0.01</td>\n",
       "      <td>-0.01</td>\n",
       "      <td>0.40</td>\n",
       "      <td>-0.01</td>\n",
       "      <td>0.12</td>\n",
       "      <td>-0.17</td>\n",
       "      <td>-0.05</td>\n",
       "      <td>-0.00</td>\n",
       "      <td>-4.57</td>\n",
       "      <td>False</td>\n",
       "      <td>False</td>\n",
       "    </tr>\n",
       "    <tr>\n",
       "      <th>2014-09-01</th>\n",
       "      <td>0.01</td>\n",
       "      <td>0.00</td>\n",
       "      <td>0.40</td>\n",
       "      <td>0.01</td>\n",
       "      <td>0.12</td>\n",
       "      <td>-0.17</td>\n",
       "      <td>0.04</td>\n",
       "      <td>-0.00</td>\n",
       "      <td>-4.43</td>\n",
       "      <td>False</td>\n",
       "      <td>False</td>\n",
       "    </tr>\n",
       "    <tr>\n",
       "      <th>2014-03-01</th>\n",
       "      <td>-0.01</td>\n",
       "      <td>-0.00</td>\n",
       "      <td>0.40</td>\n",
       "      <td>-0.01</td>\n",
       "      <td>0.12</td>\n",
       "      <td>-0.17</td>\n",
       "      <td>-0.03</td>\n",
       "      <td>-0.00</td>\n",
       "      <td>-4.54</td>\n",
       "      <td>False</td>\n",
       "      <td>False</td>\n",
       "    </tr>\n",
       "    <tr>\n",
       "      <th>2013-09-01</th>\n",
       "      <td>-0.00</td>\n",
       "      <td>-0.00</td>\n",
       "      <td>0.40</td>\n",
       "      <td>-0.00</td>\n",
       "      <td>0.12</td>\n",
       "      <td>-0.17</td>\n",
       "      <td>-0.01</td>\n",
       "      <td>-0.00</td>\n",
       "      <td>-4.50</td>\n",
       "      <td>False</td>\n",
       "      <td>False</td>\n",
       "    </tr>\n",
       "    <tr>\n",
       "      <th>2013-03-01</th>\n",
       "      <td>-0.03</td>\n",
       "      <td>-0.02</td>\n",
       "      <td>0.40</td>\n",
       "      <td>-0.03</td>\n",
       "      <td>0.12</td>\n",
       "      <td>-0.17</td>\n",
       "      <td>-0.16</td>\n",
       "      <td>-0.00</td>\n",
       "      <td>-4.73</td>\n",
       "      <td>False</td>\n",
       "      <td>False</td>\n",
       "    </tr>\n",
       "    <tr>\n",
       "      <th>2012-09-01</th>\n",
       "      <td>0.00</td>\n",
       "      <td>0.00</td>\n",
       "      <td>0.40</td>\n",
       "      <td>0.00</td>\n",
       "      <td>0.12</td>\n",
       "      <td>-0.17</td>\n",
       "      <td>0.02</td>\n",
       "      <td>-0.00</td>\n",
       "      <td>-4.47</td>\n",
       "      <td>False</td>\n",
       "      <td>False</td>\n",
       "    </tr>\n",
       "    <tr>\n",
       "      <th>2012-03-01</th>\n",
       "      <td>-0.00</td>\n",
       "      <td>-0.00</td>\n",
       "      <td>0.40</td>\n",
       "      <td>-0.00</td>\n",
       "      <td>0.12</td>\n",
       "      <td>-0.17</td>\n",
       "      <td>-0.01</td>\n",
       "      <td>-0.00</td>\n",
       "      <td>-4.50</td>\n",
       "      <td>False</td>\n",
       "      <td>False</td>\n",
       "    </tr>\n",
       "    <tr>\n",
       "      <th>2011-09-01</th>\n",
       "      <td>-0.01</td>\n",
       "      <td>-0.01</td>\n",
       "      <td>0.40</td>\n",
       "      <td>-0.01</td>\n",
       "      <td>0.12</td>\n",
       "      <td>-0.17</td>\n",
       "      <td>-0.07</td>\n",
       "      <td>-0.00</td>\n",
       "      <td>-4.59</td>\n",
       "      <td>False</td>\n",
       "      <td>False</td>\n",
       "    </tr>\n",
       "    <tr>\n",
       "      <th>2011-03-01</th>\n",
       "      <td>0.00</td>\n",
       "      <td>0.00</td>\n",
       "      <td>0.40</td>\n",
       "      <td>0.00</td>\n",
       "      <td>0.12</td>\n",
       "      <td>-0.17</td>\n",
       "      <td>0.00</td>\n",
       "      <td>-0.00</td>\n",
       "      <td>-4.49</td>\n",
       "      <td>False</td>\n",
       "      <td>False</td>\n",
       "    </tr>\n",
       "  </tbody>\n",
       "</table>\n",
       "</div>"
      ],
      "text/plain": [
       "            DSRI   GMI  AQI   SGI DEPI  SGAI  TATA  LVGI M-Score M-Score TF  \\\n",
       "2021-03-01 -0.02 -0.01 0.40 -0.02 0.12 -0.17 -0.11 -0.00   -4.66      False   \n",
       "2020-09-01 -0.03 -0.02 0.40 -0.03 0.12 -0.17 -0.15 -0.00   -4.72      False   \n",
       "2020-03-01 -0.04 -0.02 0.40 -0.04 0.12 -0.17 -0.21 -0.00   -4.81      False   \n",
       "2019-09-01  0.01  0.01 0.40  0.01 0.12 -0.17  0.06 -0.00   -4.40      False   \n",
       "2019-03-01 -0.00 -0.00 0.40 -0.00 0.12 -0.17 -0.01 -0.00   -4.50      False   \n",
       "2018-09-01  0.00  0.00 0.40  0.00 0.12 -0.17  0.00 -0.00   -4.49      False   \n",
       "2018-03-01 -0.01 -0.00 0.40 -0.01 0.12 -0.17 -0.03 -0.00   -4.53      False   \n",
       "2017-09-01 -0.00 -0.00 0.40 -0.00 0.12 -0.17 -0.01 -0.00   -4.51      False   \n",
       "2017-03-01 -0.01 -0.00 0.40 -0.01 0.12 -0.17 -0.04 -0.00   -4.56      False   \n",
       "2016-09-01  0.01  0.01 0.40  0.01 0.12 -0.17  0.06 -0.00   -4.40      False   \n",
       "2016-03-01 -0.01 -0.00 0.40 -0.01 0.12 -0.17 -0.03 -0.00   -4.54      False   \n",
       "2015-09-01 -0.00 -0.00 0.40 -0.00 0.12 -0.17 -0.00 -0.00   -4.50      False   \n",
       "2015-03-01 -0.01 -0.01 0.40 -0.01 0.12 -0.17 -0.05 -0.00   -4.57      False   \n",
       "2014-09-01  0.01  0.00 0.40  0.01 0.12 -0.17  0.04 -0.00   -4.43      False   \n",
       "2014-03-01 -0.01 -0.00 0.40 -0.01 0.12 -0.17 -0.03 -0.00   -4.54      False   \n",
       "2013-09-01 -0.00 -0.00 0.40 -0.00 0.12 -0.17 -0.01 -0.00   -4.50      False   \n",
       "2013-03-01 -0.03 -0.02 0.40 -0.03 0.12 -0.17 -0.16 -0.00   -4.73      False   \n",
       "2012-09-01  0.00  0.00 0.40  0.00 0.12 -0.17  0.02 -0.00   -4.47      False   \n",
       "2012-03-01 -0.00 -0.00 0.40 -0.00 0.12 -0.17 -0.01 -0.00   -4.50      False   \n",
       "2011-09-01 -0.01 -0.01 0.40 -0.01 0.12 -0.17 -0.07 -0.00   -4.59      False   \n",
       "2011-03-01  0.00  0.00 0.40  0.00 0.12 -0.17  0.00 -0.00   -4.49      False   \n",
       "\n",
       "            Penalty Issued  \n",
       "2021-03-01            True  \n",
       "2020-09-01           False  \n",
       "2020-03-01           False  \n",
       "2019-09-01           False  \n",
       "2019-03-01           False  \n",
       "2018-09-01           False  \n",
       "2018-03-01           False  \n",
       "2017-09-01           False  \n",
       "2017-03-01           False  \n",
       "2016-09-01           False  \n",
       "2016-03-01           False  \n",
       "2015-09-01           False  \n",
       "2015-03-01           False  \n",
       "2014-09-01           False  \n",
       "2014-03-01           False  \n",
       "2013-09-01           False  \n",
       "2013-03-01           False  \n",
       "2012-09-01           False  \n",
       "2012-03-01           False  \n",
       "2011-09-01           False  \n",
       "2011-03-01           False  "
      ]
     },
     "execution_count": 43,
     "metadata": {},
     "output_type": "execute_result"
    }
   ],
   "source": [
    "workbooks_combined['ANZ']['Penalty Notices']"
   ]
  },
  {
   "cell_type": "markdown",
   "id": "652d1b26",
   "metadata": {},
   "source": [
    "### New regression of m-score factors"
   ]
  },
  {
   "cell_type": "markdown",
   "id": "eb651a0a",
   "metadata": {},
   "source": [
    "#### Here we construct a new set of weightings of the m-score factors based on a logistic regression against the Penalty Issued indicator for each reporting period"
   ]
  },
  {
   "cell_type": "code",
   "execution_count": 44,
   "id": "1cef8be1",
   "metadata": {
    "scrolled": false
   },
   "outputs": [],
   "source": [
    "df_regression = pd.DataFrame()\n",
    "\n",
    "with warnings.catch_warnings(record=True):\n",
    "    for company in workbooks_combined:\n",
    "        t = calc_mscore_factors(company)\n",
    "        t['Penalty Issued'] = workbooks_combined[company]['Penalty Notices']['Penalty Issued']\n",
    "        df_regression = df_regression.append(t)\n",
    "    \n"
   ]
  },
  {
   "cell_type": "code",
   "execution_count": 45,
   "id": "594e7337",
   "metadata": {},
   "outputs": [
    {
     "name": "stdout",
     "output_type": "stream",
     "text": [
      "[[-1.92467315e-01 -4.83848521e-03  1.03891046e-03 -5.32844410e-04\n",
      "  -4.50951952e-03  1.03740590e-04  3.74830748e-02 -2.65325929e-01]] 0.9322033898305084\n"
     ]
    },
    {
     "name": "stderr",
     "output_type": "stream",
     "text": [
      "C:\\ProgramData\\Anaconda3\\lib\\site-packages\\sklearn\\linear_model\\_logistic.py:763: ConvergenceWarning: lbfgs failed to converge (status=1):\n",
      "STOP: TOTAL NO. of ITERATIONS REACHED LIMIT.\n",
      "\n",
      "Increase the number of iterations (max_iter) or scale the data as shown in:\n",
      "    https://scikit-learn.org/stable/modules/preprocessing.html\n",
      "Please also refer to the documentation for alternative solver options:\n",
      "    https://scikit-learn.org/stable/modules/linear_model.html#logistic-regression\n",
      "  n_iter_i = _check_optimize_result(\n"
     ]
    }
   ],
   "source": [
    "logisticRegr = LogisticRegression()\n",
    "\n",
    "X = df_regression[['DSRI','GMI', 'AQI', 'SGI', 'DEPI', 'SGAI', 'TATA', 'LVGI']] \n",
    "transformer = RobustScaler().fit(X)\n",
    "X = transformer.transform(X)\n",
    "\n",
    "Y = df_regression[['Penalty Issued']] \n",
    "\n",
    "X_train, X_test, y_train, y_test = train_test_split(X, Y, test_size=0.1, random_state=7)\n",
    "\n",
    "logisticRegr.fit(X_train, y_train.values.ravel())\n",
    "y_pred = logisticRegr.predict(X_test)\n",
    "\n",
    "score = logisticRegr.score(X_test, y_test)\n",
    "print(logisticRegr.coef_, score)"
   ]
  },
  {
   "cell_type": "code",
   "execution_count": 46,
   "id": "b6be7cad",
   "metadata": {
    "scrolled": false
   },
   "outputs": [
    {
     "data": {
      "image/png": "[encoded data removed]",
      "text/plain": [
       "<Figure size 648x648 with 2 Axes>"
      ]
     },
     "metadata": {
      "needs_background": "light"
     },
     "output_type": "display_data"
    }
   ],
   "source": [
    "cm = metrics.confusion_matrix(y_test, y_pred)\n",
    "plt.figure(figsize=(9,9))\n",
    "sns.heatmap(cm, annot=True, fmt=\".3f\", linewidths=.5, square = True, cmap = 'Blues_r');\n",
    "plt.ylabel('Actual label');\n",
    "plt.xlabel('Predicted label');\n",
    "all_sample_title = 'Accuracy Score: {0}'.format(score)\n",
    "plt.title(all_sample_title, size = 15);"
   ]
  },
  {
   "cell_type": "code",
   "execution_count": 47,
   "id": "74652e77",
   "metadata": {},
   "outputs": [
    {
     "name": "stdout",
     "output_type": "stream",
     "text": [
      "-46.40654207576636\n"
     ]
    }
   ],
   "source": [
    "regr = MLPRegressor(random_state=1, max_iter=500)\n",
    "\n",
    "X = df_regression[['DSRI','GMI', 'AQI', 'SGI', 'DEPI', 'SGAI', 'TATA', 'LVGI']] \n",
    "transformer = RobustScaler().fit(X)\n",
    "X = transformer.transform(X)\n",
    "\n",
    "Y = df_regression[['Penalty Issued']] \n",
    "\n",
    "X_train, X_test, y_train, y_test = train_test_split(X, Y, test_size=0.15, random_state=1)\n",
    "\n",
    "regr.fit(X_train, y_train.values.ravel())\n",
    "y_pred = regr.predict(X_test)\n",
    "\n",
    "score = regr.score(X_test, y_test)\n",
    "print(score)"
   ]
  },
  {
   "cell_type": "markdown",
   "id": "71b28b2b",
   "metadata": {},
   "source": [
    "### User Interface"
   ]
  },
  {
   "cell_type": "markdown",
   "id": "79e23756",
   "metadata": {},
   "source": [
    "#### Here we provide a simple method for users to obtain a result for a particular company"
   ]
  },
  {
   "cell_type": "code",
   "execution_count": 48,
   "id": "cff7a851",
   "metadata": {},
   "outputs": [],
   "source": [
    "def get_result(company):\n",
    "    anomalous_periods = pd.DataFrame()\n",
    "    factors = calc_mscore_factors(company)\n",
    "\n",
    "    for date in workbooks_combined[company]['Penalty Notices'].index:\n",
    "        if workbooks_combined[company]['Penalty Notices'].loc[date]['M-Score TF']:\n",
    "            anomalous_periods[date] = workbooks_combined[company]['Penalty Notices'].loc[date]\n",
    "\n",
    "            \n",
    "    if len(anomalous_periods.index) > 0:\n",
    "        anomalous_periods[:-3].plot.bar(figsize=(10, 8))\n",
    "    else:\n",
    "        print(\"No anomalies found\")"
   ]
  },
  {
   "cell_type": "code",
   "execution_count": 50,
   "id": "1aad9c38",
   "metadata": {},
   "outputs": [
    {
     "name": "stderr",
     "output_type": "stream",
     "text": [
      "<ipython-input-15-1de882bebd76>:10: RuntimeWarning: divide by zero encountered in double_scalars\n",
      "  res[days_receivables.index[row]] = t1/t0\n",
      "<ipython-input-15-1de882bebd76>:10: RuntimeWarning: invalid value encountered in double_scalars\n",
      "  res[days_receivables.index[row]] = t1/t0\n",
      "<ipython-input-25-074f2654ca65>:21: RuntimeWarning: invalid value encountered in double_scalars\n",
      "  sga0 = sga0 / t0['Total Revenue Excluding Interest']\n"
     ]
    },
    {
     "data": {
      "image/png": "[encoded data removed]",
      "text/plain": [
       "<Figure size 720x576 with 1 Axes>"
      ]
     },
     "metadata": {
      "needs_background": "light"
     },
     "output_type": "display_data"
    }
   ],
   "source": [
    "get_result('ADH')"
   ]
  }
 ],
 "metadata": {
  "kernelspec": {
   "display_name": "Python 3",
   "language": "python",
   "name": "python3"
  },
  "language_info": {
   "codemirror_mode": {
    "name": "ipython",
    "version": 3
   },
   "file_extension": ".py",
   "mimetype": "text/x-python",
   "name": "python",
   "nbconvert_exporter": "python",
   "pygments_lexer": "ipython3",
   "version": "3.8.8"
  }
 },
 "nbformat": 4,
 "nbformat_minor": 5
}
