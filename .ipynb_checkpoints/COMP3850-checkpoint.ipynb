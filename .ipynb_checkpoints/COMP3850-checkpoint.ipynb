{
 "cells": [
  {
   "cell_type": "markdown",
   "metadata": {},
   "source": [
    "## Imports"
   ]
  },
  {
   "cell_type": "code",
   "execution_count": 1,
   "metadata": {},
   "outputs": [],
   "source": [
    "import pandas as pd\n",
    "import os\n",
    "#from openpyxl import Workbook\n",
    "#from simplified_scrapy import SimplifiedDoc, utils\n",
    "\n",
    "from collections import defaultdict\n",
    "pd.set_option('display.float_format', '{:.2f}'.format)"
   ]
  },
  {
   "cell_type": "markdown",
   "metadata": {},
   "source": [
    "## Morningstar dataset conversion to Excel file (.xlsx)"
   ]
  },
  {
   "cell_type": "code",
   "execution_count": null,
   "metadata": {},
   "outputs": [],
   "source": [
    "\"\"\"\n",
    "import os\n",
    "files = []\n",
    "for i in os.walk('./datasets'):\n",
    "    files= i[2]\n",
    "    \n",
    "print(files)\n",
    "\"\"\""
   ]
  },
  {
   "cell_type": "code",
   "execution_count": null,
   "metadata": {},
   "outputs": [],
   "source": [
    "\"\"\"\n",
    "def readFile(filename):\n",
    "    xml = utils.getFileContent(filename)\n",
    "    doc = SimplifiedDoc(xml)\n",
    "    tables = doc.selects('Worksheet').selects('Row').selects('Cell').text # Get all data\n",
    "    sheetNames = doc.selects('Worksheet>ss:Name()') # Get sheet name\n",
    "    return sheetNames,tables,filename.split('/')[2].split('.')[0]\n",
    "\n",
    "def to_Excel(sheetNames,tables, filename):\n",
    "    wb = Workbook() # Create Workbook\n",
    "    for i in range(len(sheetNames)):\n",
    "        worksheet = wb.create_sheet(sheetNames[i]) # Create sheet\n",
    "        for row in tables[i]:\n",
    "            worksheet.append(row)\n",
    "    print('./datasets_excel/'+ filename + '.xlsx')\n",
    "    wb.save('./datasets_excel/'+ filename + '.xlsx') # Save file\n",
    "\"\"\""
   ]
  },
  {
   "cell_type": "code",
   "execution_count": null,
   "metadata": {},
   "outputs": [],
   "source": [
    "\"\"\"\n",
    "for filename in (os.listdir(\"./datasets\")):\n",
    "        name = filename.split('.')[0]\n",
    "        print(name)\n",
    "        \n",
    "        dst = name + \".xml\"\n",
    "        src ='./datasets/'+ filename\n",
    "        dst ='./datasets/'+ dst\n",
    "          \n",
    "        # rename() function will\n",
    "        # rename all the files\n",
    "        os.rename(src, dst)\n",
    "\"\"\""
   ]
  },
  {
   "cell_type": "code",
   "execution_count": null,
   "metadata": {},
   "outputs": [],
   "source": [
    "\"\"\"\n",
    "for file in files:\n",
    "    to_Excel(*readFile(\"./datasets/\" + file))\n",
    "\"\"\""
   ]
  },
  {
   "cell_type": "markdown",
   "metadata": {},
   "source": [
    "## Import datasets into Pandas dataframes"
   ]
  },
  {
   "cell_type": "code",
   "execution_count": 2,
   "metadata": {},
   "outputs": [],
   "source": [
    "files = []\n",
    "for i in os.walk('./datasets_excel/'):\n",
    "    files=i[2]\n",
    "\n",
    "workbooks = {}\n",
    "for file in files:\n",
    "    workbooks[file.split('.')[0]] = pd.read_excel('./datasets_excel/' + file, sheet_name=None)"
   ]
  },
  {
   "cell_type": "code",
   "execution_count": 3,
   "metadata": {},
   "outputs": [
    {
     "name": "stdout",
     "output_type": "stream",
     "text": [
      "['ADH_FY', 'ADH_HY', 'ANZ_FY', 'ANZ_HY', 'BCI_FY', 'BCI_HY', 'BFG_FY', 'BFG_HY', 'BHP_FY', 'BHP_HY', 'BNL_FY', 'BNL_HY', 'BPG_FY', 'BPG_HY', 'BTR_FY', 'BTR_HY', 'CBA_FY', 'CBA_HY', 'CCC_FY', 'CCC_HY', 'CIM_FY', 'CIM_HY', 'CVR_FY', 'CVR_HY', 'DGX_FY', 'DGX_HY', 'DTZ_FY', 'DTZ_HY', 'GMN_FY', 'GMN_HY', 'HWK_FY', 'HWK_HY', 'JBH_FY', 'JBH_HY', 'LCT_FY', 'LCT_HY', 'MEB_FY', 'MEB_HY', 'MFG_FY', 'MFG_HY', 'MGC_FY', 'MGC_HY', 'MQG_FY', 'MQG_HY', 'NAB_FY', 'NAB_HY', 'NCM_FY', 'NCM_HY', 'NGI_FY', 'NGI_HY', 'REX_FY', 'REX_HY', 'RIO_FY', 'RIO_HY', 'RNO_FY', 'RNO_HY', 'SRX_FY', 'SRX_HY', 'SRZ_FY', 'SRZ_HY', 'WBC_FY', 'WBC_HY', 'WCC_FY', 'WCC_HY']\n"
     ]
    }
   ],
   "source": [
    "print(list(workbooks.keys()))"
   ]
  },
  {
   "cell_type": "markdown",
   "metadata": {},
   "source": [
    "## Cleaning"
   ]
  },
  {
   "cell_type": "markdown",
   "metadata": {},
   "source": [
    "### Normalising statement items"
   ]
  },
  {
   "cell_type": "code",
   "execution_count": 4,
   "metadata": {},
   "outputs": [
    {
     "data": {
      "text/plain": [
       "dict_keys(['Profit Loss', 'Balance Sheet', 'Cash Flow', 'Per Share Statisticts', 'Sundry Analysis', 'Growth Rates', 'Ratio Analysis', 'Asset Base Analysis'])"
      ]
     },
     "execution_count": 4,
     "metadata": {},
     "output_type": "execute_result"
    }
   ],
   "source": [
    "statement_items = defaultdict(set)\n",
    "\n",
    "for workbook in workbooks:\n",
    "    for sheet in workbooks[workbook]:\n",
    "        if sheet != 'Sheet' and 'Item' in workbooks[workbook][sheet]:\n",
    "            statement_items[sheet].update(workbooks[workbook][sheet]['Item'])\n",
    "            \n",
    "statement_items.keys()"
   ]
  },
  {
   "cell_type": "code",
   "execution_count": 5,
   "metadata": {},
   "outputs": [
    {
     "name": "stdout",
     "output_type": "stream",
     "text": [
      "{'Total Revenue Excluding Interest', 'Amortisation', 'EPS After Abnormals (cents/share)', 'Depreciation and Amortisation', 'Net Interest Income', 'Net Int. Income Less Prov', 'Total Operating Income', 'Interest Revenue', 'Investment Income', 'Weighted Average Number of Shares', 'Interest Income', 'Shares Outstanding at Period End', 'Interest Expense', 'Depreciation', 'Net Interest Expense', 'Operating Expenses', 'Abnormals', 'Operating Revenue', 'PreTax Profit', 'Other Revenue', 'Net Abnormals', 'Tax Expense', 'Abnormals Tax', 'Outside Equity Interests', 'EPS Adjusted (cents/share)', 'EBITDA', 'Non Interest Income', 'EBIT', 'Non Interest Expense', 'Reported NPAT After Abnormals', 'Net Int.Income Less Prov', 'Net Profit after Tax Before Abnormals', 'Other Income', 'Weighted Average Number Of Shares', 'Prov. For Doubtful Debts'}\n",
      "\n",
      "\n",
      "{'NCL - Provisions', 'Other Equity', 'NCL - Account Payable', 'NCA - Goodwill', 'Due From Banks', 'Deferred Tax', 'Deposits', 'Due from Banks', 'CA - Other', 'Creditors', 'Bonds', 'Convertible Equity', 'Total Assets', 'Total Curr. Liabilities', 'NCA - Property', 'Outside Equity', 'NCL - Long-Term Debt', 'NCA - PP&E', 'Provisions', 'CL - NCL Held Sale', 'CA - Cash', 'Fixed Assets', 'Total Non-Earning Assets', 'NCA - Investments', 'CL - Account Payable', 'NCA - Other', 'Total Earning Assets', 'NCL - Other', 'CL - Other', 'Borrowings', 'Due to Banks', 'CL - Short-Term Debt', 'Investment Securities', 'Total NCA', 'CA - Prepaid Expenses', 'Total NCL', 'CL - Provisions', 'CA - Investments', 'Share Capital', 'CL - Total Assets', 'Other', 'NCA - Future Tax Benefit', 'Total Liabilities', 'Loans', 'Retained Earnings', 'NCA - Receivables', 'Total Current Assets', 'Reserves', 'CA - NCA Held Sale', 'NCA - Intangibles(ExGW)', 'Total Equity', 'Short Term Money', 'Customer Acceptances', 'SE Held Sale', 'CA - Receivables', 'Bank Acceptances', 'CA - Inventories', 'NCA - Inventories'}\n",
      "\n",
      "\n",
      "{'Cash at End of Period', 'Other Operating Cashflows', 'Net Investing Cashflows', 'Interest paid', 'Repayment of Borrowings', 'Proceeds From Sale of Investments', 'Loans Repaid', 'Payment for Purchase of Subsidiaries', 'Net Operating Cashflows', 'Net Financing Cashflows', 'Dividends Received', 'Proceeds from Sale of PPE', 'Loan Repaid', 'Payments to Suppliers and Employees', 'Tax Paid', 'Loans Granted', 'Dividends Paid', 'Divideds Received', 'Tax paid', 'Dividends received', 'Other Cash Adjustments', 'Investments Purchased', 'Payment for Purchase of PPE', 'Other Financing Cashflows', 'Receipts from customers', 'Loan Granted', 'Interest Received', 'Interest received', 'Proceeds from Issues', 'Exchange Rate Adj', 'Proceeds from Sale of Subsidiaries', 'Proceeds from Sale of Investments', 'Other Investing Cashflows', 'Dividend Received', 'Proceeds From Sale of PPE', 'Payments for Purchase of Subsidiaries', 'Receipts from Customers', 'Proceeds from Borrowings', 'Net Increase in Cash', 'Interest Paid', 'Cash at Beginning of Period'}\n",
      "\n",
      "\n",
      "{'DPS - Adj Ex. Special', 'Reportd EPS Bef. Abs.Adj', 'Gross Final Div - Ord', 'EPS Bef. Abs', 'Final Dividend - Ordinary', 'Special Franking - Ord (%)', 'Shares Outstand. (EOP)', 'Total Gross Div- Ex.Spec', 'EPS Aft. Abs.', 'Payout Ratio Ex. Special (%)', 'DPS - Adj.', 'Special Franking - Int (%)', 'Gross Special Div - Ord', 'Interim Franking - Ord (%)', 'Weighted Avg. Shares', 'Gross Div. Yield (%)', 'Cumulative', 'Total Franking - Inc. Spec (%)', 'Dividend Cover (%)', 'Interim Div - Ordinary', 'Total Div - Inc. Special', 'Reported EPS', 'Total Div - Ex. Special', 'Final Franking - Ordinary (%)', 'Gross Interim Div - Ord', 'Special Dividend - Int', 'Dilution Factor', 'Corporate Tax Rate (%)', 'Total Gross Div- Inc.Spec', 'Dividend Yield (%)', 'Special Dividend - Ord', 'Total Franking - Ex. Spec', 'Payout Ratio (%)', 'Tax Rate (%)', 'Dividend Yield Ex. Spec (%)', 'Gross Div. Yield Ex. Spec (%)'}\n",
      "\n",
      "\n",
      "{'Goodwill', 'Total Capital Invested', 'Increase S/T Debt', 'Creditors CL', 'Dividends Received', 'Gross Borrowings', 'Increase Retain Profits', 'Capital', 'Purchase of Investments', 'Total Investor Funds', 'NOPLAT', 'Current Inventory', 'Free Cash Flow', 'Net Debt', 'Total Current Debtors', 'Increase Total Equity', 'EBIT', 'Non Int Bearing CL', 'Increase Net Debt', 'Increase Inventory CA', 'Working Capital', 'Interest Paid', 'Retained Profits', 'Intangibles Ex.Goodwill', 'Incr. Share Prem Res', 'L/T Debt', 'Convertible Equity', 'Capex', 'Increase Wkg Capital', 'Purchase of PPE', 'Dividends Paid', 'Increase Other Equity', 'Increase Other CL', 'Increase Creditors CL', 'Net PP&E', 'Current Investments', 'Increase Cash', 'Other Curr Liab', 'Increase Provisions CL', 'Increase Outside Equity', 'Tax Shield', 'Reserves Ex-SPR', 'Operating Current Assets', 'Total Equity', 'Other Equity', 'Surplus Funds - Post PPE', 'Amortisation', 'Other Operating Cash', 'Increase Prepay', 'Funds from Operations', 'Outside Equity', 'Surplus Funds - Post Acquis.', 'Cash', 'Proceeds from PPE', 'Tax on EBIT', 'Surplus Funds - Post Capex', 'Provisions CL', 'Interest Received', 'Share Prem Reserve', 'Operating Wkg Capital', 'Prepayments', 'Increase Curr Invest', 'Total Gross Debt', 'Operating Invested Capital Incl. Goodwill', 'Increase Capex', 'Surplus Funds - Post Div.', 'S/T Debt', 'Increase in Capital', 'Non Current Investments', 'Oth Current Assets', 'Increase Debtors', 'Incr Reserves Ex-SPR', 'Net Oth Operating Assets', 'Depreciation', 'Operating Invested Capital Ex-Goodwill', 'Gross Investment', 'Tax Expense', 'Corp Tax Rate (%)', 'Increase Convert Equity', 'Gross Cash Flow', 'Change Gross Debt', 'Increase Oth CA', 'Increase L/T Debt'}\n",
      "\n",
      "\n",
      "{'EBIT 1 Year (%)', 'Net Earn Assets 1 Year (%)', 'EPS Adj 5 Year (%)', 'EBIT 3 Year (%)', 'Adj. DPS Ex. Spec 5 Year (%)', 'Total Assets 3 Year (%)', 'Total Assets 1 Year (%)', 'Adjusted EPS 3 Year (%)', 'Invested Capital 3 Year (%)', 'DPS Adj Ex Spec 5 Year (%)', 'Net Interest Inc 5 Year (%)', 'Non Interest Exp 3 Year (%)', 'Total Equity 5 Year (%)', 'Net PP&E 1 Year (%)', 'Retained Profits 1 Year (%)', 'EAT 1 Year EAT (%)', 'Total Div. Ex Spec 5 Year (%)', 'Adjusted EPS 1 Year (%)', 'Total Div. Ex Special 3 Year (%)', 'Fixed Assets 1 Year (%)', 'Retained Profits 5 Year (%)', 'Non Interest Exp 5 Year (%)', 'Total Equity 3 Year (%)', 'NOPLAT 5 Year (%)', 'EBT After Abs. 3 Year (%)', 'Free Cashflow 5 Year (%)', 'Operating Exp. 3 Year (%)', 'Total Div Ex. Spec 3 Year (%)', 'NOPLAT 1 Year (%)', 'Total Div Ex. Spec 1 Year (%)', 'EAT 1 Year (%)', 'EPS Adj 1 Year (%)', 'Retained Profits 3 Year (%)', 'Net Interest Inc 1 Year (%)', 'DPS Adj Ex Spec 1 Year (%)', 'EBITDA 1 Year (%)', 'Earnings After Tax 5 Year (%)', 'Total Div. Ex Spec 1 Year (%)', 'Net Earn Assets 5 Year (%)', 'Operating Rev. 1 Year (%)', 'Fixed Assets 3 Year (%)', 'Invested Capital 1 Year (%)', 'Earnings After Tax 1 Year (%)', 'Net Debt 3 Year (%)', 'Operating Exp. 5 Year (%)', 'EBIT 5 Year (%)', 'Earnings After Tax 3 Year (%)', 'Total Assets 5 Year (%)', 'Fixed Assets 5 Year (%)', 'Free Cashflow 3 Year (%)', 'Total Equity 1 Year (%)', 'Net PP&E 3 Year (%)', 'Interest Income 3 Yr Net (%)', 'EPS Reported 3 Year (%)', 'Operating Rev. 5 Year (%)', 'EPS Adj 3 Year (%)', 'NOPLAT 3 Year (%)', 'Total Div. Ex Special 1 Year (%)', 'Operating Rev. 3 Year (%)', 'Total Div. Ex Spec 3 Year (%)', 'Net PP&E 5 Year (%)', 'Interest Income 1 Yr Net (%)', 'Pre Tax Profit 1 Year (%)', 'Net Debt 1 Year (%)', 'Pre Tax Profit 3 Year (%)', 'Free Cashflow 1 Year (%)', 'Invested Capital 5 Year (%)', 'Adjusted EPS 5 Year (%)', 'Pre Tax Profit 5 Year (%)', 'EAT 3 Year (%)', 'Net Earn Assets 3 Year (%)', 'EPS Reported 1 Year (%)', 'EAT 3 Year EAT (%)', 'Net Interest Inc 3 Year (%)', 'Adj. DPS Ex. Spec 1 Year (%)', 'EBITDA 5 Year (%)', 'Non Interest Exp 1 Year (%)', 'EBT After Abs. 1 Year (%)', 'DPS Adj Ex Spec 3 Year (%)', 'Net Debt 5 Year (%)', 'EAT 5 Year (%)', 'EBT After Abs. 5 Year (%)', 'Operating Exp. 1 Year (%)', 'EBITDA 3 Year (%)', 'Adj. DPS Ex. Spec 3 Year (%)'}\n",
      "\n",
      "\n",
      "{'Interim Share Price', 'Invested Capital Turnover', 'Price/BV', 'Days Payables', 'LT Asset Turnover', 'Market Cap/PreTax Profit', 'Gross Debt/CF', 'Sales per Share ($)', 'Op Income/Total Assets (%)', 'Market Cap', 'Net Interest Cover', 'Market Cap/Rep NPAT', 'Days Receivables', 'NTA per Share ($)', 'Cash per Share ($)', 'Depreciation/PP&E (%)', 'Financial Leverage', 'Inventory Turnover', 'PPE Turnover', 'Depreciation/Revenue (%)', 'Depreciation/Capex (%)', 'EBITA Margin (%)', 'BV Per Share ($)', 'Div Yield Ex Special (%)', 'ROA (%)', 'Working Cap Turnover (%)', 'Net Interest Margin (%)', 'Working Cap Turnover', 'Receivables/Op. Rev. (%)', 'YE Share Price ($)', 'Gross Dividend Yield (%)', 'ROE (%)', 'EV/EBITDA', 'Net Gearing (%)', 'Quick Ratio', 'Net Debt/CF', 'Capex/Operating Rev. (%)', 'EBIT Margin (%', 'Year End Share Price', 'EBIT Margin (%)', 'Days Inventory', 'Gross CF per Share ($)', 'Cash Per Share ($)', 'Gross Div Yield Ex Spec (%)', 'Current Ratio', 'Net Debt', 'EV/EBIT', 'Asset Turnover', 'Price/Gross Cash Flow', 'Enterprise Value', 'ROIC (%)', 'EBITDA Margin (%)', 'PER', 'Gross Gearing (D/E) (%)', 'Dividends Yield (%)', 'Gross Div Yield (%)', 'Dividend Yield Ex Spec (%)', 'NOPLAT Margin (%)', 'Non Interest/Tot.Income (%)', 'Wkg Capital/Revenue (%)', 'Inventory/Trading Rev. (%)', 'Market Cap./Rep NPAT', 'BV per Share ($)', 'Market Cap./Trading Rev.', 'Period End Share Price', 'Dividend Yield (%)', 'Creditors/Op. Rev. (%)', 'Market Cap.', 'Funds from Ops./EBITDA (%)', 'Price/Book Value', 'Spread (%)', 'Cost-to-Income (%)', 'Net Profit Margin (%)'}\n",
      "\n",
      "\n",
      "{'Non Current Investments (%)', 'Intangibles (%)', 'Inventory (%)', 'Other (%)', 'Goodwill (%)', 'Trade Debtors (%)', 'Plant & Equipment (%)', 'Cash (%)'}\n",
      "\n",
      "\n"
     ]
    }
   ],
   "source": [
    "for sheet in statement_items:\n",
    "    print(statement_items[sheet])\n",
    "    print('\\n')"
   ]
  },
  {
   "cell_type": "code",
   "execution_count": null,
   "metadata": {},
   "outputs": [],
   "source": []
  }
 ],
 "metadata": {
  "kernelspec": {
   "display_name": "Python 3",
   "language": "python",
   "name": "python3"
  },
  "language_info": {
   "codemirror_mode": {
    "name": "ipython",
    "version": 3
   },
   "file_extension": ".py",
   "mimetype": "text/x-python",
   "name": "python",
   "nbconvert_exporter": "python",
   "pygments_lexer": "ipython3",
   "version": "3.8.5"
  }
 },
 "nbformat": 4,
 "nbformat_minor": 5
}
