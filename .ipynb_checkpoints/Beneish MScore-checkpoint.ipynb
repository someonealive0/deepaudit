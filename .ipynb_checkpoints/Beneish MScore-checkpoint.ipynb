{
 "cells": [
  {
   "cell_type": "markdown",
   "metadata": {},
   "source": [
    "## Imports"
   ]
  },
  {
   "cell_type": "code",
   "execution_count": 1,
   "metadata": {},
   "outputs": [],
   "source": [
    "import pandas as pd\n",
    "import numpy as np\n",
    "import os\n",
    "from openpyxl import Workbook\n",
    "from simplified_scrapy import SimplifiedDoc, utils\n",
    "import matplotlib.pyplot as plt\n",
    "import seaborn as sns\n",
    "from collections import defaultdict\n",
    "pd.set_option('display.float_format', '{:.2f}'.format)"
   ]
  },
  {
   "cell_type": "markdown",
   "metadata": {},
   "source": [
    "## Morningstar dataset conversion to Excel file (.xlsx)"
   ]
  },
  {
   "cell_type": "code",
   "execution_count": 2,
   "metadata": {},
   "outputs": [
    {
     "data": {
      "text/plain": [
       "\"\\nimport os\\nfiles = []\\nfor i in os.walk('./datasets'):\\n    files= i[2]\\n    \\nprint(files)\\n\""
      ]
     },
     "execution_count": 2,
     "metadata": {},
     "output_type": "execute_result"
    }
   ],
   "source": [
    "\"\"\"\n",
    "import os\n",
    "files = []\n",
    "for i in os.walk('./datasets'):\n",
    "    files= i[2]\n",
    "    \n",
    "print(files)\n",
    "\"\"\""
   ]
  },
  {
   "cell_type": "code",
   "execution_count": 3,
   "metadata": {},
   "outputs": [
    {
     "data": {
      "text/plain": [
       "\"\\ndef readFile(filename):\\n    xml = utils.getFileContent(filename)\\n    doc = SimplifiedDoc(xml)\\n    tables = doc.selects('Worksheet').selects('Row').selects('Cell').text # Get all data\\n    sheetNames = doc.selects('Worksheet>ss:Name()') # Get sheet name\\n    return sheetNames,tables,filename.split('/')[2].split('.')[0]\\n\\ndef to_Excel(sheetNames,tables, filename):\\n    wb = Workbook() # Create Workbook\\n    for i in range(len(sheetNames)):\\n        worksheet = wb.create_sheet(sheetNames[i]) # Create sheet\\n        for row in tables[i]:\\n            worksheet.append(row)\\n    print('./datasets_excel/'+ filename + '.xlsx')\\n    wb.save('./datasets_excel/'+ filename + '.xlsx') # Save file\\n\""
      ]
     },
     "execution_count": 3,
     "metadata": {},
     "output_type": "execute_result"
    }
   ],
   "source": [
    "\"\"\"\n",
    "def readFile(filename):\n",
    "    xml = utils.getFileContent(filename)\n",
    "    doc = SimplifiedDoc(xml)\n",
    "    tables = doc.selects('Worksheet').selects('Row').selects('Cell').text # Get all data\n",
    "    sheetNames = doc.selects('Worksheet>ss:Name()') # Get sheet name\n",
    "    return sheetNames,tables,filename.split('/')[2].split('.')[0]\n",
    "\n",
    "def to_Excel(sheetNames,tables, filename):\n",
    "    wb = Workbook() # Create Workbook\n",
    "    for i in range(len(sheetNames)):\n",
    "        worksheet = wb.create_sheet(sheetNames[i]) # Create sheet\n",
    "        for row in tables[i]:\n",
    "            worksheet.append(row)\n",
    "    print('./datasets_excel/'+ filename + '.xlsx')\n",
    "    wb.save('./datasets_excel/'+ filename + '.xlsx') # Save file\n",
    "\"\"\""
   ]
  },
  {
   "cell_type": "code",
   "execution_count": 4,
   "metadata": {},
   "outputs": [
    {
     "data": {
      "text/plain": [
       "'\\nfor filename in (os.listdir(\"./datasets\")):\\n        name = filename.split(\\'.\\')[0]\\n        print(name)\\n        \\n        dst = name + \".xml\"\\n        src =\\'./datasets/\\'+ filename\\n        dst =\\'./datasets/\\'+ dst\\n          \\n        # rename() function will\\n        # rename all the files\\n        os.rename(src, dst)\\n'"
      ]
     },
     "execution_count": 4,
     "metadata": {},
     "output_type": "execute_result"
    }
   ],
   "source": [
    "\"\"\"\n",
    "for filename in (os.listdir(\"./datasets\")):\n",
    "        name = filename.split('.')[0]\n",
    "        print(name)\n",
    "        \n",
    "        dst = name + \".xml\"\n",
    "        src ='./datasets/'+ filename\n",
    "        dst ='./datasets/'+ dst\n",
    "          \n",
    "        # rename() function will\n",
    "        # rename all the files\n",
    "        os.rename(src, dst)\n",
    "\"\"\""
   ]
  },
  {
   "cell_type": "code",
   "execution_count": 5,
   "metadata": {},
   "outputs": [
    {
     "data": {
      "text/plain": [
       "'\\nfor file in files:\\n    to_Excel(*readFile(\"./datasets/\" + file))\\n'"
      ]
     },
     "execution_count": 5,
     "metadata": {},
     "output_type": "execute_result"
    }
   ],
   "source": [
    "\"\"\"\n",
    "for file in files:\n",
    "    to_Excel(*readFile(\"./datasets/\" + file))\n",
    "\"\"\""
   ]
  },
  {
   "cell_type": "markdown",
   "metadata": {},
   "source": [
    "## Import datasets into Pandas dataframes"
   ]
  },
  {
   "cell_type": "code",
   "execution_count": 6,
   "metadata": {},
   "outputs": [],
   "source": [
    "files = []\n",
    "for i in os.walk('./datasets_excel/'):\n",
    "    files=i[2]\n",
    "\n",
    "workbooks = {}\n",
    "for file in files:\n",
    "    workbooks[file.split('.')[0]] = pd.read_excel('./datasets_excel/' + file, sheet_name=None)"
   ]
  },
  {
   "cell_type": "code",
   "execution_count": 7,
   "metadata": {},
   "outputs": [
    {
     "name": "stdout",
     "output_type": "stream",
     "text": [
      "['ADH_FY', 'ADH_HY', 'ANZ_FY', 'ANZ_HY', 'BCI_FY', 'BCI_HY', 'BFG_FY', 'BFG_HY', 'BHP_FY', 'BHP_HY', 'BNL_FY', 'BNL_HY', 'BPG_FY', 'BPG_HY', 'BTR_FY', 'BTR_HY', 'CBA_FY', 'CBA_HY', 'CCC_FY', 'CCC_HY', 'CIM_FY', 'CIM_HY', 'CVR_FY', 'CVR_HY', 'DGX_FY', 'DGX_HY', 'DTZ_FY', 'DTZ_HY', 'GMN_FY', 'GMN_HY', 'HWK_FY', 'HWK_HY', 'JBH_FY', 'JBH_HY', 'LCT_FY', 'LCT_HY', 'MEB_FY', 'MEB_HY', 'MFG_FY', 'MFG_HY', 'MGC_FY', 'MGC_HY', 'MQG_FY', 'MQG_HY', 'NAB_FY', 'NAB_HY', 'NCM_FY', 'NCM_HY', 'NGI_FY', 'NGI_HY', 'REX_FY', 'REX_HY', 'RIO_FY', 'RIO_HY', 'RNO_FY', 'RNO_HY', 'SRX_FY', 'SRX_HY', 'SRZ_FY', 'SRZ_HY', 'WBC_FY', 'WBC_HY', 'WCC_FY', 'WCC_HY']\n"
     ]
    }
   ],
   "source": [
    "print(list(workbooks.keys()))"
   ]
  },
  {
   "cell_type": "markdown",
   "metadata": {},
   "source": [
    "## Cleaning"
   ]
  },
  {
   "cell_type": "markdown",
   "metadata": {},
   "source": [
    "### Normalising statement items (WIP)"
   ]
  },
  {
   "cell_type": "code",
   "execution_count": 8,
   "metadata": {},
   "outputs": [
    {
     "data": {
      "text/plain": [
       "dict_keys(['Profit Loss', 'Balance Sheet', 'Cash Flow', 'Per Share Statisticts', 'Sundry Analysis', 'Growth Rates', 'Ratio Analysis', 'Asset Base Analysis'])"
      ]
     },
     "execution_count": 8,
     "metadata": {},
     "output_type": "execute_result"
    }
   ],
   "source": [
    "statement_items = defaultdict(set)\n",
    "\n",
    "for workbook in workbooks:\n",
    "    for sheet in workbooks[workbook]:\n",
    "        if sheet != 'Sheet' and 'Item' in workbooks[workbook][sheet]:\n",
    "            statement_items[sheet].update(workbooks[workbook][sheet]['Item'])\n",
    "            \n",
    "statement_items.keys()"
   ]
  },
  {
   "cell_type": "markdown",
   "metadata": {},
   "source": [
    "### Restructuring datasets and creating combined HY and FY dataset"
   ]
  },
  {
   "cell_type": "code",
   "execution_count": 9,
   "metadata": {
    "scrolled": false
   },
   "outputs": [
    {
     "name": "stdout",
     "output_type": "stream",
     "text": [
      "Missing tab: ANZ_FY Sundry Analysis\n",
      "Missing tab: CBA_FY Sundry Analysis\n",
      "Missing tab: NAB_FY Sundry Analysis\n",
      "Missing tab: WBC_FY Sundry Analysis\n"
     ]
    }
   ],
   "source": [
    "workbooks_combined = defaultdict(dict)\n",
    "workbooks_keys = list(workbooks.keys())\n",
    "\n",
    "for i in range(len(workbooks)//2):\n",
    "    for sheet in statement_items:\n",
    "        workbook_FY = workbooks[workbooks_keys[i*2]] # Reading in the full-yearly statements\n",
    "        workbook_HY = workbooks[workbooks_keys[i*2 + 1]] # Reading in the half-yearly statements\n",
    "        new_sheet = _ \n",
    "        \n",
    "        if sheet in workbook_FY:\n",
    "            sheet_FY = workbook_FY[sheet].drop(['ASX Code', 'Company Name'], axis=1)\n",
    "            sheet_HY = workbook_HY[sheet].drop(['ASX Code', 'Company Name'], axis=1)\n",
    "\n",
    "            new_sheet = pd.concat([sheet_FY, sheet_HY], axis=1, join='inner')\n",
    "            new_sheet = new_sheet.loc[:,~new_sheet.columns.duplicated()] # Drop extra 'item' \n",
    "            new_sheet = new_sheet.set_index(['Item'])\n",
    "            \n",
    "            new_sheet.columns = pd.to_datetime(new_sheet.columns, format='%m/%y')\n",
    "            new_sheet = new_sheet.sort_index(axis=1)\n",
    "            \n",
    "            new_sheet = new_sheet.replace('--', 0, regex=True)\n",
    "            new_sheet = new_sheet.astype('float')\n",
    "\n",
    "            workbooks_combined[workbooks_keys[i*2].split('_')[0]][sheet] = new_sheet.transpose()    \n",
    "        else:\n",
    "            print(\"Missing tab:\", workbooks_keys[i*2], sheet)            "
   ]
  },
  {
   "cell_type": "code",
   "execution_count": 10,
   "metadata": {
    "scrolled": false
   },
   "outputs": [
    {
     "name": "stdout",
     "output_type": "stream",
     "text": [
      "Missing tab: ANZ_FY Sundry Analysis\n",
      "Missing tab: ANZ_HY Sundry Analysis\n",
      "Missing tab: CBA_FY Sundry Analysis\n",
      "Missing tab: CBA_HY Sundry Analysis\n",
      "Missing tab: NAB_FY Sundry Analysis\n",
      "Missing tab: NAB_HY Sundry Analysis\n",
      "Missing tab: WBC_FY Sundry Analysis\n",
      "Missing tab: WBC_HY Sundry Analysis\n"
     ]
    }
   ],
   "source": [
    "workbooks_separated = defaultdict(lambda: defaultdict(dict))\n",
    "workbooks_keys = list(workbooks.keys())\n",
    "\n",
    "for workbook in workbooks:\n",
    "    for sheet in statement_items:       \n",
    "        if sheet in workbooks[workbook]:\n",
    "            new_sheet = workbooks[workbook][sheet].drop(['ASX Code', 'Company Name'], axis=1)\n",
    "            \n",
    "            new_sheet = new_sheet.set_index(['Item'])\n",
    "            new_sheet.columns = pd.to_datetime(new_sheet.columns, format='%m/%y')\n",
    "            new_sheet = new_sheet.sort_index(axis=1)\n",
    "            \n",
    "            new_sheet = new_sheet.replace('--', 0, regex=True)\n",
    "            new_sheet = new_sheet.astype('float')\n",
    "\n",
    "            workbooks_separated[workbook.split('_')[0]][workbook.split('_')[1]][sheet] = new_sheet.transpose()\n",
    "        else:\n",
    "            print(\"Missing tab:\", workbook, sheet)            "
   ]
  },
  {
   "cell_type": "code",
   "execution_count": 11,
   "metadata": {},
   "outputs": [
    {
     "data": {
      "text/plain": [
       "2015-12-01   117821000.00\n",
       "2016-12-01   124548000.00\n",
       "2017-12-01   149047000.00\n",
       "2018-12-01   164377000.00\n",
       "2019-12-01   180273000.00\n",
       "2020-12-01   242990000.00\n",
       "Name: Operating Revenue, dtype: float64"
      ]
     },
     "execution_count": 11,
     "metadata": {},
     "output_type": "execute_result"
    }
   ],
   "source": [
    "# workbooks_combined_test[ticker][HY or FY][sheet name][item name]\n",
    "workbooks_separated['ADH']['HY']['Profit Loss']['Operating Revenue']"
   ]
  },
  {
   "cell_type": "code",
   "execution_count": 12,
   "metadata": {},
   "outputs": [
    {
     "data": {
      "text/plain": [
       "dict_keys(['ADH', 'ANZ', 'BCI', 'BFG', 'BHP', 'BNL', 'BPG', 'BTR', 'CBA', 'CCC', 'CIM', 'CVR', 'DGX', 'DTZ', 'GMN', 'HWK', 'JBH', 'LCT', 'MEB', 'MFG', 'MGC', 'MQG', 'NAB', 'NCM', 'NGI', 'REX', 'RIO', 'RNO', 'SRX', 'SRZ', 'WBC', 'WCC'])"
      ]
     },
     "execution_count": 12,
     "metadata": {},
     "output_type": "execute_result"
    }
   ],
   "source": [
    "workbooks_combined.keys()"
   ]
  },
  {
   "cell_type": "code",
   "execution_count": 13,
   "metadata": {},
   "outputs": [
    {
     "data": {
      "text/html": [
       "<div>\n",
       "<style scoped>\n",
       "    .dataframe tbody tr th:only-of-type {\n",
       "        vertical-align: middle;\n",
       "    }\n",
       "\n",
       "    .dataframe tbody tr th {\n",
       "        vertical-align: top;\n",
       "    }\n",
       "\n",
       "    .dataframe thead th {\n",
       "        text-align: right;\n",
       "    }\n",
       "</style>\n",
       "<table border=\"1\" class=\"dataframe\">\n",
       "  <thead>\n",
       "    <tr style=\"text-align: right;\">\n",
       "      <th>Item</th>\n",
       "      <th>Operating Revenue</th>\n",
       "      <th>Other Revenue</th>\n",
       "      <th>Total Revenue Excluding Interest</th>\n",
       "      <th>Operating Expenses</th>\n",
       "      <th>EBITDA</th>\n",
       "      <th>Depreciation</th>\n",
       "      <th>Amortisation</th>\n",
       "      <th>Depreciation and Amortisation</th>\n",
       "      <th>EBIT</th>\n",
       "      <th>Interest Revenue</th>\n",
       "      <th>...</th>\n",
       "      <th>Net Profit after Tax Before Abnormals</th>\n",
       "      <th>Abnormals</th>\n",
       "      <th>Abnormals Tax</th>\n",
       "      <th>Net Abnormals</th>\n",
       "      <th>Reported NPAT After Abnormals</th>\n",
       "      <th>Outside Equity Interests</th>\n",
       "      <th>Shares Outstanding at Period End</th>\n",
       "      <th>Weighted Average Number of Shares</th>\n",
       "      <th>EPS Adjusted (cents/share)</th>\n",
       "      <th>EPS After Abnormals (cents/share)</th>\n",
       "    </tr>\n",
       "  </thead>\n",
       "  <tbody>\n",
       "    <tr>\n",
       "      <th>2014-12-01</th>\n",
       "      <td>0.00</td>\n",
       "      <td>0.00</td>\n",
       "      <td>0.00</td>\n",
       "      <td>0.00</td>\n",
       "      <td>0.00</td>\n",
       "      <td>0.00</td>\n",
       "      <td>0.00</td>\n",
       "      <td>0.00</td>\n",
       "      <td>0.00</td>\n",
       "      <td>0.00</td>\n",
       "      <td>...</td>\n",
       "      <td>0.00</td>\n",
       "      <td>0.00</td>\n",
       "      <td>0.00</td>\n",
       "      <td>0.00</td>\n",
       "      <td>0.00</td>\n",
       "      <td>0.00</td>\n",
       "      <td>165874785.00</td>\n",
       "      <td>0.00</td>\n",
       "      <td>0.00</td>\n",
       "      <td>0.00</td>\n",
       "    </tr>\n",
       "    <tr>\n",
       "      <th>2015-06-01</th>\n",
       "      <td>210878000.00</td>\n",
       "      <td>166000.00</td>\n",
       "      <td>211044000.00</td>\n",
       "      <td>-188019000.00</td>\n",
       "      <td>23025000.00</td>\n",
       "      <td>-3858000.00</td>\n",
       "      <td>-728000.00</td>\n",
       "      <td>-4586000.00</td>\n",
       "      <td>18439000.00</td>\n",
       "      <td>445000.00</td>\n",
       "      <td>...</td>\n",
       "      <td>2942000.00</td>\n",
       "      <td>0.00</td>\n",
       "      <td>0.00</td>\n",
       "      <td>0.00</td>\n",
       "      <td>745000.00</td>\n",
       "      <td>0.00</td>\n",
       "      <td>165875000.00</td>\n",
       "      <td>151471000.00</td>\n",
       "      <td>1.94</td>\n",
       "      <td>0.49</td>\n",
       "    </tr>\n",
       "    <tr>\n",
       "      <th>2015-12-01</th>\n",
       "      <td>117821000.00</td>\n",
       "      <td>125000.00</td>\n",
       "      <td>117946000.00</td>\n",
       "      <td>-95441000.00</td>\n",
       "      <td>22505000.00</td>\n",
       "      <td>-2593000.00</td>\n",
       "      <td>0.00</td>\n",
       "      <td>-2593000.00</td>\n",
       "      <td>19912000.00</td>\n",
       "      <td>24000.00</td>\n",
       "      <td>...</td>\n",
       "      <td>13254000.00</td>\n",
       "      <td>0.00</td>\n",
       "      <td>0.00</td>\n",
       "      <td>0.00</td>\n",
       "      <td>13254000.00</td>\n",
       "      <td>0.00</td>\n",
       "      <td>165874785.00</td>\n",
       "      <td>165875000.00</td>\n",
       "      <td>7.99</td>\n",
       "      <td>7.99</td>\n",
       "    </tr>\n",
       "    <tr>\n",
       "      <th>2016-06-01</th>\n",
       "      <td>253182000.00</td>\n",
       "      <td>406000.00</td>\n",
       "      <td>253588000.00</td>\n",
       "      <td>-207574000.00</td>\n",
       "      <td>46014000.00</td>\n",
       "      <td>-4649000.00</td>\n",
       "      <td>-617000.00</td>\n",
       "      <td>-5266000.00</td>\n",
       "      <td>40748000.00</td>\n",
       "      <td>81000.00</td>\n",
       "      <td>...</td>\n",
       "      <td>27172000.00</td>\n",
       "      <td>0.00</td>\n",
       "      <td>0.00</td>\n",
       "      <td>0.00</td>\n",
       "      <td>27172000.00</td>\n",
       "      <td>0.00</td>\n",
       "      <td>165875000.00</td>\n",
       "      <td>165875000.00</td>\n",
       "      <td>16.38</td>\n",
       "      <td>16.38</td>\n",
       "    </tr>\n",
       "    <tr>\n",
       "      <th>2016-12-01</th>\n",
       "      <td>124548000.00</td>\n",
       "      <td>37000.00</td>\n",
       "      <td>124585000.00</td>\n",
       "      <td>-109832000.00</td>\n",
       "      <td>14753000.00</td>\n",
       "      <td>-2751000.00</td>\n",
       "      <td>0.00</td>\n",
       "      <td>-2751000.00</td>\n",
       "      <td>12002000.00</td>\n",
       "      <td>46000.00</td>\n",
       "      <td>...</td>\n",
       "      <td>8581000.00</td>\n",
       "      <td>0.00</td>\n",
       "      <td>0.00</td>\n",
       "      <td>0.00</td>\n",
       "      <td>8581000.00</td>\n",
       "      <td>0.00</td>\n",
       "      <td>165874785.00</td>\n",
       "      <td>165875000.00</td>\n",
       "      <td>5.17</td>\n",
       "      <td>5.17</td>\n",
       "    </tr>\n",
       "  </tbody>\n",
       "</table>\n",
       "<p>5 rows × 24 columns</p>\n",
       "</div>"
      ],
      "text/plain": [
       "Item        Operating Revenue  Other Revenue  \\\n",
       "2014-12-01               0.00           0.00   \n",
       "2015-06-01       210878000.00      166000.00   \n",
       "2015-12-01       117821000.00      125000.00   \n",
       "2016-06-01       253182000.00      406000.00   \n",
       "2016-12-01       124548000.00       37000.00   \n",
       "\n",
       "Item        Total Revenue Excluding Interest  Operating Expenses      EBITDA  \\\n",
       "2014-12-01                              0.00                0.00        0.00   \n",
       "2015-06-01                      211044000.00       -188019000.00 23025000.00   \n",
       "2015-12-01                      117946000.00        -95441000.00 22505000.00   \n",
       "2016-06-01                      253588000.00       -207574000.00 46014000.00   \n",
       "2016-12-01                      124585000.00       -109832000.00 14753000.00   \n",
       "\n",
       "Item        Depreciation  Amortisation  Depreciation and Amortisation  \\\n",
       "2014-12-01          0.00          0.00                           0.00   \n",
       "2015-06-01   -3858000.00    -728000.00                    -4586000.00   \n",
       "2015-12-01   -2593000.00          0.00                    -2593000.00   \n",
       "2016-06-01   -4649000.00    -617000.00                    -5266000.00   \n",
       "2016-12-01   -2751000.00          0.00                    -2751000.00   \n",
       "\n",
       "Item              EBIT  Interest Revenue  ...  \\\n",
       "2014-12-01        0.00              0.00  ...   \n",
       "2015-06-01 18439000.00         445000.00  ...   \n",
       "2015-12-01 19912000.00          24000.00  ...   \n",
       "2016-06-01 40748000.00          81000.00  ...   \n",
       "2016-12-01 12002000.00          46000.00  ...   \n",
       "\n",
       "Item        Net Profit after Tax Before Abnormals  Abnormals  Abnormals Tax  \\\n",
       "2014-12-01                                   0.00       0.00           0.00   \n",
       "2015-06-01                             2942000.00       0.00           0.00   \n",
       "2015-12-01                            13254000.00       0.00           0.00   \n",
       "2016-06-01                            27172000.00       0.00           0.00   \n",
       "2016-12-01                             8581000.00       0.00           0.00   \n",
       "\n",
       "Item        Net Abnormals  Reported NPAT After Abnormals  \\\n",
       "2014-12-01           0.00                           0.00   \n",
       "2015-06-01           0.00                      745000.00   \n",
       "2015-12-01           0.00                    13254000.00   \n",
       "2016-06-01           0.00                    27172000.00   \n",
       "2016-12-01           0.00                     8581000.00   \n",
       "\n",
       "Item        Outside Equity Interests  Shares Outstanding at Period End  \\\n",
       "2014-12-01                      0.00                      165874785.00   \n",
       "2015-06-01                      0.00                      165875000.00   \n",
       "2015-12-01                      0.00                      165874785.00   \n",
       "2016-06-01                      0.00                      165875000.00   \n",
       "2016-12-01                      0.00                      165874785.00   \n",
       "\n",
       "Item        Weighted Average Number of Shares  EPS Adjusted (cents/share)  \\\n",
       "2014-12-01                               0.00                        0.00   \n",
       "2015-06-01                       151471000.00                        1.94   \n",
       "2015-12-01                       165875000.00                        7.99   \n",
       "2016-06-01                       165875000.00                       16.38   \n",
       "2016-12-01                       165875000.00                        5.17   \n",
       "\n",
       "Item        EPS After Abnormals (cents/share)  \n",
       "2014-12-01                               0.00  \n",
       "2015-06-01                               0.49  \n",
       "2015-12-01                               7.99  \n",
       "2016-06-01                              16.38  \n",
       "2016-12-01                               5.17  \n",
       "\n",
       "[5 rows x 24 columns]"
      ]
     },
     "execution_count": 13,
     "metadata": {},
     "output_type": "execute_result"
    }
   ],
   "source": [
    "workbooks_combined['ADH']['Profit Loss'].head()"
   ]
  },
  {
   "cell_type": "markdown",
   "metadata": {},
   "source": [
    "### Removing correlated features (WIP)"
   ]
  },
  {
   "cell_type": "code",
   "execution_count": 14,
   "metadata": {},
   "outputs": [
    {
     "name": "stdout",
     "output_type": "stream",
     "text": [
      "22\n"
     ]
    },
    {
     "data": {
      "text/plain": [
       "{'Abnormals',\n",
       " 'Amortisation',\n",
       " 'Depreciation',\n",
       " 'Depreciation and Amortisation',\n",
       " 'EBIT',\n",
       " 'EBITDA',\n",
       " 'EPS Adjusted (cents/share)',\n",
       " 'EPS After Abnormals (cents/share)',\n",
       " 'Interest Expense',\n",
       " 'Interest Revenue',\n",
       " 'Net Abnormals',\n",
       " 'Net Interest Expense',\n",
       " 'Net Profit after Tax Before Abnormals',\n",
       " 'Operating Expenses',\n",
       " 'Operating Revenue',\n",
       " 'Other Revenue',\n",
       " 'PreTax Profit',\n",
       " 'Reported NPAT After Abnormals',\n",
       " 'Shares Outstanding at Period End',\n",
       " 'Tax Expense',\n",
       " 'Total Revenue Excluding Interest',\n",
       " 'Weighted Average Number of Shares'}"
      ]
     },
     "execution_count": 14,
     "metadata": {},
     "output_type": "execute_result"
    },
    {
     "data": {
      "text/plain": [
       "<Figure size 720x720 with 0 Axes>"
      ]
     },
     "metadata": {},
     "output_type": "display_data"
    }
   ],
   "source": [
    "plt.figure(figsize=(10, 10))\n",
    "cm = workbooks_separated['ADH']['FY']['Profit Loss'].corr().abs()\n",
    "cm_sort = cm.unstack()\n",
    "cm_sort = cm_sort.sort_values(kind=\"quicksort\", ascending=False)\n",
    "\n",
    "cm_sort = cm_sort[cm_sort == 1]\n",
    "\n",
    "cm_sort.head()\n",
    "\n",
    "uncorr_items = set()\n",
    "\n",
    "for multidx in cm_sort.index:\n",
    "    uncorr_items.add(multidx[0])\n",
    "    uncorr_items.add(multidx[1])\n",
    "    \n",
    "print(len(uncorr_items))\n",
    "uncorr_items    \n"
   ]
  },
  {
   "cell_type": "markdown",
   "metadata": {},
   "source": [
    "## Ratio Analysis"
   ]
  },
  {
   "cell_type": "markdown",
   "metadata": {},
   "source": [
    "## Beneish M Score Calculation and Plots"
   ]
  },
  {
   "cell_type": "markdown",
   "metadata": {},
   "source": [
    "### DSRI"
   ]
  },
  {
   "cell_type": "code",
   "execution_count": 55,
   "metadata": {},
   "outputs": [],
   "source": [
    "def calc_DSRI(company):\n",
    "    res = {}\n",
    "    days_receivables = company['Ratio Analysis']['Days Receivables']\n",
    "    for row in range(1, len(days_receivables)):\n",
    "        t1 = days_receivables.iloc[row]\n",
    "        t0 = days_receivables.iloc[row-1]\n",
    "        \n",
    "        if t1 != 0 and t0 != 0:\n",
    "            res[days_receivables.index[row]] = t1/t0\n",
    "        else:\n",
    "            res[days_receivables.index[row]] = np.nan\n",
    "    return pd.Series(res)"
   ]
  },
  {
   "cell_type": "code",
   "execution_count": 57,
   "metadata": {},
   "outputs": [
    {
     "data": {
      "text/plain": [
       "<AxesSubplot:>"
      ]
     },
     "execution_count": 57,
     "metadata": {},
     "output_type": "execute_result"
    },
    {
     "data": {
      "image/png": "[encoded data removed]",
      "text/plain": [
       "<Figure size 432x288 with 1 Axes>"
      ]
     },
     "metadata": {
      "needs_background": "light"
     },
     "output_type": "display_data"
    }
   ],
   "source": [
    "calc_DSRI(workbooks_separated['ADH']['FY']).plot()"
   ]
  },
  {
   "cell_type": "code",
   "execution_count": 58,
   "metadata": {},
   "outputs": [
    {
     "data": {
      "text/plain": [
       "<AxesSubplot:>"
      ]
     },
     "execution_count": 58,
     "metadata": {},
     "output_type": "execute_result"
    },
    {
     "data": {
      "image/png": "[encoded data removed]",
      "text/plain": [
       "<Figure size 432x288 with 1 Axes>"
      ]
     },
     "metadata": {
      "needs_background": "light"
     },
     "output_type": "display_data"
    }
   ],
   "source": [
    "calc_DSRI(workbooks_separated['ADH']['HY']).plot()"
   ]
  },
  {
   "cell_type": "markdown",
   "metadata": {},
   "source": [
    "Full Yearly Data only has one value 0.97 focused to look at the Days Receivables instead"
   ]
  },
  {
   "cell_type": "code",
   "execution_count": null,
   "metadata": {},
   "outputs": [],
   "source": []
  },
  {
   "cell_type": "markdown",
   "metadata": {},
   "source": [
    "### GMI"
   ]
  },
  {
   "cell_type": "code",
   "execution_count": 60,
   "metadata": {},
   "outputs": [],
   "source": [
    "def calc_GMI(company):\n",
    "    res = {}\n",
    "    days_receivables = company['Ratio Analysis']['Net Profit Margin (%)']\n",
    "    for row in range(1, len(days_receivables)):\n",
    "        t1 = days_receivables.iloc[row]\n",
    "        t0 = days_receivables.iloc[row-1]\n",
    "        \n",
    "        if t1 != 0 and t0 != 0:\n",
    "            res[days_receivables.index[row]] = t1/t0\n",
    "        else:\n",
    "            res[days_receivables.index[row]] = np.nan\n",
    "    return pd.Series(res)"
   ]
  },
  {
   "cell_type": "code",
   "execution_count": 71,
   "metadata": {},
   "outputs": [
    {
     "data": {
      "text/plain": [
       "<AxesSubplot:>"
      ]
     },
     "execution_count": 71,
     "metadata": {},
     "output_type": "execute_result"
    },
    {
     "data": {
      "image/png": "[encoded data removed]",
      "text/plain": [
       "<Figure size 432x288 with 1 Axes>"
      ]
     },
     "metadata": {
      "needs_background": "light"
     },
     "output_type": "display_data"
    }
   ],
   "source": [
    "calc_GMI(workbooks_separated['ADH']['FY']).plot()"
   ]
  },
  {
   "cell_type": "code",
   "execution_count": 72,
   "metadata": {},
   "outputs": [
    {
     "data": {
      "text/plain": [
       "<AxesSubplot:>"
      ]
     },
     "execution_count": 72,
     "metadata": {},
     "output_type": "execute_result"
    },
    {
     "data": {
      "image/png": "[encoded data removed]",
      "text/plain": [
       "<Figure size 432x288 with 1 Axes>"
      ]
     },
     "metadata": {
      "needs_background": "light"
     },
     "output_type": "display_data"
    }
   ],
   "source": [
    "calc_GMI(workbooks_separated['ADH']['HY']).plot()"
   ]
  },
  {
   "cell_type": "markdown",
   "metadata": {},
   "source": [
    "### AQI"
   ]
  },
  {
   "cell_type": "code",
   "execution_count": 29,
   "metadata": {
    "scrolled": true
   },
   "outputs": [
    {
     "data": {
      "text/plain": [
       "2014-12-01   0.95\n",
       "2015-06-01   0.83\n",
       "2016-06-01   0.82\n",
       "2017-06-01   0.84\n",
       "2018-06-01   0.83\n",
       "2019-06-01   0.77\n",
       "2020-06-01   1.10\n",
       "2021-06-01   1.01\n",
       "dtype: float64"
      ]
     },
     "execution_count": 29,
     "metadata": {},
     "output_type": "execute_result"
    }
   ],
   "source": [
    "(workbooks_separated['ADH']['FY']['Balance Sheet']['Total Assets'] - (workbooks_separated['ADH']['FY']['Balance Sheet']['Total Current Assets']-workbooks_separated['ADH']['FY']['Balance Sheet']['NCA - PP&E']))/workbooks_separated['ADH']['FY']['Balance Sheet']['Total Assets']"
   ]
  },
  {
   "cell_type": "code",
   "execution_count": 30,
   "metadata": {},
   "outputs": [
    {
     "data": {
      "text/plain": [
       "<AxesSubplot:>"
      ]
     },
     "execution_count": 30,
     "metadata": {},
     "output_type": "execute_result"
    },
    {
     "data": {
      "image/png": "[encoded data removed]",
      "text/plain": [
       "<Figure size 432x288 with 1 Axes>"
      ]
     },
     "metadata": {
      "needs_background": "light"
     },
     "output_type": "display_data"
    }
   ],
   "source": [
    "df =(workbooks_separated['ADH']['FY']['Balance Sheet']['Total Assets'] - (workbooks_separated['ADH']['FY']['Balance Sheet']['Total Current Assets']-workbooks_separated['ADH']['FY']['Balance Sheet']['NCA - PP&E']))/workbooks_separated['ADH']['FY']['Balance Sheet']['Total Assets']\n",
    "df.plot()"
   ]
  },
  {
   "cell_type": "markdown",
   "metadata": {},
   "source": [
    "### ADH HY"
   ]
  },
  {
   "cell_type": "code",
   "execution_count": 31,
   "metadata": {},
   "outputs": [
    {
     "data": {
      "text/plain": [
       "2015-12-01   0.82\n",
       "2016-12-01   0.84\n",
       "2017-12-01   0.83\n",
       "2018-12-01   0.78\n",
       "2019-12-01   1.09\n",
       "2020-12-01   1.03\n",
       "dtype: float64"
      ]
     },
     "execution_count": 31,
     "metadata": {},
     "output_type": "execute_result"
    }
   ],
   "source": [
    "(workbooks_separated['ADH']['HY']['Balance Sheet']['CL - Total Assets'] - (workbooks_separated['ADH']['HY']['Balance Sheet']['Total Current Assets']-workbooks_separated['ADH']['HY']['Balance Sheet']['NCA - PP&E']))/workbooks_separated['ADH']['HY']['Balance Sheet']['CL - Total Assets']"
   ]
  },
  {
   "cell_type": "code",
   "execution_count": 32,
   "metadata": {},
   "outputs": [
    {
     "data": {
      "text/plain": [
       "<AxesSubplot:>"
      ]
     },
     "execution_count": 32,
     "metadata": {},
     "output_type": "execute_result"
    },
    {
     "data": {
      "image/png": "[encoded data removed]",
      "text/plain": [
       "<Figure size 432x288 with 1 Axes>"
      ]
     },
     "metadata": {
      "needs_background": "light"
     },
     "output_type": "display_data"
    }
   ],
   "source": [
    "df =(workbooks_separated['ADH']['HY']['Balance Sheet']['CL - Total Assets'] - (workbooks_separated['ADH']['HY']['Balance Sheet']['Total Current Assets']-workbooks_separated['ADH']['HY']['Balance Sheet']['NCA - PP&E']))/workbooks_separated['ADH']['HY']['Balance Sheet']['CL - Total Assets']\n",
    "df.plot()"
   ]
  },
  {
   "cell_type": "code",
   "execution_count": null,
   "metadata": {},
   "outputs": [],
   "source": []
  },
  {
   "cell_type": "markdown",
   "metadata": {},
   "source": [
    "### SGI"
   ]
  },
  {
   "cell_type": "code",
   "execution_count": 63,
   "metadata": {},
   "outputs": [],
   "source": [
    "def calc_SGI(company):\n",
    "    res = {}\n",
    "    days_receivables = company['Profit Loss']['Total Revenue Excluding Interest']\n",
    "    for row in range(1, len(days_receivables)):\n",
    "        t1 = days_receivables.iloc[row]\n",
    "        t0 = days_receivables.iloc[row-1]\n",
    "        \n",
    "        if t1 != 0 and t0 != 0:\n",
    "            res[days_receivables.index[row]] = t1/t0\n",
    "        else:\n",
    "            res[days_receivables.index[row]] = np.nan\n",
    "    return pd.Series(res)"
   ]
  },
  {
   "cell_type": "code",
   "execution_count": 67,
   "metadata": {},
   "outputs": [
    {
     "data": {
      "text/plain": [
       "<AxesSubplot:>"
      ]
     },
     "execution_count": 67,
     "metadata": {},
     "output_type": "execute_result"
    },
    {
     "data": {
      "image/png": "[encoded data removed]",
      "text/plain": [
       "<Figure size 432x288 with 1 Axes>"
      ]
     },
     "metadata": {
      "needs_background": "light"
     },
     "output_type": "display_data"
    }
   ],
   "source": [
    "calc_SGI(workbooks_separated['ADH']['FY']).plot()"
   ]
  },
  {
   "cell_type": "code",
   "execution_count": 68,
   "metadata": {},
   "outputs": [
    {
     "data": {
      "text/plain": [
       "<AxesSubplot:>"
      ]
     },
     "execution_count": 68,
     "metadata": {},
     "output_type": "execute_result"
    },
    {
     "data": {
      "image/png": "[encoded data removed]",
      "text/plain": [
       "<Figure size 432x288 with 1 Axes>"
      ]
     },
     "metadata": {
      "needs_background": "light"
     },
     "output_type": "display_data"
    }
   ],
   "source": [
    "calc_SGI(workbooks_separated['ADH']['HY']).plot()"
   ]
  },
  {
   "cell_type": "markdown",
   "metadata": {},
   "source": [
    "### DEPI"
   ]
  },
  {
   "cell_type": "code",
   "execution_count": 66,
   "metadata": {},
   "outputs": [],
   "source": [
    "def calc_DEPI(company):\n",
    "    res = {}\n",
    "    days_receivables = company['Profit Loss']['Total Revenue Excluding Interest']\n",
    "    for row in range(1, len(days_receivables)):\n",
    "        t1 = days_receivables.iloc[row]\n",
    "        t0 = days_receivables.iloc[row-1]\n",
    "        \n",
    "        if t1 != 0 and t0 != 0:\n",
    "            res[days_receivables.index[row]] = t0/t1\n",
    "        else:\n",
    "            res[days_receivables.index[row]] = np.nan\n",
    "    return pd.Series(res)"
   ]
  },
  {
   "cell_type": "code",
   "execution_count": 69,
   "metadata": {},
   "outputs": [
    {
     "data": {
      "text/plain": [
       "<AxesSubplot:>"
      ]
     },
     "execution_count": 69,
     "metadata": {},
     "output_type": "execute_result"
    },
    {
     "data": {
      "image/png": "[encoded data removed]",
      "text/plain": [
       "<Figure size 432x288 with 1 Axes>"
      ]
     },
     "metadata": {
      "needs_background": "light"
     },
     "output_type": "display_data"
    }
   ],
   "source": [
    "calc_DEPI(workbooks_separated['ADH']['FY']).plot()"
   ]
  },
  {
   "cell_type": "code",
   "execution_count": 70,
   "metadata": {},
   "outputs": [
    {
     "data": {
      "text/plain": [
       "<AxesSubplot:>"
      ]
     },
     "execution_count": 70,
     "metadata": {},
     "output_type": "execute_result"
    },
    {
     "data": {
      "image/png": "[encoded data removed]",
      "text/plain": [
       "<Figure size 432x288 with 1 Axes>"
      ]
     },
     "metadata": {
      "needs_background": "light"
     },
     "output_type": "display_data"
    }
   ],
   "source": [
    "calc_DEPI(workbooks_separated['ADH']['HY']).plot()"
   ]
  },
  {
   "cell_type": "code",
   "execution_count": 41,
   "metadata": {},
   "outputs": [
    {
     "data": {
      "text/plain": [
       "0   0.94\n",
       "1   0.83\n",
       "2   0.88\n",
       "3   0.25\n",
       "4   0.72\n",
       "dtype: float64"
      ]
     },
     "execution_count": 41,
     "metadata": {},
     "output_type": "execute_result"
    }
   ],
   "source": [
    "calc_DEPI(workbooks_separated['ADH']['HY']['Profit Loss']['Depreciation'])"
   ]
  },
  {
   "cell_type": "code",
   "execution_count": 42,
   "metadata": {},
   "outputs": [
    {
     "data": {
      "text/plain": [
       "<AxesSubplot:>"
      ]
     },
     "execution_count": 42,
     "metadata": {},
     "output_type": "execute_result"
    },
    {
     "data": {
      "image/png": "[encoded data removed]",
      "text/plain": [
       "<Figure size 432x288 with 1 Axes>"
      ]
     },
     "metadata": {
      "needs_background": "light"
     },
     "output_type": "display_data"
    }
   ],
   "source": [
    "calc_DEPI(workbooks_separated['ADH']['HY']['Profit Loss']['Depreciation']).plot()"
   ]
  },
  {
   "cell_type": "markdown",
   "metadata": {},
   "source": [
    "### SGAI"
   ]
  },
  {
   "cell_type": "code",
   "execution_count": 73,
   "metadata": {},
   "outputs": [],
   "source": [
    "def calc_SGAI(company):\n",
    "    res = {}\n",
    "    days_receivables = company['Profit Loss']['Total Revenue Excluding Interest']\n",
    "    for row in range(1, len(days_receivables)):\n",
    "        t1 = days_receivables.iloc[row]\n",
    "        t0 = days_receivables.iloc[row-1]\n",
    "        \n",
    "        if t1 != 0 and t0 != 0:\n",
    "            res[days_receivables.index[row]] = t1/t0\n",
    "        else:\n",
    "            res[days_receivables.index[row]] = np.nan\n",
    "    return pd.Series(res)"
   ]
  },
  {
   "cell_type": "code",
   "execution_count": 74,
   "metadata": {},
   "outputs": [
    {
     "data": {
      "text/plain": [
       "<AxesSubplot:>"
      ]
     },
     "execution_count": 74,
     "metadata": {},
     "output_type": "execute_result"
    },
    {
     "data": {
      "image/png": "[encoded data removed]",
      "text/plain": [
       "<Figure size 432x288 with 1 Axes>"
      ]
     },
     "metadata": {
      "needs_background": "light"
     },
     "output_type": "display_data"
    }
   ],
   "source": [
    "calc_SGAI(workbooks_separated['ADH']['FY']).plot()"
   ]
  },
  {
   "cell_type": "code",
   "execution_count": 75,
   "metadata": {},
   "outputs": [
    {
     "data": {
      "text/plain": [
       "<AxesSubplot:>"
      ]
     },
     "execution_count": 75,
     "metadata": {},
     "output_type": "execute_result"
    },
    {
     "data": {
      "image/png": "[encoded data removed]",
      "text/plain": [
       "<Figure size 432x288 with 1 Axes>"
      ]
     },
     "metadata": {
      "needs_background": "light"
     },
     "output_type": "display_data"
    }
   ],
   "source": [
    "calc_SGAI(workbooks_separated['ADH']['HY']).plot()"
   ]
  },
  {
   "cell_type": "markdown",
   "metadata": {},
   "source": [
    "### TATA"
   ]
  },
  {
   "cell_type": "code",
   "execution_count": 76,
   "metadata": {},
   "outputs": [],
   "source": [
    "def calc_TATA(company):\n",
    "    resList = {}\n",
    "    for year in company['Profit Loss'].index:\n",
    "        incs = company['Profit Loss'].loc[year]\n",
    "        bs = company['Balance Sheet'].loc[year]\n",
    "        cf = company['Cash Flow'].loc[year]\n",
    "        \n",
    "        if 'PreTax Profit' not in incs or 'Net Operating Cashflows' not in cf or 'Net Investing Cashflows' not in cf or 'Total Assets' not in bs:\n",
    "            resList[year] = np.nan\n",
    "            continue\n",
    "\n",
    "        res = incs['PreTax Profit'] - cf['Net Operating Cashflows'] - cf['Net Investing Cashflows']\n",
    "        res = res / bs['Total Assets']\n",
    "        resList[year] = res\n",
    "\n",
    "    return pd.Series(resList)"
   ]
  },
  {
   "cell_type": "code",
   "execution_count": 77,
   "metadata": {},
   "outputs": [
    {
     "data": {
      "text/plain": [
       "<AxesSubplot:>"
      ]
     },
     "execution_count": 77,
     "metadata": {},
     "output_type": "execute_result"
    },
    {
     "data": {
      "image/png": "[encoded data removed]",
      "text/plain": [
       "<Figure size 432x288 with 1 Axes>"
      ]
     },
     "metadata": {
      "needs_background": "light"
     },
     "output_type": "display_data"
    }
   ],
   "source": [
    "calc_TATA(workbooks_combined['ADH']).plot()"
   ]
  },
  {
   "cell_type": "code",
   "execution_count": null,
   "metadata": {},
   "outputs": [],
   "source": []
  },
  {
   "cell_type": "markdown",
   "metadata": {},
   "source": [
    "### LVGI"
   ]
  },
  {
   "cell_type": "code",
   "execution_count": null,
   "metadata": {},
   "outputs": [],
   "source": []
  },
  {
   "cell_type": "code",
   "execution_count": null,
   "metadata": {},
   "outputs": [],
   "source": []
  },
  {
   "cell_type": "markdown",
   "metadata": {},
   "source": [
    "## Cluster Analysis"
   ]
  },
  {
   "cell_type": "code",
   "execution_count": 50,
   "metadata": {},
   "outputs": [
    {
     "data": {
      "text/plain": [
       "KMeans(n_clusters=3)"
      ]
     },
     "execution_count": 50,
     "metadata": {},
     "output_type": "execute_result"
    }
   ],
   "source": [
    "from sklearn.cluster import KMeans\n",
    "km = KMeans(n_clusters=3)\n",
    "km"
   ]
  },
  {
   "cell_type": "code",
   "execution_count": 51,
   "metadata": {},
   "outputs": [
    {
     "data": {
      "text/plain": [
       "array([2, 0, 0, 2, 0, 2, 0, 1])"
      ]
     },
     "execution_count": 51,
     "metadata": {},
     "output_type": "execute_result"
    }
   ],
   "source": [
    "y_predicted = km.fit_predict(workbooks_separated['ADH']['FY']['Ratio Analysis'])\n",
    "y_predicted"
   ]
  },
  {
   "cell_type": "code",
   "execution_count": 52,
   "metadata": {},
   "outputs": [
    {
     "data": {
      "text/html": [
       "<div>\n",
       "<style scoped>\n",
       "    .dataframe tbody tr th:only-of-type {\n",
       "        vertical-align: middle;\n",
       "    }\n",
       "\n",
       "    .dataframe tbody tr th {\n",
       "        vertical-align: top;\n",
       "    }\n",
       "\n",
       "    .dataframe thead th {\n",
       "        text-align: right;\n",
       "    }\n",
       "</style>\n",
       "<table border=\"1\" class=\"dataframe\">\n",
       "  <thead>\n",
       "    <tr style=\"text-align: right;\">\n",
       "      <th>Item</th>\n",
       "      <th>Net Profit Margin (%)</th>\n",
       "      <th>EBIT Margin (%)</th>\n",
       "      <th>EBITA Margin (%)</th>\n",
       "      <th>EBITDA Margin (%)</th>\n",
       "      <th>ROE (%)</th>\n",
       "      <th>ROA (%)</th>\n",
       "      <th>ROIC (%)</th>\n",
       "      <th>NOPLAT Margin (%)</th>\n",
       "      <th>Invested Capital Turnover</th>\n",
       "      <th>Inventory Turnover</th>\n",
       "      <th>...</th>\n",
       "      <th>Net Debt</th>\n",
       "      <th>Enterprise Value</th>\n",
       "      <th>EV/EBITDA</th>\n",
       "      <th>EV/EBIT</th>\n",
       "      <th>Market Cap./Rep NPAT</th>\n",
       "      <th>Market Cap./Trading Rev.</th>\n",
       "      <th>Price/Book Value</th>\n",
       "      <th>Price/Gross Cash Flow</th>\n",
       "      <th>PER</th>\n",
       "      <th>Cluster Number</th>\n",
       "    </tr>\n",
       "  </thead>\n",
       "  <tbody>\n",
       "    <tr>\n",
       "      <th>2014-12-01</th>\n",
       "      <td>0.00</td>\n",
       "      <td>0.00</td>\n",
       "      <td>0.00</td>\n",
       "      <td>0.00</td>\n",
       "      <td>0.00</td>\n",
       "      <td>0.00</td>\n",
       "      <td>0.00</td>\n",
       "      <td>0.00</td>\n",
       "      <td>0.00</td>\n",
       "      <td>0.00</td>\n",
       "      <td>...</td>\n",
       "      <td>53116000.00</td>\n",
       "      <td>53116000.00</td>\n",
       "      <td>0.00</td>\n",
       "      <td>0.00</td>\n",
       "      <td>0.00</td>\n",
       "      <td>0.00</td>\n",
       "      <td>0.00</td>\n",
       "      <td>0.00</td>\n",
       "      <td>0.00</td>\n",
       "      <td>2</td>\n",
       "    </tr>\n",
       "    <tr>\n",
       "      <th>2015-06-01</th>\n",
       "      <td>1.40</td>\n",
       "      <td>8.74</td>\n",
       "      <td>9.09</td>\n",
       "      <td>10.92</td>\n",
       "      <td>7.55</td>\n",
       "      <td>16.43</td>\n",
       "      <td>50.68</td>\n",
       "      <td>6.33</td>\n",
       "      <td>8.01</td>\n",
       "      <td>18.14</td>\n",
       "      <td>...</td>\n",
       "      <td>32242000.00</td>\n",
       "      <td>473469500.00</td>\n",
       "      <td>41.13</td>\n",
       "      <td>51.36</td>\n",
       "      <td>1184.50</td>\n",
       "      <td>4.18</td>\n",
       "      <td>5.66</td>\n",
       "      <td>50.45</td>\n",
       "      <td>274.23</td>\n",
       "      <td>0</td>\n",
       "    </tr>\n",
       "    <tr>\n",
       "      <th>2016-06-01</th>\n",
       "      <td>10.73</td>\n",
       "      <td>16.09</td>\n",
       "      <td>16.34</td>\n",
       "      <td>18.17</td>\n",
       "      <td>28.43</td>\n",
       "      <td>16.68</td>\n",
       "      <td>44.70</td>\n",
       "      <td>11.51</td>\n",
       "      <td>3.88</td>\n",
       "      <td>9.64</td>\n",
       "      <td>...</td>\n",
       "      <td>27124000.00</td>\n",
       "      <td>436835250.00</td>\n",
       "      <td>9.49</td>\n",
       "      <td>10.72</td>\n",
       "      <td>15.08</td>\n",
       "      <td>1.62</td>\n",
       "      <td>4.29</td>\n",
       "      <td>12.13</td>\n",
       "      <td>15.08</td>\n",
       "      <td>0</td>\n",
       "    </tr>\n",
       "    <tr>\n",
       "      <th>2017-06-01</th>\n",
       "      <td>7.93</td>\n",
       "      <td>11.63</td>\n",
       "      <td>11.90</td>\n",
       "      <td>13.85</td>\n",
       "      <td>20.95</td>\n",
       "      <td>11.61</td>\n",
       "      <td>39.76</td>\n",
       "      <td>8.70</td>\n",
       "      <td>4.57</td>\n",
       "      <td>8.03</td>\n",
       "      <td>...</td>\n",
       "      <td>27598000.00</td>\n",
       "      <td>170250500.00</td>\n",
       "      <td>4.64</td>\n",
       "      <td>5.53</td>\n",
       "      <td>6.79</td>\n",
       "      <td>0.54</td>\n",
       "      <td>1.42</td>\n",
       "      <td>5.20</td>\n",
       "      <td>6.79</td>\n",
       "      <td>2</td>\n",
       "    </tr>\n",
       "    <tr>\n",
       "      <th>2018-06-01</th>\n",
       "      <td>9.71</td>\n",
       "      <td>14.38</td>\n",
       "      <td>14.73</td>\n",
       "      <td>16.55</td>\n",
       "      <td>26.30</td>\n",
       "      <td>16.21</td>\n",
       "      <td>55.88</td>\n",
       "      <td>10.38</td>\n",
       "      <td>5.38</td>\n",
       "      <td>9.38</td>\n",
       "      <td>...</td>\n",
       "      <td>12237000.00</td>\n",
       "      <td>382138250.00</td>\n",
       "      <td>7.34</td>\n",
       "      <td>8.44</td>\n",
       "      <td>12.10</td>\n",
       "      <td>1.18</td>\n",
       "      <td>3.18</td>\n",
       "      <td>9.60</td>\n",
       "      <td>12.19</td>\n",
       "      <td>0</td>\n",
       "    </tr>\n",
       "    <tr>\n",
       "      <th>2019-06-01</th>\n",
       "      <td>8.61</td>\n",
       "      <td>12.61</td>\n",
       "      <td>12.99</td>\n",
       "      <td>14.85</td>\n",
       "      <td>25.05</td>\n",
       "      <td>14.51</td>\n",
       "      <td>56.06</td>\n",
       "      <td>9.22</td>\n",
       "      <td>6.08</td>\n",
       "      <td>8.05</td>\n",
       "      <td>...</td>\n",
       "      <td>8241000.00</td>\n",
       "      <td>243783500.00</td>\n",
       "      <td>4.77</td>\n",
       "      <td>5.61</td>\n",
       "      <td>7.95</td>\n",
       "      <td>0.68</td>\n",
       "      <td>1.99</td>\n",
       "      <td>6.18</td>\n",
       "      <td>7.95</td>\n",
       "      <td>2</td>\n",
       "    </tr>\n",
       "    <tr>\n",
       "      <th>2020-06-01</th>\n",
       "      <td>10.07</td>\n",
       "      <td>16.16</td>\n",
       "      <td>16.34</td>\n",
       "      <td>26.26</td>\n",
       "      <td>27.86</td>\n",
       "      <td>11.19</td>\n",
       "      <td>32.09</td>\n",
       "      <td>11.36</td>\n",
       "      <td>2.82</td>\n",
       "      <td>8.96</td>\n",
       "      <td>...</td>\n",
       "      <td>115605000.00</td>\n",
       "      <td>504482272.00</td>\n",
       "      <td>4.94</td>\n",
       "      <td>8.03</td>\n",
       "      <td>11.02</td>\n",
       "      <td>1.00</td>\n",
       "      <td>2.77</td>\n",
       "      <td>4.67</td>\n",
       "      <td>10.01</td>\n",
       "      <td>0</td>\n",
       "    </tr>\n",
       "    <tr>\n",
       "      <th>2021-06-01</th>\n",
       "      <td>13.49</td>\n",
       "      <td>21.28</td>\n",
       "      <td>21.56</td>\n",
       "      <td>30.20</td>\n",
       "      <td>40.93</td>\n",
       "      <td>17.50</td>\n",
       "      <td>58.14</td>\n",
       "      <td>14.80</td>\n",
       "      <td>3.93</td>\n",
       "      <td>7.35</td>\n",
       "      <td>...</td>\n",
       "      <td>81224000.00</td>\n",
       "      <td>799801568.00</td>\n",
       "      <td>5.30</td>\n",
       "      <td>7.52</td>\n",
       "      <td>11.27</td>\n",
       "      <td>1.44</td>\n",
       "      <td>4.36</td>\n",
       "      <td>6.04</td>\n",
       "      <td>11.01</td>\n",
       "      <td>1</td>\n",
       "    </tr>\n",
       "  </tbody>\n",
       "</table>\n",
       "<p>8 rows × 51 columns</p>\n",
       "</div>"
      ],
      "text/plain": [
       "Item        Net Profit Margin (%)  EBIT Margin (%)  EBITA Margin (%)  \\\n",
       "2014-12-01                   0.00             0.00              0.00   \n",
       "2015-06-01                   1.40             8.74              9.09   \n",
       "2016-06-01                  10.73            16.09             16.34   \n",
       "2017-06-01                   7.93            11.63             11.90   \n",
       "2018-06-01                   9.71            14.38             14.73   \n",
       "2019-06-01                   8.61            12.61             12.99   \n",
       "2020-06-01                  10.07            16.16             16.34   \n",
       "2021-06-01                  13.49            21.28             21.56   \n",
       "\n",
       "Item        EBITDA Margin (%)  ROE (%)  ROA (%)  ROIC (%)  NOPLAT Margin (%)  \\\n",
       "2014-12-01               0.00     0.00     0.00      0.00               0.00   \n",
       "2015-06-01              10.92     7.55    16.43     50.68               6.33   \n",
       "2016-06-01              18.17    28.43    16.68     44.70              11.51   \n",
       "2017-06-01              13.85    20.95    11.61     39.76               8.70   \n",
       "2018-06-01              16.55    26.30    16.21     55.88              10.38   \n",
       "2019-06-01              14.85    25.05    14.51     56.06               9.22   \n",
       "2020-06-01              26.26    27.86    11.19     32.09              11.36   \n",
       "2021-06-01              30.20    40.93    17.50     58.14              14.80   \n",
       "\n",
       "Item        Invested Capital Turnover  Inventory Turnover  ...     Net Debt  \\\n",
       "2014-12-01                       0.00                0.00  ...  53116000.00   \n",
       "2015-06-01                       8.01               18.14  ...  32242000.00   \n",
       "2016-06-01                       3.88                9.64  ...  27124000.00   \n",
       "2017-06-01                       4.57                8.03  ...  27598000.00   \n",
       "2018-06-01                       5.38                9.38  ...  12237000.00   \n",
       "2019-06-01                       6.08                8.05  ...   8241000.00   \n",
       "2020-06-01                       2.82                8.96  ... 115605000.00   \n",
       "2021-06-01                       3.93                7.35  ...  81224000.00   \n",
       "\n",
       "Item        Enterprise Value  EV/EBITDA  EV/EBIT  Market Cap./Rep NPAT  \\\n",
       "2014-12-01       53116000.00       0.00     0.00                  0.00   \n",
       "2015-06-01      473469500.00      41.13    51.36               1184.50   \n",
       "2016-06-01      436835250.00       9.49    10.72                 15.08   \n",
       "2017-06-01      170250500.00       4.64     5.53                  6.79   \n",
       "2018-06-01      382138250.00       7.34     8.44                 12.10   \n",
       "2019-06-01      243783500.00       4.77     5.61                  7.95   \n",
       "2020-06-01      504482272.00       4.94     8.03                 11.02   \n",
       "2021-06-01      799801568.00       5.30     7.52                 11.27   \n",
       "\n",
       "Item        Market Cap./Trading Rev.  Price/Book Value  Price/Gross Cash Flow  \\\n",
       "2014-12-01                      0.00              0.00                   0.00   \n",
       "2015-06-01                      4.18              5.66                  50.45   \n",
       "2016-06-01                      1.62              4.29                  12.13   \n",
       "2017-06-01                      0.54              1.42                   5.20   \n",
       "2018-06-01                      1.18              3.18                   9.60   \n",
       "2019-06-01                      0.68              1.99                   6.18   \n",
       "2020-06-01                      1.00              2.77                   4.67   \n",
       "2021-06-01                      1.44              4.36                   6.04   \n",
       "\n",
       "Item          PER  Cluster Number  \n",
       "2014-12-01   0.00               2  \n",
       "2015-06-01 274.23               0  \n",
       "2016-06-01  15.08               0  \n",
       "2017-06-01   6.79               2  \n",
       "2018-06-01  12.19               0  \n",
       "2019-06-01   7.95               2  \n",
       "2020-06-01  10.01               0  \n",
       "2021-06-01  11.01               1  \n",
       "\n",
       "[8 rows x 51 columns]"
      ]
     },
     "execution_count": 52,
     "metadata": {},
     "output_type": "execute_result"
    }
   ],
   "source": [
    "workbooks_separated['ADH']['FY']['Ratio Analysis']['Cluster Number'] = y_predicted\n",
    "workbooks_separated['ADH']['FY']['Ratio Analysis'].head(8)\n"
   ]
  },
  {
   "cell_type": "code",
   "execution_count": 53,
   "metadata": {},
   "outputs": [
    {
     "data": {
      "text/plain": [
       "<AxesSubplot:>"
      ]
     },
     "execution_count": 53,
     "metadata": {},
     "output_type": "execute_result"
    },
    {
     "data": {
      "image/png": "[encoded data removed]",
      "text/plain": [
       "<Figure size 432x288 with 1 Axes>"
      ]
     },
     "metadata": {
      "needs_background": "light"
     },
     "output_type": "display_data"
    }
   ],
   "source": [
    "workbooks_separated['ADH']['FY']['Ratio Analysis']['Cluster Number'].plot()"
   ]
  },
  {
   "cell_type": "code",
   "execution_count": 54,
   "metadata": {},
   "outputs": [
    {
     "ename": "SyntaxError",
     "evalue": "invalid syntax (<ipython-input-54-f2a9d17d963c>, line 1)",
     "output_type": "error",
     "traceback": [
      "\u001b[1;36m  File \u001b[1;32m\"<ipython-input-54-f2a9d17d963c>\"\u001b[1;36m, line \u001b[1;32m1\u001b[0m\n\u001b[1;33m    df_by_cluster = sns.lmplot(,'Days Receivables', data = workbooks_separated['ADH']['FY']['Ratio Analysis'], fit_reg=False, hue='Cluster Number')\u001b[0m\n\u001b[1;37m                               ^\u001b[0m\n\u001b[1;31mSyntaxError\u001b[0m\u001b[1;31m:\u001b[0m invalid syntax\n"
     ]
    }
   ],
   "source": [
    "df_by_cluster = sns.lmplot(,'Days Receivables', data = workbooks_separated['ADH']['FY']['Ratio Analysis'], fit_reg=False, hue='Cluster Number')\n"
   ]
  },
  {
   "cell_type": "code",
   "execution_count": null,
   "metadata": {},
   "outputs": [],
   "source": [
    "df_by_cluster = sns.lmplot('Net Profit Margin (%)','Days Receivables', data = workbooks_separated['ADH']['FY']['Ratio Analysis'], fit_reg=False, hue='Cluster Number')\n"
   ]
  },
  {
   "cell_type": "code",
   "execution_count": null,
   "metadata": {},
   "outputs": [],
   "source": [
    "test = workbooks_separated['ADH']['FY']['Ratio Analysis'].reset_index().melt('index', var_name='cols',  value_name='Days Receiables')\n",
    "test = test[test['cols'] == 'Days Receivables']\n",
    "test['index'] = test['index'].dt.strftime(\"%m/%d/%y\")\n",
    "test.head()\n",
    "df_cluster = sns.lmplot(x=\"index\", y=\"Days Receivables\", data=test, fit_reg=False, hue='Cluster Number')\n",
    "df_cluster.set_xticklabels(rotation=30, ha='right')"
   ]
  },
  {
   "cell_type": "code",
   "execution_count": null,
   "metadata": {},
   "outputs": [],
   "source": []
  }
 ],
 "metadata": {
  "kernelspec": {
   "display_name": "Python 3",
   "language": "python",
   "name": "python3"
  },
  "language_info": {
   "codemirror_mode": {
    "name": "ipython",
    "version": 3
   },
   "file_extension": ".py",
   "mimetype": "text/x-python",
   "name": "python",
   "nbconvert_exporter": "python",
   "pygments_lexer": "ipython3",
   "version": "3.8.5"
  }
 },
 "nbformat": 4,
 "nbformat_minor": 5
}
